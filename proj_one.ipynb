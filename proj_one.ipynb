{
 "cells": [
  {
   "cell_type": "markdown",
   "id": "minor-subscriber",
   "metadata": {},
   "source": [
    "# Preamble\n",
    " - Title: Covid 19 Infection and Deaths by State\n",
    " - Author: Lucas Nieddu\n",
    " - Contact Info: lnieddu@msudenver.edu\n",
    " -  Date: September 26th, 2021"
   ]
  },
  {
   "cell_type": "markdown",
   "id": "floral-sculpture",
   "metadata": {},
   "source": [
    "# Introduction"
   ]
  },
  {
   "cell_type": "markdown",
   "id": "occupational-questionnaire",
   "metadata": {},
   "source": [
    " - This data explores the number of cases AND the number of deaths of each state due to Covid-19. The data will primarily focus on the percentage of people who died to the number of cases in each state. This data is as recent as the 25th of September of 2021."
   ]
  },
  {
   "cell_type": "markdown",
   "id": "jewish-choice",
   "metadata": {},
   "source": [
    "# Dataset\n",
    "  - Data Collected from the below source:\n",
    "      - URL: https://usafacts.org/visualizations/coronavirus-covid-19-spread-map\n",
    "  - The data set was collected using web scraping techniques to analyze the impact of COVID-19 by state. The source code where the data was scraped was organized in two parts with three columns. In order to validate the data, I checked the state websites to compare the data. It would be interesting to compare the state data to this websites data. Maybe another part of the project at a later date.\n",
    "      - First Part: Number of Cases\n",
    "          - column 1: \"@type\"\n",
    "              - Description: The form of the statement (i.e the form of a \"Question\")\n",
    "          - column 2: \"name\"\n",
    "              - Description: The name of the state in question\n",
    "          - column 3: \"acceptedAnswer\n",
    "              - Description: The number of cases in state\n",
    "      - Second Part: Number of Deaths\n",
    "          - column 1: \"@type\"\n",
    "              - Description: The form of the statement (i.e the form of a \"Question\")\n",
    "          - column 2: \"name\"\n",
    "              - Description: The name of the state in question\n",
    "          - column 3: \"acceptedAnswer\"\n",
    "              - Description: The number of deaths in state\n",
    "          \n",
    "  - Tools/libraries used:\n",
    "      - BeautifulSoup\n",
    "      - json\n",
    "      - requests\n",
    "      - pandas\n",
    "      - numpy\n",
    "      - matplotlib\n",
    "      - seaborn\n",
    "      \n",
    "  - Example source code from website(what was scraped):\n",
    "      - \"script data-react-helmet=\"true\" type=\"application/ld+json\">{\"@context\":\"https://schema.org\",\"@type\":\"FAQPage\",\"mainEntity\":[{\"@type\":\"Question\",\"name\":\"How many COVID-19 cases are there in Alabama state?\",\"acceptedAnswer\":{\"@type\":\"Answer\",\"text\":784484}\n",
    "     "
   ]
  },
  {
   "cell_type": "markdown",
   "id": "decimal-tribute",
   "metadata": {},
   "source": [
    "## Data Collection Code"
   ]
  },
  {
   "cell_type": "code",
   "execution_count": 2,
   "id": "celtic-visibility",
   "metadata": {},
   "outputs": [
    {
     "name": "stdout",
     "output_type": "stream",
     "text": [
      "Index(['@type', 'name', 'acceptedAnswer'], dtype='object')\n"
     ]
    }
   ],
   "source": [
    "# CS390Z - Introduction to Data Minining - Fall 2021\n",
    "# Instructor: Thyago Mota\n",
    "# Description: data collection\n",
    "\n",
    "# Web Scraping Tools\n",
    "import requests\n",
    "import json\n",
    "from bs4 import BeautifulSoup\n",
    "\n",
    "# General python data import libraries\n",
    "import pandas as pd\n",
    "import numpy as np\n",
    "\n",
    "# Graphing libraries\n",
    "import matplotlib.pyplot as plt\n",
    "import seaborn as sns\n",
    "\n",
    "# This is the URL where the data will be extracted\n",
    "URL = 'https://usafacts.org/visualizations/coronavirus-covid-19-spread-map'\n",
    "\n",
    "# Sending the request\n",
    "page = requests.get(URL)\n",
    "\n",
    "# Parsing the requested html information\n",
    "soup = BeautifulSoup(page.content, \"html.parser\")\n",
    "\n",
    "# Creating variable: @data that contains the data needed \n",
    "data = (soup.find_all(\"script\",type=\"application/ld+json\")[5])\n",
    "\n",
    "# put the data into a json serialized object\n",
    "json_object = json.loads(data.contents[0])\n",
    "\n",
    "# refine the data needed to scrape\n",
    "main = json_object['mainEntity']\n",
    "\n",
    "# put the data into a dataframe using pandas\n",
    "main_dataframe = pd.DataFrame(main)\n",
    "\n",
    "# print the columns of the DataFrame\n",
    "print(main_dataframe.columns)"
   ]
  },
  {
   "cell_type": "markdown",
   "id": "crude-mills",
   "metadata": {},
   "source": [
    "# Data Cleaning by Column\n",
    "### Column: \"@type\""
   ]
  },
  {
   "cell_type": "code",
   "execution_count": 3,
   "id": "cutting-formula",
   "metadata": {},
   "outputs": [
    {
     "name": "stdout",
     "output_type": "stream",
     "text": [
      "<bound method NDFrame.head of 0      Question\n",
      "1      Question\n",
      "2      Question\n",
      "3      Question\n",
      "4      Question\n",
      "         ...   \n",
      "199    Question\n",
      "200    Question\n",
      "201    Question\n",
      "202    Question\n",
      "203    Question\n",
      "Name: @type, Length: 204, dtype: object>\n"
     ]
    }
   ],
   "source": [
    "# CS390Z - Introduction to Data Minining - Fall 2021\n",
    "# Instructor: Thyago Mota\n",
    "# Description: Data Cleaning\n",
    "\n",
    "# Column: @type\n",
    "type = main_dataframe['@type']\n",
    "print(type.head)"
   ]
  },
  {
   "cell_type": "markdown",
   "id": "controlled-badge",
   "metadata": {},
   "source": [
    "### There is no need to keep any of the data in the \"@type\" column and this column will be droped from the dataframe"
   ]
  },
  {
   "cell_type": "code",
   "execution_count": 4,
   "id": "breeding-relief",
   "metadata": {},
   "outputs": [
    {
     "name": "stdout",
     "output_type": "stream",
     "text": [
      "Index(['name', 'acceptedAnswer'], dtype='object')\n"
     ]
    }
   ],
   "source": [
    "# CS390Z - Introduction to Data Minining - Fall 2021\n",
    "# Instructor: Thyago Mota\n",
    "# Description: Data Cleaning\n",
    "\n",
    "main_dataframe.drop('@type', axis = 1, inplace = True)\n",
    "print(main_dataframe.columns)"
   ]
  },
  {
   "cell_type": "markdown",
   "id": "elementary-invitation",
   "metadata": {},
   "source": [
    "### Column: \"name\""
   ]
  },
  {
   "cell_type": "code",
   "execution_count": 5,
   "id": "assigned-funds",
   "metadata": {},
   "outputs": [
    {
     "name": "stdout",
     "output_type": "stream",
     "text": [
      "<bound method NDFrame.head of 0      How many COVID-19 cases are there in Alabama s...\n",
      "1      How many COVID-19 cases are there in Alaska st...\n",
      "2      How many COVID-19 cases are there in Arizona s...\n",
      "3      How many COVID-19 cases are there in Arkansas ...\n",
      "4      How many COVID-19 cases are there in Californi...\n",
      "                             ...                        \n",
      "199       How many Coronavirus deaths in Virginia state?\n",
      "200     How many Coronavirus deaths in Washington state?\n",
      "201    How many Coronavirus deaths in West Virginia s...\n",
      "202      How many Coronavirus deaths in Wisconsin state?\n",
      "203        How many Coronavirus deaths in Wyoming state?\n",
      "Name: name, Length: 204, dtype: object>\n"
     ]
    }
   ],
   "source": [
    "# CS390Z - Introduction to Data Minining - Fall 2021\n",
    "# Instructor: Thyago Mota\n",
    "# Description: Data Cleaning\n",
    "\n",
    "# Column: \"name\"\n",
    "\n",
    "# Lets take a look at the columns name\n",
    "infected = main_dataframe['name']\n",
    "print(infected.head)"
   ]
  },
  {
   "cell_type": "markdown",
   "id": "intermediate-omaha",
   "metadata": {},
   "source": [
    " ### We do not need anything other than the name of the state. Also, there seems to be too many indexes in comparison to the amount of states in the United States. There should be 52 for \"Cases\" and 52 for \"Deaths\" equaling 104 rows and three columns. There is probably repeated data in the mix. "
   ]
  },
  {
   "cell_type": "code",
   "execution_count": 6,
   "id": "korean-preservation",
   "metadata": {},
   "outputs": [
    {
     "name": "stdout",
     "output_type": "stream",
     "text": [
      "<bound method NDFrame.head of                     name\n",
      "0               Alabama \n",
      "1                Alaska \n",
      "2               Arizona \n",
      "3              Arkansas \n",
      "4            California \n",
      "..                   ...\n",
      "97               Virgia \n",
      "98             Washgton \n",
      "99          West Virgia \n",
      "100             Wiscons \n",
      "101               Wyomg \n",
      "\n",
      "[102 rows x 1 columns]>\n",
      "<bound method NDFrame.head of                   name\n",
      "102           Alabama \n",
      "103            Alaska \n",
      "104           Arizona \n",
      "105          Arkansas \n",
      "106        California \n",
      "..                 ...\n",
      "199            Virgia \n",
      "200          Washgton \n",
      "201       West Virgia \n",
      "202           Wiscons \n",
      "203             Wyomg \n",
      "\n",
      "[102 rows x 1 columns]>\n"
     ]
    }
   ],
   "source": [
    "# CS390Z - Introduction to Data Minining - Fall 2021\n",
    "# Instructor: Thyago Mota\n",
    "# Description: Data Cleaning\n",
    "\n",
    "# A list of the words not needed\n",
    "words = [\"How\", \"many\", \"are\", \"there\", \"state\", \"?\", \"COVID-19\", \"Coronavirus\", \"in\"]\n",
    "\n",
    "# remove the words from the above list\n",
    "for word in words:\n",
    "    infected = infected.str.replace(word, \"\")\n",
    "infected_df = pd.DataFrame(infected)\n",
    "\n",
    "# Seperate Cases from Deaths by State\n",
    "cases_df = infected_df[infected_df['name'].str.contains('cases')]\n",
    "deaths_df = infected_df[infected_df['name'].str.contains('deaths')]\n",
    "cases = cases_df[\"name\"].str.replace(\"cases\", \"\")\n",
    "deaths = deaths_df[\"name\"].str.replace(\"deaths\", \"\")\n",
    "final_cases_df = pd.DataFrame(cases)\n",
    "final_deaths_df = pd.DataFrame(deaths)\n",
    "print(final_cases_df.head)\n",
    "print(final_deaths_df.head)"
   ]
  },
  {
   "cell_type": "markdown",
   "id": "generous-chorus",
   "metadata": {},
   "source": [
    "### Only one of the dataframes above is needed. The main goal is to extract the state name and to see if the dataset is even between deaths and cases by each state, which it is. Also, the \"in\" was a problem. It removed \"in\" from the entire dataset, including the States. Example: \"Wyoming\" is now spelled \"Wyomg\" - This is sloppy but it isn't a giant problem. Fix later. "
   ]
  },
  {
   "cell_type": "markdown",
   "id": "automatic-professional",
   "metadata": {},
   "source": [
    "### Column: \"acceptedAnswer\""
   ]
  },
  {
   "cell_type": "code",
   "execution_count": 7,
   "id": "western-projector",
   "metadata": {},
   "outputs": [
    {
     "name": "stdout",
     "output_type": "stream",
     "text": [
      "<bound method NDFrame.head of 0       {'@type': 'Answer', 'text': 784484}\n",
      "1       {'@type': 'Answer', 'text': 100007}\n",
      "2      {'@type': 'Answer', 'text': 1078875}\n",
      "3       {'@type': 'Answer', 'text': 488740}\n",
      "4      {'@type': 'Answer', 'text': 4448198}\n",
      "                       ...                 \n",
      "199      {'@type': 'Answer', 'text': 12511}\n",
      "200       {'@type': 'Answer', 'text': 7494}\n",
      "201       {'@type': 'Answer', 'text': 3523}\n",
      "202       {'@type': 'Answer', 'text': 8794}\n",
      "203        {'@type': 'Answer', 'text': 879}\n",
      "Name: acceptedAnswer, Length: 204, dtype: object>\n"
     ]
    }
   ],
   "source": [
    "# CS390Z - Introduction to Data Minining - Fall 2021\n",
    "# Instructor: Thyago Mota\n",
    "# Description: Data Cleaning\n",
    "\n",
    "# acceptedAnswer\n",
    "answer = main_dataframe['acceptedAnswer']\n",
    "print(answer.head)"
   ]
  },
  {
   "cell_type": "markdown",
   "id": "nuclear-event",
   "metadata": {},
   "source": [
    "### This is pretty messy. The only element in this column needed is the integer at the end of each row.  "
   ]
  },
  {
   "cell_type": "code",
   "execution_count": 8,
   "id": "satellite-reminder",
   "metadata": {},
   "outputs": [
    {
     "name": "stdout",
     "output_type": "stream",
     "text": [
      "<bound method NDFrame.head of          0\n",
      "0    13921\n",
      "1      471\n",
      "2    19737\n",
      "3     7561\n",
      "4    67859\n",
      "..     ...\n",
      "97   12511\n",
      "98    7494\n",
      "99    3523\n",
      "100   8794\n",
      "101    879\n",
      "\n",
      "[102 rows x 1 columns]>\n"
     ]
    }
   ],
   "source": [
    "# CS390Z - Introduction to Data Minining - Fall 2021\n",
    "# Instructor: Thyago Mota\n",
    "# Description: Data Cleaning\n",
    "\n",
    "# Column: acceptedAnswer\n",
    "numbers = []\n",
    "deaths = []\n",
    "death_list = []\n",
    "pd.DataFrame(answer)\n",
    "\n",
    "# get rid of the noise in the row\n",
    "for row in answer:\n",
    "    number = str(row).replace(\"{'@type': 'Answer', 'text': \", \"\").replace(\"}\", \"\")\n",
    "    numbers.append(number)\n",
    "numbers_df = pd.DataFrame(numbers)\n",
    "\n",
    "#\n",
    "state_cases = numbers_df.iloc[:102, :]\n",
    "state_deaths = numbers_df.iloc[102:,:]\n",
    "death_list = []\n",
    "for row in state_deaths[0]:\n",
    "    death_list.append(row)\n",
    "death_list_df = pd.DataFrame(death_list)\n",
    "print(death_list_df.head)"
   ]
  },
  {
   "cell_type": "markdown",
   "id": "burning-advertiser",
   "metadata": {},
   "source": [
    "### Now that the data is in the format needed, lets put the data together into one dataframe and have a look"
   ]
  },
  {
   "cell_type": "code",
   "execution_count": 9,
   "id": "artistic-mercury",
   "metadata": {},
   "outputs": [],
   "source": [
    "# CS390Z - Introduction to Data Minining - Fall 2021\n",
    "# Instructor: Thyago Mota\n",
    "# Description: Data Cleaning\n",
    "\n",
    "# Combine all into one pandas dataframe \n",
    "df = pd.DataFrame({\"State\": final_cases_df[\"name\"], \"Cases\": state_cases[0], \"Deaths\": death_list_df[0]})"
   ]
  },
  {
   "cell_type": "markdown",
   "id": "electrical-rolling",
   "metadata": {},
   "source": [
    "### In order to see if there is repeated data, I will using the code below to view the entire dataset. Uncomment code to view dataset, but restart the kernal or re-set the pd.set_option(). "
   ]
  },
  {
   "cell_type": "code",
   "execution_count": 10,
   "id": "regional-haven",
   "metadata": {},
   "outputs": [],
   "source": [
    "# CS390Z - Introduction to Data Minining - Fall 2021\n",
    "# Instructor: Thyago Mota\n",
    "# Description: Data Cleaning\n",
    "\n",
    "# pd.set_option(\"display.max_rows\", None, \"display.max_columns\", None)\n",
    "# pd.DataFrame(df)"
   ]
  },
  {
   "cell_type": "markdown",
   "id": "prime-platinum",
   "metadata": {},
   "source": [
    "### After reviewing the dataset, there is repeated code which starts at index 51. I will split the dataset at index 51"
   ]
  },
  {
   "cell_type": "code",
   "execution_count": 11,
   "id": "confident-tender",
   "metadata": {},
   "outputs": [
    {
     "name": "stderr",
     "output_type": "stream",
     "text": [
      "<ipython-input-11-46098e228f20>:7: SettingWithCopyWarning: \n",
      "A value is trying to be set on a copy of a slice from a DataFrame.\n",
      "Try using .loc[row_indexer,col_indexer] = value instead\n",
      "\n",
      "See the caveats in the documentation: https://pandas.pydata.org/pandas-docs/stable/user_guide/indexing.html#returning-a-view-versus-a-copy\n",
      "  final_df[\"Cases\"] = final_df[\"Cases\"].astype(int)\n",
      "<ipython-input-11-46098e228f20>:8: SettingWithCopyWarning: \n",
      "A value is trying to be set on a copy of a slice from a DataFrame.\n",
      "Try using .loc[row_indexer,col_indexer] = value instead\n",
      "\n",
      "See the caveats in the documentation: https://pandas.pydata.org/pandas-docs/stable/user_guide/indexing.html#returning-a-view-versus-a-copy\n",
      "  final_df[\"Deaths\"] = final_df[\"Deaths\"].astype(int)\n"
     ]
    },
    {
     "data": {
      "text/html": [
       "<div>\n",
       "<style scoped>\n",
       "    .dataframe tbody tr th:only-of-type {\n",
       "        vertical-align: middle;\n",
       "    }\n",
       "\n",
       "    .dataframe tbody tr th {\n",
       "        vertical-align: top;\n",
       "    }\n",
       "\n",
       "    .dataframe thead th {\n",
       "        text-align: right;\n",
       "    }\n",
       "</style>\n",
       "<table border=\"1\" class=\"dataframe\">\n",
       "  <thead>\n",
       "    <tr style=\"text-align: right;\">\n",
       "      <th></th>\n",
       "      <th>State</th>\n",
       "      <th>Cases</th>\n",
       "      <th>Deaths</th>\n",
       "    </tr>\n",
       "  </thead>\n",
       "  <tbody>\n",
       "    <tr>\n",
       "      <th>0</th>\n",
       "      <td>Alabama</td>\n",
       "      <td>784484</td>\n",
       "      <td>13921</td>\n",
       "    </tr>\n",
       "    <tr>\n",
       "      <th>1</th>\n",
       "      <td>Alaska</td>\n",
       "      <td>100007</td>\n",
       "      <td>471</td>\n",
       "    </tr>\n",
       "    <tr>\n",
       "      <th>2</th>\n",
       "      <td>Arizona</td>\n",
       "      <td>1078875</td>\n",
       "      <td>19737</td>\n",
       "    </tr>\n",
       "    <tr>\n",
       "      <th>3</th>\n",
       "      <td>Arkansas</td>\n",
       "      <td>488740</td>\n",
       "      <td>7561</td>\n",
       "    </tr>\n",
       "    <tr>\n",
       "      <th>4</th>\n",
       "      <td>California</td>\n",
       "      <td>4448198</td>\n",
       "      <td>67859</td>\n",
       "    </tr>\n",
       "    <tr>\n",
       "      <th>5</th>\n",
       "      <td>Colorado</td>\n",
       "      <td>660884</td>\n",
       "      <td>7472</td>\n",
       "    </tr>\n",
       "    <tr>\n",
       "      <th>6</th>\n",
       "      <td>Connecticut</td>\n",
       "      <td>387733</td>\n",
       "      <td>8501</td>\n",
       "    </tr>\n",
       "    <tr>\n",
       "      <th>7</th>\n",
       "      <td>Delaw</td>\n",
       "      <td>130444</td>\n",
       "      <td>1942</td>\n",
       "    </tr>\n",
       "    <tr>\n",
       "      <th>8</th>\n",
       "      <td>District of Columbia</td>\n",
       "      <td>60205</td>\n",
       "      <td>1172</td>\n",
       "    </tr>\n",
       "    <tr>\n",
       "      <th>9</th>\n",
       "      <td>Florida</td>\n",
       "      <td>3542285</td>\n",
       "      <td>53580</td>\n",
       "    </tr>\n",
       "    <tr>\n",
       "      <th>10</th>\n",
       "      <td>Georgia</td>\n",
       "      <td>1207024</td>\n",
       "      <td>25478</td>\n",
       "    </tr>\n",
       "    <tr>\n",
       "      <th>11</th>\n",
       "      <td>Hawaii</td>\n",
       "      <td>77369</td>\n",
       "      <td>747</td>\n",
       "    </tr>\n",
       "    <tr>\n",
       "      <th>12</th>\n",
       "      <td>Idaho</td>\n",
       "      <td>249739</td>\n",
       "      <td>2753</td>\n",
       "    </tr>\n",
       "    <tr>\n",
       "      <th>13</th>\n",
       "      <td>Illois</td>\n",
       "      <td>1612129</td>\n",
       "      <td>27440</td>\n",
       "    </tr>\n",
       "    <tr>\n",
       "      <th>14</th>\n",
       "      <td>Indiana</td>\n",
       "      <td>951579</td>\n",
       "      <td>15377</td>\n",
       "    </tr>\n",
       "    <tr>\n",
       "      <th>15</th>\n",
       "      <td>Iowa</td>\n",
       "      <td>440680</td>\n",
       "      <td>6483</td>\n",
       "    </tr>\n",
       "    <tr>\n",
       "      <th>16</th>\n",
       "      <td>Kansas</td>\n",
       "      <td>404459</td>\n",
       "      <td>5980</td>\n",
       "    </tr>\n",
       "    <tr>\n",
       "      <th>17</th>\n",
       "      <td>Kentucky</td>\n",
       "      <td>674015</td>\n",
       "      <td>8492</td>\n",
       "    </tr>\n",
       "    <tr>\n",
       "      <th>18</th>\n",
       "      <td>Louisiana</td>\n",
       "      <td>734524</td>\n",
       "      <td>13741</td>\n",
       "    </tr>\n",
       "    <tr>\n",
       "      <th>19</th>\n",
       "      <td>Mae</td>\n",
       "      <td>87192</td>\n",
       "      <td>1013</td>\n",
       "    </tr>\n",
       "    <tr>\n",
       "      <th>20</th>\n",
       "      <td>Maryland</td>\n",
       "      <td>527804</td>\n",
       "      <td>10317</td>\n",
       "    </tr>\n",
       "    <tr>\n",
       "      <th>21</th>\n",
       "      <td>Massachusetts</td>\n",
       "      <td>749929</td>\n",
       "      <td>18541</td>\n",
       "    </tr>\n",
       "    <tr>\n",
       "      <th>22</th>\n",
       "      <td>Michigan</td>\n",
       "      <td>1132651</td>\n",
       "      <td>22214</td>\n",
       "    </tr>\n",
       "    <tr>\n",
       "      <th>23</th>\n",
       "      <td>Mnesota</td>\n",
       "      <td>697182</td>\n",
       "      <td>8076</td>\n",
       "    </tr>\n",
       "    <tr>\n",
       "      <th>24</th>\n",
       "      <td>Mississippi</td>\n",
       "      <td>482902</td>\n",
       "      <td>9425</td>\n",
       "    </tr>\n",
       "    <tr>\n",
       "      <th>25</th>\n",
       "      <td>Missouri</td>\n",
       "      <td>813321</td>\n",
       "      <td>11332</td>\n",
       "    </tr>\n",
       "    <tr>\n",
       "      <th>26</th>\n",
       "      <td>Montana</td>\n",
       "      <td>146035</td>\n",
       "      <td>1945</td>\n",
       "    </tr>\n",
       "    <tr>\n",
       "      <th>27</th>\n",
       "      <td>Nebraska</td>\n",
       "      <td>262475</td>\n",
       "      <td>2405</td>\n",
       "    </tr>\n",
       "    <tr>\n",
       "      <th>28</th>\n",
       "      <td>Nevada</td>\n",
       "      <td>416496</td>\n",
       "      <td>7015</td>\n",
       "    </tr>\n",
       "    <tr>\n",
       "      <th>29</th>\n",
       "      <td>New Hampshire</td>\n",
       "      <td>117703</td>\n",
       "      <td>1475</td>\n",
       "    </tr>\n",
       "    <tr>\n",
       "      <th>30</th>\n",
       "      <td>New Jersey</td>\n",
       "      <td>1143855</td>\n",
       "      <td>26606</td>\n",
       "    </tr>\n",
       "    <tr>\n",
       "      <th>31</th>\n",
       "      <td>New Mexico</td>\n",
       "      <td>248788</td>\n",
       "      <td>4749</td>\n",
       "    </tr>\n",
       "    <tr>\n",
       "      <th>32</th>\n",
       "      <td>New York</td>\n",
       "      <td>2384687</td>\n",
       "      <td>54854</td>\n",
       "    </tr>\n",
       "    <tr>\n",
       "      <th>33</th>\n",
       "      <td>North Carola</td>\n",
       "      <td>1368743</td>\n",
       "      <td>16108</td>\n",
       "    </tr>\n",
       "    <tr>\n",
       "      <th>34</th>\n",
       "      <td>North Dakota</td>\n",
       "      <td>129189</td>\n",
       "      <td>1604</td>\n",
       "    </tr>\n",
       "    <tr>\n",
       "      <th>35</th>\n",
       "      <td>Ohio</td>\n",
       "      <td>1380370</td>\n",
       "      <td>21820</td>\n",
       "    </tr>\n",
       "    <tr>\n",
       "      <th>36</th>\n",
       "      <td>Oklahoma</td>\n",
       "      <td>598072</td>\n",
       "      <td>8715</td>\n",
       "    </tr>\n",
       "    <tr>\n",
       "      <th>37</th>\n",
       "      <td>Oregon</td>\n",
       "      <td>320991</td>\n",
       "      <td>3682</td>\n",
       "    </tr>\n",
       "    <tr>\n",
       "      <th>38</th>\n",
       "      <td>Pennsylvania</td>\n",
       "      <td>1412039</td>\n",
       "      <td>29141</td>\n",
       "    </tr>\n",
       "    <tr>\n",
       "      <th>39</th>\n",
       "      <td>Rhode Island</td>\n",
       "      <td>170293</td>\n",
       "      <td>2820</td>\n",
       "    </tr>\n",
       "    <tr>\n",
       "      <th>40</th>\n",
       "      <td>South Carola</td>\n",
       "      <td>841600</td>\n",
       "      <td>12080</td>\n",
       "    </tr>\n",
       "    <tr>\n",
       "      <th>41</th>\n",
       "      <td>South Dakota</td>\n",
       "      <td>141745</td>\n",
       "      <td>2108</td>\n",
       "    </tr>\n",
       "    <tr>\n",
       "      <th>42</th>\n",
       "      <td>Tennessee</td>\n",
       "      <td>1209568</td>\n",
       "      <td>14825</td>\n",
       "    </tr>\n",
       "    <tr>\n",
       "      <th>43</th>\n",
       "      <td>Texas</td>\n",
       "      <td>4002111</td>\n",
       "      <td>62920</td>\n",
       "    </tr>\n",
       "    <tr>\n",
       "      <th>44</th>\n",
       "      <td>Utah</td>\n",
       "      <td>500698</td>\n",
       "      <td>2869</td>\n",
       "    </tr>\n",
       "    <tr>\n",
       "      <th>45</th>\n",
       "      <td>Vermont</td>\n",
       "      <td>33031</td>\n",
       "      <td>310</td>\n",
       "    </tr>\n",
       "    <tr>\n",
       "      <th>46</th>\n",
       "      <td>Virgia</td>\n",
       "      <td>849865</td>\n",
       "      <td>12511</td>\n",
       "    </tr>\n",
       "    <tr>\n",
       "      <th>47</th>\n",
       "      <td>Washgton</td>\n",
       "      <td>640496</td>\n",
       "      <td>7494</td>\n",
       "    </tr>\n",
       "    <tr>\n",
       "      <th>48</th>\n",
       "      <td>West Virgia</td>\n",
       "      <td>231668</td>\n",
       "      <td>3523</td>\n",
       "    </tr>\n",
       "    <tr>\n",
       "      <th>49</th>\n",
       "      <td>Wiscons</td>\n",
       "      <td>793810</td>\n",
       "      <td>8794</td>\n",
       "    </tr>\n",
       "    <tr>\n",
       "      <th>50</th>\n",
       "      <td>Wyomg</td>\n",
       "      <td>87866</td>\n",
       "      <td>879</td>\n",
       "    </tr>\n",
       "  </tbody>\n",
       "</table>\n",
       "</div>"
      ],
      "text/plain": [
       "                           State    Cases  Deaths\n",
       "0                       Alabama    784484   13921\n",
       "1                        Alaska    100007     471\n",
       "2                       Arizona   1078875   19737\n",
       "3                      Arkansas    488740    7561\n",
       "4                    California   4448198   67859\n",
       "5                      Colorado    660884    7472\n",
       "6                   Connecticut    387733    8501\n",
       "7                         Delaw    130444    1942\n",
       "8          District of Columbia     60205    1172\n",
       "9                       Florida   3542285   53580\n",
       "10                      Georgia   1207024   25478\n",
       "11                       Hawaii     77369     747\n",
       "12                        Idaho    249739    2753\n",
       "13                       Illois   1612129   27440\n",
       "14                      Indiana    951579   15377\n",
       "15                         Iowa    440680    6483\n",
       "16                       Kansas    404459    5980\n",
       "17                     Kentucky    674015    8492\n",
       "18                    Louisiana    734524   13741\n",
       "19                          Mae     87192    1013\n",
       "20                     Maryland    527804   10317\n",
       "21                Massachusetts    749929   18541\n",
       "22                     Michigan   1132651   22214\n",
       "23                      Mnesota    697182    8076\n",
       "24                  Mississippi    482902    9425\n",
       "25                     Missouri    813321   11332\n",
       "26                      Montana    146035    1945\n",
       "27                     Nebraska    262475    2405\n",
       "28                       Nevada    416496    7015\n",
       "29                New Hampshire    117703    1475\n",
       "30                   New Jersey   1143855   26606\n",
       "31                   New Mexico    248788    4749\n",
       "32                     New York   2384687   54854\n",
       "33                 North Carola   1368743   16108\n",
       "34                 North Dakota    129189    1604\n",
       "35                         Ohio   1380370   21820\n",
       "36                     Oklahoma    598072    8715\n",
       "37                       Oregon    320991    3682\n",
       "38                 Pennsylvania   1412039   29141\n",
       "39                 Rhode Island    170293    2820\n",
       "40                 South Carola    841600   12080\n",
       "41                 South Dakota    141745    2108\n",
       "42                    Tennessee   1209568   14825\n",
       "43                        Texas   4002111   62920\n",
       "44                         Utah    500698    2869\n",
       "45                      Vermont     33031     310\n",
       "46                       Virgia    849865   12511\n",
       "47                     Washgton    640496    7494\n",
       "48                  West Virgia    231668    3523\n",
       "49                      Wiscons    793810    8794\n",
       "50                        Wyomg     87866     879"
      ]
     },
     "execution_count": 11,
     "metadata": {},
     "output_type": "execute_result"
    }
   ],
   "source": [
    "# CS390Z - Introduction to Data Minining - Fall 2021\n",
    "# Instructor: Thyago Mota\n",
    "# Description: Data Cleaning\n",
    "\n",
    "# fix little problem with repeated data\n",
    "final_df = df.iloc[:51, :]\n",
    "final_df[\"Cases\"] = final_df[\"Cases\"].astype(int)\n",
    "final_df[\"Deaths\"] = final_df[\"Deaths\"].astype(int)\n",
    "pd.DataFrame(final_df)"
   ]
  },
  {
   "cell_type": "markdown",
   "id": "found-garlic",
   "metadata": {},
   "source": [
    "# Feature Engineering\n",
    " ### A tiny bit of manipulating the data to create a new column called: \"% of Deaths to Cases]. This is done by dividing the number of deaths by the number of cases. \n",
    "  - final_df[\"% of Deaths to Cases\"] = (final_df[\"Deaths\"].astype(int) / final_df[\"Cases\"].astype(int)) * 100"
   ]
  },
  {
   "cell_type": "code",
   "execution_count": 12,
   "id": "regulation-payroll",
   "metadata": {},
   "outputs": [
    {
     "name": "stderr",
     "output_type": "stream",
     "text": [
      "<ipython-input-12-e4c2b1ff4b6d>:9: SettingWithCopyWarning: \n",
      "A value is trying to be set on a copy of a slice from a DataFrame.\n",
      "Try using .loc[row_indexer,col_indexer] = value instead\n",
      "\n",
      "See the caveats in the documentation: https://pandas.pydata.org/pandas-docs/stable/user_guide/indexing.html#returning-a-view-versus-a-copy\n",
      "  final_df[\"% of Deaths to Cases\"] = (final_df[\"Deaths\"].astype(int) / final_df[\"Cases\"].astype(int)) * 100\n"
     ]
    },
    {
     "data": {
      "text/html": [
       "<div>\n",
       "<style scoped>\n",
       "    .dataframe tbody tr th:only-of-type {\n",
       "        vertical-align: middle;\n",
       "    }\n",
       "\n",
       "    .dataframe tbody tr th {\n",
       "        vertical-align: top;\n",
       "    }\n",
       "\n",
       "    .dataframe thead th {\n",
       "        text-align: right;\n",
       "    }\n",
       "</style>\n",
       "<table border=\"1\" class=\"dataframe\">\n",
       "  <thead>\n",
       "    <tr style=\"text-align: right;\">\n",
       "      <th></th>\n",
       "      <th>State</th>\n",
       "      <th>Cases</th>\n",
       "      <th>Deaths</th>\n",
       "      <th>% of Deaths to Cases</th>\n",
       "    </tr>\n",
       "  </thead>\n",
       "  <tbody>\n",
       "    <tr>\n",
       "      <th>0</th>\n",
       "      <td>Alabama</td>\n",
       "      <td>784484</td>\n",
       "      <td>13921</td>\n",
       "      <td>1.774542</td>\n",
       "    </tr>\n",
       "    <tr>\n",
       "      <th>1</th>\n",
       "      <td>Alaska</td>\n",
       "      <td>100007</td>\n",
       "      <td>471</td>\n",
       "      <td>0.470967</td>\n",
       "    </tr>\n",
       "    <tr>\n",
       "      <th>2</th>\n",
       "      <td>Arizona</td>\n",
       "      <td>1078875</td>\n",
       "      <td>19737</td>\n",
       "      <td>1.829406</td>\n",
       "    </tr>\n",
       "    <tr>\n",
       "      <th>3</th>\n",
       "      <td>Arkansas</td>\n",
       "      <td>488740</td>\n",
       "      <td>7561</td>\n",
       "      <td>1.547039</td>\n",
       "    </tr>\n",
       "    <tr>\n",
       "      <th>4</th>\n",
       "      <td>California</td>\n",
       "      <td>4448198</td>\n",
       "      <td>67859</td>\n",
       "      <td>1.525539</td>\n",
       "    </tr>\n",
       "    <tr>\n",
       "      <th>5</th>\n",
       "      <td>Colorado</td>\n",
       "      <td>660884</td>\n",
       "      <td>7472</td>\n",
       "      <td>1.130607</td>\n",
       "    </tr>\n",
       "    <tr>\n",
       "      <th>6</th>\n",
       "      <td>Connecticut</td>\n",
       "      <td>387733</td>\n",
       "      <td>8501</td>\n",
       "      <td>2.192488</td>\n",
       "    </tr>\n",
       "    <tr>\n",
       "      <th>7</th>\n",
       "      <td>Delaw</td>\n",
       "      <td>130444</td>\n",
       "      <td>1942</td>\n",
       "      <td>1.488761</td>\n",
       "    </tr>\n",
       "    <tr>\n",
       "      <th>8</th>\n",
       "      <td>District of Columbia</td>\n",
       "      <td>60205</td>\n",
       "      <td>1172</td>\n",
       "      <td>1.946682</td>\n",
       "    </tr>\n",
       "    <tr>\n",
       "      <th>9</th>\n",
       "      <td>Florida</td>\n",
       "      <td>3542285</td>\n",
       "      <td>53580</td>\n",
       "      <td>1.512583</td>\n",
       "    </tr>\n",
       "    <tr>\n",
       "      <th>10</th>\n",
       "      <td>Georgia</td>\n",
       "      <td>1207024</td>\n",
       "      <td>25478</td>\n",
       "      <td>2.110811</td>\n",
       "    </tr>\n",
       "    <tr>\n",
       "      <th>11</th>\n",
       "      <td>Hawaii</td>\n",
       "      <td>77369</td>\n",
       "      <td>747</td>\n",
       "      <td>0.965503</td>\n",
       "    </tr>\n",
       "    <tr>\n",
       "      <th>12</th>\n",
       "      <td>Idaho</td>\n",
       "      <td>249739</td>\n",
       "      <td>2753</td>\n",
       "      <td>1.102351</td>\n",
       "    </tr>\n",
       "    <tr>\n",
       "      <th>13</th>\n",
       "      <td>Illois</td>\n",
       "      <td>1612129</td>\n",
       "      <td>27440</td>\n",
       "      <td>1.702097</td>\n",
       "    </tr>\n",
       "    <tr>\n",
       "      <th>14</th>\n",
       "      <td>Indiana</td>\n",
       "      <td>951579</td>\n",
       "      <td>15377</td>\n",
       "      <td>1.615946</td>\n",
       "    </tr>\n",
       "    <tr>\n",
       "      <th>15</th>\n",
       "      <td>Iowa</td>\n",
       "      <td>440680</td>\n",
       "      <td>6483</td>\n",
       "      <td>1.471136</td>\n",
       "    </tr>\n",
       "    <tr>\n",
       "      <th>16</th>\n",
       "      <td>Kansas</td>\n",
       "      <td>404459</td>\n",
       "      <td>5980</td>\n",
       "      <td>1.478518</td>\n",
       "    </tr>\n",
       "    <tr>\n",
       "      <th>17</th>\n",
       "      <td>Kentucky</td>\n",
       "      <td>674015</td>\n",
       "      <td>8492</td>\n",
       "      <td>1.259913</td>\n",
       "    </tr>\n",
       "    <tr>\n",
       "      <th>18</th>\n",
       "      <td>Louisiana</td>\n",
       "      <td>734524</td>\n",
       "      <td>13741</td>\n",
       "      <td>1.870735</td>\n",
       "    </tr>\n",
       "    <tr>\n",
       "      <th>19</th>\n",
       "      <td>Mae</td>\n",
       "      <td>87192</td>\n",
       "      <td>1013</td>\n",
       "      <td>1.161804</td>\n",
       "    </tr>\n",
       "    <tr>\n",
       "      <th>20</th>\n",
       "      <td>Maryland</td>\n",
       "      <td>527804</td>\n",
       "      <td>10317</td>\n",
       "      <td>1.954703</td>\n",
       "    </tr>\n",
       "    <tr>\n",
       "      <th>21</th>\n",
       "      <td>Massachusetts</td>\n",
       "      <td>749929</td>\n",
       "      <td>18541</td>\n",
       "      <td>2.472367</td>\n",
       "    </tr>\n",
       "    <tr>\n",
       "      <th>22</th>\n",
       "      <td>Michigan</td>\n",
       "      <td>1132651</td>\n",
       "      <td>22214</td>\n",
       "      <td>1.961240</td>\n",
       "    </tr>\n",
       "    <tr>\n",
       "      <th>23</th>\n",
       "      <td>Mnesota</td>\n",
       "      <td>697182</td>\n",
       "      <td>8076</td>\n",
       "      <td>1.158378</td>\n",
       "    </tr>\n",
       "    <tr>\n",
       "      <th>24</th>\n",
       "      <td>Mississippi</td>\n",
       "      <td>482902</td>\n",
       "      <td>9425</td>\n",
       "      <td>1.951742</td>\n",
       "    </tr>\n",
       "    <tr>\n",
       "      <th>25</th>\n",
       "      <td>Missouri</td>\n",
       "      <td>813321</td>\n",
       "      <td>11332</td>\n",
       "      <td>1.393300</td>\n",
       "    </tr>\n",
       "    <tr>\n",
       "      <th>26</th>\n",
       "      <td>Montana</td>\n",
       "      <td>146035</td>\n",
       "      <td>1945</td>\n",
       "      <td>1.331872</td>\n",
       "    </tr>\n",
       "    <tr>\n",
       "      <th>27</th>\n",
       "      <td>Nebraska</td>\n",
       "      <td>262475</td>\n",
       "      <td>2405</td>\n",
       "      <td>0.916278</td>\n",
       "    </tr>\n",
       "    <tr>\n",
       "      <th>28</th>\n",
       "      <td>Nevada</td>\n",
       "      <td>416496</td>\n",
       "      <td>7015</td>\n",
       "      <td>1.684290</td>\n",
       "    </tr>\n",
       "    <tr>\n",
       "      <th>29</th>\n",
       "      <td>New Hampshire</td>\n",
       "      <td>117703</td>\n",
       "      <td>1475</td>\n",
       "      <td>1.253154</td>\n",
       "    </tr>\n",
       "    <tr>\n",
       "      <th>30</th>\n",
       "      <td>New Jersey</td>\n",
       "      <td>1143855</td>\n",
       "      <td>26606</td>\n",
       "      <td>2.325994</td>\n",
       "    </tr>\n",
       "    <tr>\n",
       "      <th>31</th>\n",
       "      <td>New Mexico</td>\n",
       "      <td>248788</td>\n",
       "      <td>4749</td>\n",
       "      <td>1.908854</td>\n",
       "    </tr>\n",
       "    <tr>\n",
       "      <th>32</th>\n",
       "      <td>New York</td>\n",
       "      <td>2384687</td>\n",
       "      <td>54854</td>\n",
       "      <td>2.300260</td>\n",
       "    </tr>\n",
       "    <tr>\n",
       "      <th>33</th>\n",
       "      <td>North Carola</td>\n",
       "      <td>1368743</td>\n",
       "      <td>16108</td>\n",
       "      <td>1.176846</td>\n",
       "    </tr>\n",
       "    <tr>\n",
       "      <th>34</th>\n",
       "      <td>North Dakota</td>\n",
       "      <td>129189</td>\n",
       "      <td>1604</td>\n",
       "      <td>1.241592</td>\n",
       "    </tr>\n",
       "    <tr>\n",
       "      <th>35</th>\n",
       "      <td>Ohio</td>\n",
       "      <td>1380370</td>\n",
       "      <td>21820</td>\n",
       "      <td>1.580736</td>\n",
       "    </tr>\n",
       "    <tr>\n",
       "      <th>36</th>\n",
       "      <td>Oklahoma</td>\n",
       "      <td>598072</td>\n",
       "      <td>8715</td>\n",
       "      <td>1.457182</td>\n",
       "    </tr>\n",
       "    <tr>\n",
       "      <th>37</th>\n",
       "      <td>Oregon</td>\n",
       "      <td>320991</td>\n",
       "      <td>3682</td>\n",
       "      <td>1.147073</td>\n",
       "    </tr>\n",
       "    <tr>\n",
       "      <th>38</th>\n",
       "      <td>Pennsylvania</td>\n",
       "      <td>1412039</td>\n",
       "      <td>29141</td>\n",
       "      <td>2.063753</td>\n",
       "    </tr>\n",
       "    <tr>\n",
       "      <th>39</th>\n",
       "      <td>Rhode Island</td>\n",
       "      <td>170293</td>\n",
       "      <td>2820</td>\n",
       "      <td>1.655969</td>\n",
       "    </tr>\n",
       "    <tr>\n",
       "      <th>40</th>\n",
       "      <td>South Carola</td>\n",
       "      <td>841600</td>\n",
       "      <td>12080</td>\n",
       "      <td>1.435361</td>\n",
       "    </tr>\n",
       "    <tr>\n",
       "      <th>41</th>\n",
       "      <td>South Dakota</td>\n",
       "      <td>141745</td>\n",
       "      <td>2108</td>\n",
       "      <td>1.487178</td>\n",
       "    </tr>\n",
       "    <tr>\n",
       "      <th>42</th>\n",
       "      <td>Tennessee</td>\n",
       "      <td>1209568</td>\n",
       "      <td>14825</td>\n",
       "      <td>1.225644</td>\n",
       "    </tr>\n",
       "    <tr>\n",
       "      <th>43</th>\n",
       "      <td>Texas</td>\n",
       "      <td>4002111</td>\n",
       "      <td>62920</td>\n",
       "      <td>1.572170</td>\n",
       "    </tr>\n",
       "    <tr>\n",
       "      <th>44</th>\n",
       "      <td>Utah</td>\n",
       "      <td>500698</td>\n",
       "      <td>2869</td>\n",
       "      <td>0.573000</td>\n",
       "    </tr>\n",
       "    <tr>\n",
       "      <th>45</th>\n",
       "      <td>Vermont</td>\n",
       "      <td>33031</td>\n",
       "      <td>310</td>\n",
       "      <td>0.938512</td>\n",
       "    </tr>\n",
       "    <tr>\n",
       "      <th>46</th>\n",
       "      <td>Virgia</td>\n",
       "      <td>849865</td>\n",
       "      <td>12511</td>\n",
       "      <td>1.472116</td>\n",
       "    </tr>\n",
       "    <tr>\n",
       "      <th>47</th>\n",
       "      <td>Washgton</td>\n",
       "      <td>640496</td>\n",
       "      <td>7494</td>\n",
       "      <td>1.170031</td>\n",
       "    </tr>\n",
       "    <tr>\n",
       "      <th>48</th>\n",
       "      <td>West Virgia</td>\n",
       "      <td>231668</td>\n",
       "      <td>3523</td>\n",
       "      <td>1.520711</td>\n",
       "    </tr>\n",
       "    <tr>\n",
       "      <th>49</th>\n",
       "      <td>Wiscons</td>\n",
       "      <td>793810</td>\n",
       "      <td>8794</td>\n",
       "      <td>1.107822</td>\n",
       "    </tr>\n",
       "    <tr>\n",
       "      <th>50</th>\n",
       "      <td>Wyomg</td>\n",
       "      <td>87866</td>\n",
       "      <td>879</td>\n",
       "      <td>1.000387</td>\n",
       "    </tr>\n",
       "  </tbody>\n",
       "</table>\n",
       "</div>"
      ],
      "text/plain": [
       "                           State    Cases  Deaths  % of Deaths to Cases\n",
       "0                       Alabama    784484   13921              1.774542\n",
       "1                        Alaska    100007     471              0.470967\n",
       "2                       Arizona   1078875   19737              1.829406\n",
       "3                      Arkansas    488740    7561              1.547039\n",
       "4                    California   4448198   67859              1.525539\n",
       "5                      Colorado    660884    7472              1.130607\n",
       "6                   Connecticut    387733    8501              2.192488\n",
       "7                         Delaw    130444    1942              1.488761\n",
       "8          District of Columbia     60205    1172              1.946682\n",
       "9                       Florida   3542285   53580              1.512583\n",
       "10                      Georgia   1207024   25478              2.110811\n",
       "11                       Hawaii     77369     747              0.965503\n",
       "12                        Idaho    249739    2753              1.102351\n",
       "13                       Illois   1612129   27440              1.702097\n",
       "14                      Indiana    951579   15377              1.615946\n",
       "15                         Iowa    440680    6483              1.471136\n",
       "16                       Kansas    404459    5980              1.478518\n",
       "17                     Kentucky    674015    8492              1.259913\n",
       "18                    Louisiana    734524   13741              1.870735\n",
       "19                          Mae     87192    1013              1.161804\n",
       "20                     Maryland    527804   10317              1.954703\n",
       "21                Massachusetts    749929   18541              2.472367\n",
       "22                     Michigan   1132651   22214              1.961240\n",
       "23                      Mnesota    697182    8076              1.158378\n",
       "24                  Mississippi    482902    9425              1.951742\n",
       "25                     Missouri    813321   11332              1.393300\n",
       "26                      Montana    146035    1945              1.331872\n",
       "27                     Nebraska    262475    2405              0.916278\n",
       "28                       Nevada    416496    7015              1.684290\n",
       "29                New Hampshire    117703    1475              1.253154\n",
       "30                   New Jersey   1143855   26606              2.325994\n",
       "31                   New Mexico    248788    4749              1.908854\n",
       "32                     New York   2384687   54854              2.300260\n",
       "33                 North Carola   1368743   16108              1.176846\n",
       "34                 North Dakota    129189    1604              1.241592\n",
       "35                         Ohio   1380370   21820              1.580736\n",
       "36                     Oklahoma    598072    8715              1.457182\n",
       "37                       Oregon    320991    3682              1.147073\n",
       "38                 Pennsylvania   1412039   29141              2.063753\n",
       "39                 Rhode Island    170293    2820              1.655969\n",
       "40                 South Carola    841600   12080              1.435361\n",
       "41                 South Dakota    141745    2108              1.487178\n",
       "42                    Tennessee   1209568   14825              1.225644\n",
       "43                        Texas   4002111   62920              1.572170\n",
       "44                         Utah    500698    2869              0.573000\n",
       "45                      Vermont     33031     310              0.938512\n",
       "46                       Virgia    849865   12511              1.472116\n",
       "47                     Washgton    640496    7494              1.170031\n",
       "48                  West Virgia    231668    3523              1.520711\n",
       "49                      Wiscons    793810    8794              1.107822\n",
       "50                        Wyomg     87866     879              1.000387"
      ]
     },
     "execution_count": 12,
     "metadata": {},
     "output_type": "execute_result"
    }
   ],
   "source": [
    "# CS390Z - Introduction to Data Minining - Fall 2021\n",
    "# Instructor: Thyago Mota\n",
    "# Description: Feature Engineering\n",
    "\n",
    "case_num = []\n",
    "death_num = []\n",
    "\n",
    "# used to create and compute the final column. \n",
    "final_df[\"% of Deaths to Cases\"] = (final_df[\"Deaths\"].astype(int) / final_df[\"Cases\"].astype(int)) * 100\n",
    "pd.DataFrame(final_df)"
   ]
  },
  {
   "cell_type": "markdown",
   "id": "dominican-checklist",
   "metadata": {},
   "source": [
    "### The data is looking nice. I think it is safe to move on to summary statistics and data visualization with the data in the format it currently is in. "
   ]
  },
  {
   "cell_type": "markdown",
   "id": "everyday-mobile",
   "metadata": {},
   "source": [
    "# Summary Statistics "
   ]
  },
  {
   "cell_type": "code",
   "execution_count": 13,
   "id": "addressed-airfare",
   "metadata": {},
   "outputs": [
    {
     "name": "stdout",
     "output_type": "stream",
     "text": [
      "Cases#################################################\n",
      "Mean:  822677.4117647059\n",
      "Median:  598072.0\n",
      "Standard Deviation:  940690.8827466156\n",
      "Records:  51\n",
      "range:  [ 33031 , 4448198 ]\n",
      "\n",
      "\n",
      "Deaths###############################################\n",
      "Mean:  13350.529411764706\n",
      "Median:  8492.0\n",
      "Standard Deviation:  15810.052797322267\n",
      "Records:  51\n",
      "range:  [ 310 , 67859 ]\n",
      "\n",
      "\n",
      "Percentage############################################\n",
      "Mean:  1.5018812400406545\n",
      "Median:  1.4871776782249815\n",
      "Standard Deviation:  0.43158536336587044\n",
      "Records:  51\n",
      "range:  [ 0.47096703230773845 , 2.4723673841123626 ]\n"
     ]
    }
   ],
   "source": [
    "# CS390Z - Introduction to Data Minining - Fall 2021\n",
    "# Instructor: Thyago Mota\n",
    "# Description: Summary Statistics\n",
    "\n",
    "# Cases\n",
    "print(\"Cases#################################################\")\n",
    "print(\"Mean: \",final_df[\"Cases\"].mean())\n",
    "print(\"Median: \", final_df[\"Cases\"].median())\n",
    "print(\"Standard Deviation: \",final_df[\"Cases\"].std())\n",
    "print(\"Records: \", len(final_df[\"Cases\"]))\n",
    "print(\"range: \", \"[\", final_df[\"Cases\"].min(), \",\", final_df[\"Cases\"].max(), \"]\")\n",
    "print(\"\\n\")\n",
    "\n",
    "# Deaths\n",
    "print(\"Deaths###############################################\")\n",
    "print(\"Mean: \", final_df[\"Deaths\"].mean())\n",
    "print(\"Median: \", final_df[\"Deaths\"].median())\n",
    "print(\"Standard Deviation: \", final_df[\"Deaths\"].std())\n",
    "print(\"Records: \", len(final_df[\"Deaths\"]))\n",
    "print(\"range: \", \"[\", final_df[\"Deaths\"].min(), \",\", final_df[\"Deaths\"].max(), \"]\")\n",
    "print(\"\\n\")\n",
    "\n",
    "#Death percentage of cases\n",
    "print(\"Percentage############################################\")\n",
    "final_df[\"% of Deaths to Cases\"].mean()\n",
    "print(\"Mean: \", final_df[\"% of Deaths to Cases\"].mean())\n",
    "print(\"Median: \", final_df[\"% of Deaths to Cases\"].median())\n",
    "print(\"Standard Deviation: \", final_df[\"% of Deaths to Cases\"].std())\n",
    "print(\"Records: \", len(final_df[\"% of Deaths to Cases\"]))\n",
    "print(\"range: \", \"[\", final_df[\"% of Deaths to Cases\"].min(), \",\", final_df[\"% of Deaths to Cases\"].max(), \"]\")\n",
    "\n"
   ]
  },
  {
   "cell_type": "markdown",
   "id": "statutory-japan",
   "metadata": {},
   "source": [
    "# Data Visualization"
   ]
  },
  {
   "cell_type": "markdown",
   "id": "clinical-serve",
   "metadata": {},
   "source": [
    "### The following is just a quick look at Colorado using a simple bar graph  "
   ]
  },
  {
   "cell_type": "code",
   "execution_count": 14,
   "id": "lesser-eagle",
   "metadata": {},
   "outputs": [
    {
     "data": {
      "image/png": "[encoded data removed]",
      "text/plain": [
       "<Figure size 432x288 with 1 Axes>"
      ]
     },
     "metadata": {
      "needs_background": "light"
     },
     "output_type": "display_data"
    }
   ],
   "source": [
    "# CS390Z - Introduction to Data Minining - Fall 2021\n",
    "# Instructor: Thyago Mota\n",
    "# Description: Data Visualization\n",
    "\n",
    "# For Fun: Quick look at Colorado \n",
    "x = [\"Cases\", \"Deaths\"]\n",
    "colorado_data = [final_df[\"Cases\"][5], final_df[\"Deaths\"][5]]\n",
    "y = [int(colorado_data[0]), int(colorado_data[1])]\n",
    "\n",
    "plt.xlabel('Cases Vs Death')\n",
    "plt.ylabel('Number of People')\n",
    "plt.title(\"Colorado COVID-19 Most Recent\")\n",
    "\n",
    "plt.bar(x, y)\n",
    "plt.show()"
   ]
  },
  {
   "cell_type": "markdown",
   "id": "south-mistake",
   "metadata": {},
   "source": [
    "### Bar Graphs\n",
    "- All 52 states are presented in the following bar graphs. The bar graphs show the percentage of deaths to number of cases. "
   ]
  },
  {
   "cell_type": "code",
   "execution_count": 15,
   "id": "settled-nepal",
   "metadata": {},
   "outputs": [
    {
     "data": {
      "text/plain": [
       "<BarContainer object of 6 artists>"
      ]
     },
     "execution_count": 15,
     "metadata": {},
     "output_type": "execute_result"
    },
    {
     "data": {
      "image/png": "[encoded data removed]",
      "text/plain": [
       "<Figure size 1296x360 with 4 Axes>"
      ]
     },
     "metadata": {
      "needs_background": "light"
     },
     "output_type": "display_data"
    }
   ],
   "source": [
    "# CS390Z - Introduction to Data Minining - Fall 2021\n",
    "# Instructor: Thyago Mota\n",
    "# Description: Data Visualization\n",
    "\n",
    "x1 = []\n",
    "x2 = []\n",
    "x3 = []\n",
    "x4 = []\n",
    "\n",
    "y1 = []\n",
    "y2 = []\n",
    "y3 = []\n",
    "y4 = []\n",
    "\n",
    "for i in range(6):\n",
    "    x1.append(final_df[\"State\"][i])\n",
    "    y1.append(final_df[\"% of Deaths to Cases\"][i])\n",
    "    \n",
    "for i in range(6, 12):\n",
    "    x2.append(final_df[\"State\"][i])\n",
    "    y2.append(final_df[\"% of Deaths to Cases\"][i])\n",
    "    \n",
    "for i in range(12, 18):\n",
    "    x3.append(final_df[\"State\"][i])\n",
    "    y3.append(final_df[\"% of Deaths to Cases\"][i])\n",
    "    \n",
    "for i in range(18, 24):\n",
    "    x4.append(final_df[\"State\"][i])\n",
    "    y4.append(final_df[\"% of Deaths to Cases\"][i])\n",
    "fig, ax = plt.subplots(nrows=2, ncols=2, figsize=(18, 5))\n",
    "ax[0,0].bar(x1, y1, label='a')\n",
    "ax[0,1].bar(x2, y2, label='b')\n",
    "ax[1,0].bar(x3, y3, label='c')\n",
    "ax[1,1].bar(x4, y4, label='d')"
   ]
  },
  {
   "cell_type": "code",
   "execution_count": 16,
   "id": "automotive-investigation",
   "metadata": {},
   "outputs": [
    {
     "data": {
      "text/plain": [
       "<BarContainer object of 6 artists>"
      ]
     },
     "execution_count": 16,
     "metadata": {},
     "output_type": "execute_result"
    },
    {
     "data": {
      "image/png": "[encoded data removed]",
      "text/plain": [
       "<Figure size 1296x360 with 4 Axes>"
      ]
     },
     "metadata": {
      "needs_background": "light"
     },
     "output_type": "display_data"
    }
   ],
   "source": [
    "# CS390Z - Introduction to Data Minining - Fall 2021\n",
    "# Instructor: Thyago Mota\n",
    "# Description: Data Visualization\n",
    "\n",
    "x5 = []\n",
    "x6 = []\n",
    "x7 = []\n",
    "x8 = []\n",
    "\n",
    "y5 = []\n",
    "y6 = []\n",
    "y7 = []\n",
    "y8 = []\n",
    "\n",
    "for i in range(24, 30):\n",
    "    x5.append(final_df[\"State\"][i])\n",
    "    y5.append(final_df[\"% of Deaths to Cases\"][i])\n",
    "    \n",
    "for i in range(30, 36):\n",
    "    x6.append(final_df[\"State\"][i])\n",
    "    y6.append(final_df[\"% of Deaths to Cases\"][i])\n",
    "    \n",
    "for i in range(36, 42):\n",
    "    x7.append(final_df[\"State\"][i])\n",
    "    y7.append(final_df[\"% of Deaths to Cases\"][i])\n",
    "    \n",
    "for i in range(42, 48):\n",
    "    x8.append(final_df[\"State\"][i])\n",
    "    y8.append(final_df[\"% of Deaths to Cases\"][i])\n",
    "fig, ax = plt.subplots(nrows=2, ncols=2, figsize=(18, 5))\n",
    "ax[0,0].bar(x5, y5, label='a')\n",
    "ax[0,1].bar(x6, y6, label='b')\n",
    "ax[1,0].bar(x7, y7, label='c')\n",
    "ax[1,1].bar(x8, y8, label='d')"
   ]
  },
  {
   "cell_type": "code",
   "execution_count": 17,
   "id": "pursuant-winner",
   "metadata": {},
   "outputs": [
    {
     "data": {
      "text/plain": [
       "<BarContainer object of 3 artists>"
      ]
     },
     "execution_count": 17,
     "metadata": {},
     "output_type": "execute_result"
    },
    {
     "data": {
      "image/png": "[encoded data removed]",
      "text/plain": [
       "<Figure size 432x288 with 1 Axes>"
      ]
     },
     "metadata": {
      "needs_background": "light"
     },
     "output_type": "display_data"
    }
   ],
   "source": [
    "# CS390Z - Introduction to Data Minining - Fall 2021\n",
    "# Instructor: Thyago Mota\n",
    "# Description: Data Visualization\n",
    "\n",
    "x9 = []\n",
    "y9 = []\n",
    "for i in range(48, 51):\n",
    "    x9.append(final_df[\"State\"][i])\n",
    "    y9.append(final_df[\"% of Deaths to Cases\"][i])\n",
    "plt.ylabel(\"Percent\")\n",
    "plt.xlabel(\"State\")\n",
    "plt.title(\"Covid 19 Deaths to Cases Percentage\")\n",
    "plt.bar(x9, y9)"
   ]
  },
  {
   "cell_type": "markdown",
   "id": "descending-composition",
   "metadata": {},
   "source": [
    "### Boxplots\n"
   ]
  },
  {
   "cell_type": "code",
   "execution_count": 18,
   "id": "blessed-trinidad",
   "metadata": {},
   "outputs": [
    {
     "data": {
      "text/plain": [
       "{'whiskers': [<matplotlib.lines.Line2D at 0x7fd34bc24d00>,\n",
       "  <matplotlib.lines.Line2D at 0x7fd34bc330a0>],\n",
       " 'caps': [<matplotlib.lines.Line2D at 0x7fd34bc333a0>,\n",
       "  <matplotlib.lines.Line2D at 0x7fd34bc336a0>],\n",
       " 'boxes': [<matplotlib.lines.Line2D at 0x7fd34bc249a0>],\n",
       " 'medians': [<matplotlib.lines.Line2D at 0x7fd34bc33910>],\n",
       " 'fliers': [<matplotlib.lines.Line2D at 0x7fd34bc33c40>],\n",
       " 'means': []}"
      ]
     },
     "execution_count": 18,
     "metadata": {},
     "output_type": "execute_result"
    },
    {
     "data": {
      "image/png": "[encoded data removed]",
      "text/plain": [
       "<Figure size 432x288 with 1 Axes>"
      ]
     },
     "metadata": {
      "needs_background": "light"
     },
     "output_type": "display_data"
    }
   ],
   "source": [
    "# CS390Z - Introduction to Data Minining - Fall 2021\n",
    "# Instructor: Thyago Mota\n",
    "# Description: Data Visualization\n",
    "\n",
    "plt.title(\"Covid - 19 Cases \")\n",
    "plt.ylabel(\"Number of People (in 100 thousands)\")\n",
    "plt.boxplot(final_df[\"Cases\"])"
   ]
  },
  {
   "cell_type": "code",
   "execution_count": 19,
   "id": "silent-leone",
   "metadata": {},
   "outputs": [
    {
     "data": {
      "text/plain": [
       "{'whiskers': [<matplotlib.lines.Line2D at 0x7fd34b76bee0>,\n",
       "  <matplotlib.lines.Line2D at 0x7fd34b6c3820>],\n",
       " 'caps': [<matplotlib.lines.Line2D at 0x7fd34b6c3d00>,\n",
       "  <matplotlib.lines.Line2D at 0x7fd34b794c70>],\n",
       " 'boxes': [<matplotlib.lines.Line2D at 0x7fd34b746d30>],\n",
       " 'medians': [<matplotlib.lines.Line2D at 0x7fd34b7f83d0>],\n",
       " 'fliers': [<matplotlib.lines.Line2D at 0x7fd34b7f89d0>],\n",
       " 'means': []}"
      ]
     },
     "execution_count": 19,
     "metadata": {},
     "output_type": "execute_result"
    },
    {
     "data": {
      "image/png": "[encoded data removed]",
      "text/plain": [
       "<Figure size 432x288 with 1 Axes>"
      ]
     },
     "metadata": {
      "needs_background": "light"
     },
     "output_type": "display_data"
    }
   ],
   "source": [
    "# CS390Z - Introduction to Data Minining - Fall 2021\n",
    "# Instructor: Thyago Mota\n",
    "# Description: Data Visualization\n",
    "\n",
    "plt.title(\"Covid-19 Deaths\")\n",
    "plt.ylabel(\"Number of People\")\n",
    "plt.boxplot(final_df[\"Deaths\"])"
   ]
  },
  {
   "cell_type": "code",
   "execution_count": 20,
   "id": "forbidden-procurement",
   "metadata": {},
   "outputs": [
    {
     "data": {
      "text/plain": [
       "{'whiskers': [<matplotlib.lines.Line2D at 0x7fd34bc4ba60>,\n",
       "  <matplotlib.lines.Line2D at 0x7fd34b828820>],\n",
       " 'caps': [<matplotlib.lines.Line2D at 0x7fd34b993400>,\n",
       "  <matplotlib.lines.Line2D at 0x7fd34b993b50>],\n",
       " 'boxes': [<matplotlib.lines.Line2D at 0x7fd34bc4baf0>],\n",
       " 'medians': [<matplotlib.lines.Line2D at 0x7fd34b998490>],\n",
       " 'fliers': [<matplotlib.lines.Line2D at 0x7fd34b9989a0>],\n",
       " 'means': []}"
      ]
     },
     "execution_count": 20,
     "metadata": {},
     "output_type": "execute_result"
    },
    {
     "data": {
      "image/png": "[encoded data removed]",
      "text/plain": [
       "<Figure size 432x288 with 1 Axes>"
      ]
     },
     "metadata": {
      "needs_background": "light"
     },
     "output_type": "display_data"
    }
   ],
   "source": [
    "# CS390Z - Introduction to Data Minining - Fall 2021\n",
    "# Instructor: Thyago Mota\n",
    "# Description: Data Visualization\n",
    "\n",
    "plt.title(\"Covid-19 Percentage of Death to Cases\")\n",
    "plt.ylabel(\"Number of People\")\n",
    "plt.boxplot(final_df[\"% of Deaths to Cases\"])"
   ]
  },
  {
   "cell_type": "markdown",
   "id": "confidential-devices",
   "metadata": {},
   "source": [
    "### There are some outliers present in Deaths and Cases. I am assuming these outliers have either highly or lowly population. Places like Alaska vs New York would have lower and higher cases, respectively. "
   ]
  },
  {
   "cell_type": "markdown",
   "id": "covered-effectiveness",
   "metadata": {},
   "source": [
    "# HeatMap --> Correlation of Variables Visualization"
   ]
  },
  {
   "cell_type": "code",
   "execution_count": null,
   "id": "negative-divorce",
   "metadata": {},
   "outputs": [],
   "source": [
    "# CS390Z - Introduction to Data Minining - Fall 2021\n",
    "# Instructor: Thyago Mota\n",
    "# Description: Data Visualization\n",
    "\n",
    "\n",
    "final_df.corr()"
   ]
  },
  {
   "cell_type": "code",
   "execution_count": 22,
   "id": "domestic-animal",
   "metadata": {},
   "outputs": [
    {
     "data": {
      "text/plain": [
       "<AxesSubplot:>"
      ]
     },
     "execution_count": 22,
     "metadata": {},
     "output_type": "execute_result"
    },
    {
     "data": {
      "image/png": "[encoded data removed]",
      "text/plain": [
       "<Figure size 432x288 with 2 Axes>"
      ]
     },
     "metadata": {
      "needs_background": "light"
     },
     "output_type": "display_data"
    }
   ],
   "source": [
    "# CS390Z - Introduction to Data Minining - Fall 2021\n",
    "# Instructor: Thyago Mota\n",
    "# Description: Data Visualization\n",
    "sns.heatmap(final_df.corr(), cmap = \"coolwarm\", annot = True)"
   ]
  },
  {
   "cell_type": "markdown",
   "id": "sunset-march",
   "metadata": {},
   "source": [
    "### Cases and Deaths are highly coorelated (they have a strong relationship with each other (as expected). Oddly enough, the column \"% of Deaths to Cases\" is not as coorelated to deaths or cases, which seems off. "
   ]
  },
  {
   "cell_type": "code",
   "execution_count": null,
   "id": "vietnamese-attribute",
   "metadata": {},
   "outputs": [],
   "source": []
  }
 ],
 "metadata": {
  "interpreter": {
   "hash": "397704579725e15f5c7cb49fe5f0341eb7531c82d19f2c29d197e8b64ab5776b"
  },
  "kernelspec": {
   "display_name": "Python 3",
   "language": "python",
   "name": "python3"
  },
  "language_info": {
   "codemirror_mode": {
    "name": "ipython",
    "version": 3
   },
   "file_extension": ".py",
   "mimetype": "text/x-python",
   "name": "python",
   "nbconvert_exporter": "python",
   "pygments_lexer": "ipython3",
   "version": "3.8.5"
  }
 },
 "nbformat": 4,
 "nbformat_minor": 5
}
