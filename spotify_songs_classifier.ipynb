{
 "cells": [
  {
   "cell_type": "markdown",
   "id": "violent-praise",
   "metadata": {},
   "source": [
    "# Preamble\n",
    "Title: Spotify Song Tracks Classifier - Project02\n",
    "\n",
    "Author: Lucas Nieddu\n",
    "\n",
    "Contact Info: lnieddu@msudenver.edu\n",
    "\n",
    "Date: November 04, 2021\n",
    "# Introduction \n",
    "The goal of this analysis is to develop classification models capable of predicting the genre of a song based on measured audio attributes. \n",
    "\n",
    "# Dataset \n",
    "\n",
    "The dataset for this project is available under 'data' (genres_v2.csv) and it was obtained from [Kaggle](https://www.kaggle.com/mrmorj/dataset-of-songs-in-spotify). It consists of a collection of 42,305 song track from various musical genres, with the following audio attributes:\n",
    "\n",
    "* danceability\n",
    "* energy \n",
    "* key \n",
    "* loudness \n",
    "* speechiness \n",
    "* acousticness \n",
    "* instrumentalness \n",
    "* liveness \n",
    "* valence \n",
    "* tempo \n",
    "* duration_ms\n",
    "\n",
    "The meaning of those audio attributes are described by Spotify [here](https://developer.spotify.com/documentation/web-api/reference/#/operations/get-several-audio-features).\n",
    "Note: Further description of each column follows\n",
    "\n",
    "# Sources\n",
    "- https://towardsdatascience.com/better-heatmaps-and-correlation-matrix-plots-in-python-41445d0f2bec\n",
    "- https://towardsdatascience.com/categorical-encoding-using-label-encoding-and-one-hot-encoder-911ef77fb5bd\n",
    "- https://machinelearningmastery.com/multinomial-logistic-regression-with-python/\n",
    "- https://annahava.medium.com/too-many-categories-how-to-deal-with-categorical-features-of-high-cardinality-d4563cfe62d6\n",
    "- https://towardsdatascience.com/comprehensive-guide-to-multiclass-classification-with-sklearn-127cc500f362\n",
    "- https://towardsdatascience.com/optimizing-hyperparameters-in-random-forest-classification-ec7741f9d3f6\n",
    "- https://machinelearningmastery.com/feature-selection-machine-learning-python/\n",
    "\n",
    "# Data Preprocessing Section"
   ]
  },
  {
   "cell_type": "code",
   "execution_count": null,
   "id": "vocational-heaven",
   "metadata": {},
   "outputs": [
    {
     "ename": "",
     "evalue": "",
     "output_type": "error",
     "traceback": [
      "\u001b[1;31mFailed to start the Kernel. \n",
      "Failed to start the Kernel 'Python 3.9.1 64-bit'. \n",
      "View Jupyter <a href='command:jupyter.viewOutput'>log</a> for further details. Canceled future for execute_request message before replies were done"
     ]
    }
   ],
   "source": [
    "# Imports\n",
    "import os\n",
    "import pandas as pd\n",
    "import numpy as np\n",
    "from matplotlib.cbook import boxplot_stats \n",
    "import matplotlib.pyplot as plt\n",
    "import seaborn as sns\n",
    "\n",
    "# sklearn imports\n",
    "# preprocessing\n",
    "from sklearn import preprocessing\n",
    "from sklearn.preprocessing import OneHotEncoder\n",
    "from sklearn.preprocessing import LabelEncoder\n",
    "from sklearn.model_selection import train_test_split\n",
    "\n",
    "# feature selection\n",
    "from sklearn.feature_selection import SelectFromModel\n",
    "from sklearn.feature_selection import SelectKBest\n",
    "from sklearn.feature_selection import f_classif\n",
    "from sklearn.feature_selection import RFE\n",
    "from sklearn.decomposition import PCA\n",
    "\n",
    "# models\n",
    "from sklearn.linear_model import LogisticRegression\n",
    "from sklearn.neural_network import MLPClassifier\n",
    "from sklearn.ensemble import RandomForestClassifier\n",
    "from sklearn.naive_bayes import MultinomialNB\n",
    "from sklearn.model_selection import RepeatedStratifiedKFold\n",
    "from sklearn.neighbors import KNeighborsClassifier\n",
    "\n",
    "# model analysis \n",
    "from sklearn.model_selection import cross_val_score\n",
    "from sklearn.metrics import multilabel_confusion_matrix\n",
    "from sklearn.metrics import classification_report\n",
    "\n",
    "# statistics\n",
    "from scipy import stats\n",
    "from sklearn.preprocessing import MinMaxScaler"
   ]
  },
  {
   "cell_type": "code",
   "execution_count": 2,
   "id": "finite-tuner",
   "metadata": {},
   "outputs": [
    {
     "name": "stdout",
     "output_type": "stream",
     "text": [
      "data/genres_v2.csv successfully loaded into pandas dataframe 'genres_df'\n"
     ]
    }
   ],
   "source": [
    "# Load the file into a pandas dataframe \n",
    "def load_csv():\n",
    "    try:\n",
    "        file_name = os.path.join(\"data\", \"genres_v2.csv\" )\n",
    "        genres_df = pd.read_csv(file_name, low_memory = False)\n",
    "        print(file_name, \"successfully loaded into pandas dataframe 'genres_df'\")\n",
    "        return genres_df\n",
    "    except Exception as e:\n",
    "        print(\"FILE HANDLING ERROR: \", e)\n",
    "data_frame = load_csv()"
   ]
  },
  {
   "cell_type": "markdown",
   "id": "afraid-limit",
   "metadata": {},
   "source": [
    "### Quick look at the data..."
   ]
  },
  {
   "cell_type": "code",
   "execution_count": 3,
   "id": "illegal-summit",
   "metadata": {},
   "outputs": [
    {
     "data": {
      "text/html": [
       "<div>\n",
       "<style scoped>\n",
       "    .dataframe tbody tr th:only-of-type {\n",
       "        vertical-align: middle;\n",
       "    }\n",
       "\n",
       "    .dataframe tbody tr th {\n",
       "        vertical-align: top;\n",
       "    }\n",
       "\n",
       "    .dataframe thead th {\n",
       "        text-align: right;\n",
       "    }\n",
       "</style>\n",
       "<table border=\"1\" class=\"dataframe\">\n",
       "  <thead>\n",
       "    <tr style=\"text-align: right;\">\n",
       "      <th></th>\n",
       "      <th>danceability</th>\n",
       "      <th>energy</th>\n",
       "      <th>key</th>\n",
       "      <th>loudness</th>\n",
       "      <th>mode</th>\n",
       "      <th>speechiness</th>\n",
       "      <th>acousticness</th>\n",
       "      <th>instrumentalness</th>\n",
       "      <th>liveness</th>\n",
       "      <th>valence</th>\n",
       "      <th>...</th>\n",
       "      <th>id</th>\n",
       "      <th>uri</th>\n",
       "      <th>track_href</th>\n",
       "      <th>analysis_url</th>\n",
       "      <th>duration_ms</th>\n",
       "      <th>time_signature</th>\n",
       "      <th>genre</th>\n",
       "      <th>song_name</th>\n",
       "      <th>Unnamed: 0</th>\n",
       "      <th>title</th>\n",
       "    </tr>\n",
       "  </thead>\n",
       "  <tbody>\n",
       "    <tr>\n",
       "      <th>0</th>\n",
       "      <td>0.831</td>\n",
       "      <td>0.814</td>\n",
       "      <td>2</td>\n",
       "      <td>-7.364</td>\n",
       "      <td>1</td>\n",
       "      <td>0.4200</td>\n",
       "      <td>0.0598</td>\n",
       "      <td>0.013400</td>\n",
       "      <td>0.0556</td>\n",
       "      <td>0.3890</td>\n",
       "      <td>...</td>\n",
       "      <td>2Vc6NJ9PW9gD9q343XFRKx</td>\n",
       "      <td>spotify:track:2Vc6NJ9PW9gD9q343XFRKx</td>\n",
       "      <td>https://api.spotify.com/v1/tracks/2Vc6NJ9PW9gD...</td>\n",
       "      <td>https://api.spotify.com/v1/audio-analysis/2Vc6...</td>\n",
       "      <td>124539</td>\n",
       "      <td>4</td>\n",
       "      <td>Dark Trap</td>\n",
       "      <td>Mercury: Retrograde</td>\n",
       "      <td>NaN</td>\n",
       "      <td>NaN</td>\n",
       "    </tr>\n",
       "    <tr>\n",
       "      <th>1</th>\n",
       "      <td>0.719</td>\n",
       "      <td>0.493</td>\n",
       "      <td>8</td>\n",
       "      <td>-7.230</td>\n",
       "      <td>1</td>\n",
       "      <td>0.0794</td>\n",
       "      <td>0.4010</td>\n",
       "      <td>0.000000</td>\n",
       "      <td>0.1180</td>\n",
       "      <td>0.1240</td>\n",
       "      <td>...</td>\n",
       "      <td>7pgJBLVz5VmnL7uGHmRj6p</td>\n",
       "      <td>spotify:track:7pgJBLVz5VmnL7uGHmRj6p</td>\n",
       "      <td>https://api.spotify.com/v1/tracks/7pgJBLVz5Vmn...</td>\n",
       "      <td>https://api.spotify.com/v1/audio-analysis/7pgJ...</td>\n",
       "      <td>224427</td>\n",
       "      <td>4</td>\n",
       "      <td>Dark Trap</td>\n",
       "      <td>Pathology</td>\n",
       "      <td>NaN</td>\n",
       "      <td>NaN</td>\n",
       "    </tr>\n",
       "    <tr>\n",
       "      <th>2</th>\n",
       "      <td>0.850</td>\n",
       "      <td>0.893</td>\n",
       "      <td>5</td>\n",
       "      <td>-4.783</td>\n",
       "      <td>1</td>\n",
       "      <td>0.0623</td>\n",
       "      <td>0.0138</td>\n",
       "      <td>0.000004</td>\n",
       "      <td>0.3720</td>\n",
       "      <td>0.0391</td>\n",
       "      <td>...</td>\n",
       "      <td>0vSWgAlfpye0WCGeNmuNhy</td>\n",
       "      <td>spotify:track:0vSWgAlfpye0WCGeNmuNhy</td>\n",
       "      <td>https://api.spotify.com/v1/tracks/0vSWgAlfpye0...</td>\n",
       "      <td>https://api.spotify.com/v1/audio-analysis/0vSW...</td>\n",
       "      <td>98821</td>\n",
       "      <td>4</td>\n",
       "      <td>Dark Trap</td>\n",
       "      <td>Symbiote</td>\n",
       "      <td>NaN</td>\n",
       "      <td>NaN</td>\n",
       "    </tr>\n",
       "    <tr>\n",
       "      <th>3</th>\n",
       "      <td>0.476</td>\n",
       "      <td>0.781</td>\n",
       "      <td>0</td>\n",
       "      <td>-4.710</td>\n",
       "      <td>1</td>\n",
       "      <td>0.1030</td>\n",
       "      <td>0.0237</td>\n",
       "      <td>0.000000</td>\n",
       "      <td>0.1140</td>\n",
       "      <td>0.1750</td>\n",
       "      <td>...</td>\n",
       "      <td>0VSXnJqQkwuH2ei1nOQ1nu</td>\n",
       "      <td>spotify:track:0VSXnJqQkwuH2ei1nOQ1nu</td>\n",
       "      <td>https://api.spotify.com/v1/tracks/0VSXnJqQkwuH...</td>\n",
       "      <td>https://api.spotify.com/v1/audio-analysis/0VSX...</td>\n",
       "      <td>123661</td>\n",
       "      <td>3</td>\n",
       "      <td>Dark Trap</td>\n",
       "      <td>ProductOfDrugs (Prod. The Virus and Antidote)</td>\n",
       "      <td>NaN</td>\n",
       "      <td>NaN</td>\n",
       "    </tr>\n",
       "    <tr>\n",
       "      <th>4</th>\n",
       "      <td>0.798</td>\n",
       "      <td>0.624</td>\n",
       "      <td>2</td>\n",
       "      <td>-7.668</td>\n",
       "      <td>1</td>\n",
       "      <td>0.2930</td>\n",
       "      <td>0.2170</td>\n",
       "      <td>0.000000</td>\n",
       "      <td>0.1660</td>\n",
       "      <td>0.5910</td>\n",
       "      <td>...</td>\n",
       "      <td>4jCeguq9rMTlbMmPHuO7S3</td>\n",
       "      <td>spotify:track:4jCeguq9rMTlbMmPHuO7S3</td>\n",
       "      <td>https://api.spotify.com/v1/tracks/4jCeguq9rMTl...</td>\n",
       "      <td>https://api.spotify.com/v1/audio-analysis/4jCe...</td>\n",
       "      <td>123298</td>\n",
       "      <td>4</td>\n",
       "      <td>Dark Trap</td>\n",
       "      <td>Venom</td>\n",
       "      <td>NaN</td>\n",
       "      <td>NaN</td>\n",
       "    </tr>\n",
       "  </tbody>\n",
       "</table>\n",
       "<p>5 rows × 22 columns</p>\n",
       "</div>"
      ],
      "text/plain": [
       "   danceability  energy  key  loudness  mode  speechiness  acousticness  \\\n",
       "0         0.831   0.814    2    -7.364     1       0.4200        0.0598   \n",
       "1         0.719   0.493    8    -7.230     1       0.0794        0.4010   \n",
       "2         0.850   0.893    5    -4.783     1       0.0623        0.0138   \n",
       "3         0.476   0.781    0    -4.710     1       0.1030        0.0237   \n",
       "4         0.798   0.624    2    -7.668     1       0.2930        0.2170   \n",
       "\n",
       "   instrumentalness  liveness  valence  ...                      id  \\\n",
       "0          0.013400    0.0556   0.3890  ...  2Vc6NJ9PW9gD9q343XFRKx   \n",
       "1          0.000000    0.1180   0.1240  ...  7pgJBLVz5VmnL7uGHmRj6p   \n",
       "2          0.000004    0.3720   0.0391  ...  0vSWgAlfpye0WCGeNmuNhy   \n",
       "3          0.000000    0.1140   0.1750  ...  0VSXnJqQkwuH2ei1nOQ1nu   \n",
       "4          0.000000    0.1660   0.5910  ...  4jCeguq9rMTlbMmPHuO7S3   \n",
       "\n",
       "                                    uri  \\\n",
       "0  spotify:track:2Vc6NJ9PW9gD9q343XFRKx   \n",
       "1  spotify:track:7pgJBLVz5VmnL7uGHmRj6p   \n",
       "2  spotify:track:0vSWgAlfpye0WCGeNmuNhy   \n",
       "3  spotify:track:0VSXnJqQkwuH2ei1nOQ1nu   \n",
       "4  spotify:track:4jCeguq9rMTlbMmPHuO7S3   \n",
       "\n",
       "                                          track_href  \\\n",
       "0  https://api.spotify.com/v1/tracks/2Vc6NJ9PW9gD...   \n",
       "1  https://api.spotify.com/v1/tracks/7pgJBLVz5Vmn...   \n",
       "2  https://api.spotify.com/v1/tracks/0vSWgAlfpye0...   \n",
       "3  https://api.spotify.com/v1/tracks/0VSXnJqQkwuH...   \n",
       "4  https://api.spotify.com/v1/tracks/4jCeguq9rMTl...   \n",
       "\n",
       "                                        analysis_url duration_ms  \\\n",
       "0  https://api.spotify.com/v1/audio-analysis/2Vc6...      124539   \n",
       "1  https://api.spotify.com/v1/audio-analysis/7pgJ...      224427   \n",
       "2  https://api.spotify.com/v1/audio-analysis/0vSW...       98821   \n",
       "3  https://api.spotify.com/v1/audio-analysis/0VSX...      123661   \n",
       "4  https://api.spotify.com/v1/audio-analysis/4jCe...      123298   \n",
       "\n",
       "  time_signature      genre                                      song_name  \\\n",
       "0              4  Dark Trap                            Mercury: Retrograde   \n",
       "1              4  Dark Trap                                      Pathology   \n",
       "2              4  Dark Trap                                       Symbiote   \n",
       "3              3  Dark Trap  ProductOfDrugs (Prod. The Virus and Antidote)   \n",
       "4              4  Dark Trap                                          Venom   \n",
       "\n",
       "  Unnamed: 0 title  \n",
       "0        NaN   NaN  \n",
       "1        NaN   NaN  \n",
       "2        NaN   NaN  \n",
       "3        NaN   NaN  \n",
       "4        NaN   NaN  \n",
       "\n",
       "[5 rows x 22 columns]"
      ]
     },
     "execution_count": 3,
     "metadata": {},
     "output_type": "execute_result"
    }
   ],
   "source": [
    "data_frame.head()"
   ]
  },
  {
   "cell_type": "code",
   "execution_count": 4,
   "id": "dutch-token",
   "metadata": {},
   "outputs": [
    {
     "name": "stdout",
     "output_type": "stream",
     "text": [
      "<class 'pandas.core.frame.DataFrame'>\n",
      "RangeIndex: 42305 entries, 0 to 42304\n",
      "Data columns (total 22 columns):\n",
      " #   Column            Non-Null Count  Dtype  \n",
      "---  ------            --------------  -----  \n",
      " 0   danceability      42305 non-null  float64\n",
      " 1   energy            42305 non-null  float64\n",
      " 2   key               42305 non-null  int64  \n",
      " 3   loudness          42305 non-null  float64\n",
      " 4   mode              42305 non-null  int64  \n",
      " 5   speechiness       42305 non-null  float64\n",
      " 6   acousticness      42305 non-null  float64\n",
      " 7   instrumentalness  42305 non-null  float64\n",
      " 8   liveness          42305 non-null  float64\n",
      " 9   valence           42305 non-null  float64\n",
      " 10  tempo             42305 non-null  float64\n",
      " 11  type              42305 non-null  object \n",
      " 12  id                42305 non-null  object \n",
      " 13  uri               42305 non-null  object \n",
      " 14  track_href        42305 non-null  object \n",
      " 15  analysis_url      42305 non-null  object \n",
      " 16  duration_ms       42305 non-null  int64  \n",
      " 17  time_signature    42305 non-null  int64  \n",
      " 18  genre             42305 non-null  object \n",
      " 19  song_name         21519 non-null  object \n",
      " 20  Unnamed: 0        20780 non-null  float64\n",
      " 21  title             20780 non-null  object \n",
      "dtypes: float64(10), int64(4), object(8)\n",
      "memory usage: 7.1+ MB\n"
     ]
    }
   ],
   "source": [
    "data_frame.info()"
   ]
  },
  {
   "cell_type": "code",
   "execution_count": 5,
   "id": "popular-picnic",
   "metadata": {},
   "outputs": [
    {
     "data": {
      "text/html": [
       "<div>\n",
       "<style scoped>\n",
       "    .dataframe tbody tr th:only-of-type {\n",
       "        vertical-align: middle;\n",
       "    }\n",
       "\n",
       "    .dataframe tbody tr th {\n",
       "        vertical-align: top;\n",
       "    }\n",
       "\n",
       "    .dataframe thead th {\n",
       "        text-align: right;\n",
       "    }\n",
       "</style>\n",
       "<table border=\"1\" class=\"dataframe\">\n",
       "  <thead>\n",
       "    <tr style=\"text-align: right;\">\n",
       "      <th></th>\n",
       "      <th>danceability</th>\n",
       "      <th>energy</th>\n",
       "      <th>key</th>\n",
       "      <th>loudness</th>\n",
       "      <th>mode</th>\n",
       "      <th>speechiness</th>\n",
       "      <th>acousticness</th>\n",
       "      <th>instrumentalness</th>\n",
       "      <th>liveness</th>\n",
       "      <th>valence</th>\n",
       "      <th>...</th>\n",
       "      <th>id</th>\n",
       "      <th>uri</th>\n",
       "      <th>track_href</th>\n",
       "      <th>analysis_url</th>\n",
       "      <th>duration_ms</th>\n",
       "      <th>time_signature</th>\n",
       "      <th>genre</th>\n",
       "      <th>song_name</th>\n",
       "      <th>Unnamed: 0</th>\n",
       "      <th>title</th>\n",
       "    </tr>\n",
       "  </thead>\n",
       "  <tbody>\n",
       "    <tr>\n",
       "      <th>count</th>\n",
       "      <td>42305.000000</td>\n",
       "      <td>42305.000000</td>\n",
       "      <td>42305.000000</td>\n",
       "      <td>42305.000000</td>\n",
       "      <td>42305.000000</td>\n",
       "      <td>42305.000000</td>\n",
       "      <td>42305.000000</td>\n",
       "      <td>42305.000000</td>\n",
       "      <td>42305.000000</td>\n",
       "      <td>42305.000000</td>\n",
       "      <td>...</td>\n",
       "      <td>42305</td>\n",
       "      <td>42305</td>\n",
       "      <td>42305</td>\n",
       "      <td>42305</td>\n",
       "      <td>42305.000000</td>\n",
       "      <td>42305.000000</td>\n",
       "      <td>42305</td>\n",
       "      <td>21519</td>\n",
       "      <td>20780.000000</td>\n",
       "      <td>20780</td>\n",
       "    </tr>\n",
       "    <tr>\n",
       "      <th>unique</th>\n",
       "      <td>NaN</td>\n",
       "      <td>NaN</td>\n",
       "      <td>NaN</td>\n",
       "      <td>NaN</td>\n",
       "      <td>NaN</td>\n",
       "      <td>NaN</td>\n",
       "      <td>NaN</td>\n",
       "      <td>NaN</td>\n",
       "      <td>NaN</td>\n",
       "      <td>NaN</td>\n",
       "      <td>...</td>\n",
       "      <td>35877</td>\n",
       "      <td>35877</td>\n",
       "      <td>35877</td>\n",
       "      <td>35877</td>\n",
       "      <td>NaN</td>\n",
       "      <td>NaN</td>\n",
       "      <td>15</td>\n",
       "      <td>15439</td>\n",
       "      <td>NaN</td>\n",
       "      <td>132</td>\n",
       "    </tr>\n",
       "    <tr>\n",
       "      <th>top</th>\n",
       "      <td>NaN</td>\n",
       "      <td>NaN</td>\n",
       "      <td>NaN</td>\n",
       "      <td>NaN</td>\n",
       "      <td>NaN</td>\n",
       "      <td>NaN</td>\n",
       "      <td>NaN</td>\n",
       "      <td>NaN</td>\n",
       "      <td>NaN</td>\n",
       "      <td>NaN</td>\n",
       "      <td>...</td>\n",
       "      <td>7D5qMGajdfznFcXFArk5VE</td>\n",
       "      <td>spotify:track:7D5qMGajdfznFcXFArk5VE</td>\n",
       "      <td>https://api.spotify.com/v1/tracks/7D5qMGajdfzn...</td>\n",
       "      <td>https://api.spotify.com/v1/audio-analysis/7D5q...</td>\n",
       "      <td>NaN</td>\n",
       "      <td>NaN</td>\n",
       "      <td>Underground Rap</td>\n",
       "      <td>Forever</td>\n",
       "      <td>NaN</td>\n",
       "      <td>Euphoric Hardstyle</td>\n",
       "    </tr>\n",
       "    <tr>\n",
       "      <th>freq</th>\n",
       "      <td>NaN</td>\n",
       "      <td>NaN</td>\n",
       "      <td>NaN</td>\n",
       "      <td>NaN</td>\n",
       "      <td>NaN</td>\n",
       "      <td>NaN</td>\n",
       "      <td>NaN</td>\n",
       "      <td>NaN</td>\n",
       "      <td>NaN</td>\n",
       "      <td>NaN</td>\n",
       "      <td>...</td>\n",
       "      <td>9</td>\n",
       "      <td>9</td>\n",
       "      <td>9</td>\n",
       "      <td>9</td>\n",
       "      <td>NaN</td>\n",
       "      <td>NaN</td>\n",
       "      <td>5875</td>\n",
       "      <td>14</td>\n",
       "      <td>NaN</td>\n",
       "      <td>1398</td>\n",
       "    </tr>\n",
       "    <tr>\n",
       "      <th>mean</th>\n",
       "      <td>0.639364</td>\n",
       "      <td>0.762516</td>\n",
       "      <td>5.370240</td>\n",
       "      <td>-6.465442</td>\n",
       "      <td>0.549462</td>\n",
       "      <td>0.136561</td>\n",
       "      <td>0.096160</td>\n",
       "      <td>0.283048</td>\n",
       "      <td>0.214079</td>\n",
       "      <td>0.357101</td>\n",
       "      <td>...</td>\n",
       "      <td>NaN</td>\n",
       "      <td>NaN</td>\n",
       "      <td>NaN</td>\n",
       "      <td>NaN</td>\n",
       "      <td>250865.846685</td>\n",
       "      <td>3.972580</td>\n",
       "      <td>NaN</td>\n",
       "      <td>NaN</td>\n",
       "      <td>10483.970645</td>\n",
       "      <td>NaN</td>\n",
       "    </tr>\n",
       "    <tr>\n",
       "      <th>std</th>\n",
       "      <td>0.156617</td>\n",
       "      <td>0.183823</td>\n",
       "      <td>3.666145</td>\n",
       "      <td>2.941165</td>\n",
       "      <td>0.497553</td>\n",
       "      <td>0.126168</td>\n",
       "      <td>0.170827</td>\n",
       "      <td>0.370791</td>\n",
       "      <td>0.175576</td>\n",
       "      <td>0.233200</td>\n",
       "      <td>...</td>\n",
       "      <td>NaN</td>\n",
       "      <td>NaN</td>\n",
       "      <td>NaN</td>\n",
       "      <td>NaN</td>\n",
       "      <td>102957.713571</td>\n",
       "      <td>0.268342</td>\n",
       "      <td>NaN</td>\n",
       "      <td>NaN</td>\n",
       "      <td>6052.359519</td>\n",
       "      <td>NaN</td>\n",
       "    </tr>\n",
       "    <tr>\n",
       "      <th>min</th>\n",
       "      <td>0.065100</td>\n",
       "      <td>0.000243</td>\n",
       "      <td>0.000000</td>\n",
       "      <td>-33.357000</td>\n",
       "      <td>0.000000</td>\n",
       "      <td>0.022700</td>\n",
       "      <td>0.000001</td>\n",
       "      <td>0.000000</td>\n",
       "      <td>0.010700</td>\n",
       "      <td>0.018700</td>\n",
       "      <td>...</td>\n",
       "      <td>NaN</td>\n",
       "      <td>NaN</td>\n",
       "      <td>NaN</td>\n",
       "      <td>NaN</td>\n",
       "      <td>25600.000000</td>\n",
       "      <td>1.000000</td>\n",
       "      <td>NaN</td>\n",
       "      <td>NaN</td>\n",
       "      <td>0.000000</td>\n",
       "      <td>NaN</td>\n",
       "    </tr>\n",
       "    <tr>\n",
       "      <th>25%</th>\n",
       "      <td>0.524000</td>\n",
       "      <td>0.632000</td>\n",
       "      <td>1.000000</td>\n",
       "      <td>-8.161000</td>\n",
       "      <td>0.000000</td>\n",
       "      <td>0.049100</td>\n",
       "      <td>0.001730</td>\n",
       "      <td>0.000000</td>\n",
       "      <td>0.099600</td>\n",
       "      <td>0.161000</td>\n",
       "      <td>...</td>\n",
       "      <td>NaN</td>\n",
       "      <td>NaN</td>\n",
       "      <td>NaN</td>\n",
       "      <td>NaN</td>\n",
       "      <td>179840.000000</td>\n",
       "      <td>4.000000</td>\n",
       "      <td>NaN</td>\n",
       "      <td>NaN</td>\n",
       "      <td>5255.750000</td>\n",
       "      <td>NaN</td>\n",
       "    </tr>\n",
       "    <tr>\n",
       "      <th>50%</th>\n",
       "      <td>0.646000</td>\n",
       "      <td>0.803000</td>\n",
       "      <td>6.000000</td>\n",
       "      <td>-6.234000</td>\n",
       "      <td>1.000000</td>\n",
       "      <td>0.075500</td>\n",
       "      <td>0.016400</td>\n",
       "      <td>0.005940</td>\n",
       "      <td>0.135000</td>\n",
       "      <td>0.322000</td>\n",
       "      <td>...</td>\n",
       "      <td>NaN</td>\n",
       "      <td>NaN</td>\n",
       "      <td>NaN</td>\n",
       "      <td>NaN</td>\n",
       "      <td>224760.000000</td>\n",
       "      <td>4.000000</td>\n",
       "      <td>NaN</td>\n",
       "      <td>NaN</td>\n",
       "      <td>10479.500000</td>\n",
       "      <td>NaN</td>\n",
       "    </tr>\n",
       "    <tr>\n",
       "      <th>75%</th>\n",
       "      <td>0.766000</td>\n",
       "      <td>0.923000</td>\n",
       "      <td>9.000000</td>\n",
       "      <td>-4.513000</td>\n",
       "      <td>1.000000</td>\n",
       "      <td>0.193000</td>\n",
       "      <td>0.107000</td>\n",
       "      <td>0.722000</td>\n",
       "      <td>0.294000</td>\n",
       "      <td>0.522000</td>\n",
       "      <td>...</td>\n",
       "      <td>NaN</td>\n",
       "      <td>NaN</td>\n",
       "      <td>NaN</td>\n",
       "      <td>NaN</td>\n",
       "      <td>301133.000000</td>\n",
       "      <td>4.000000</td>\n",
       "      <td>NaN</td>\n",
       "      <td>NaN</td>\n",
       "      <td>15709.250000</td>\n",
       "      <td>NaN</td>\n",
       "    </tr>\n",
       "    <tr>\n",
       "      <th>max</th>\n",
       "      <td>0.988000</td>\n",
       "      <td>1.000000</td>\n",
       "      <td>11.000000</td>\n",
       "      <td>3.148000</td>\n",
       "      <td>1.000000</td>\n",
       "      <td>0.946000</td>\n",
       "      <td>0.988000</td>\n",
       "      <td>0.989000</td>\n",
       "      <td>0.988000</td>\n",
       "      <td>0.988000</td>\n",
       "      <td>...</td>\n",
       "      <td>NaN</td>\n",
       "      <td>NaN</td>\n",
       "      <td>NaN</td>\n",
       "      <td>NaN</td>\n",
       "      <td>913052.000000</td>\n",
       "      <td>5.000000</td>\n",
       "      <td>NaN</td>\n",
       "      <td>NaN</td>\n",
       "      <td>20999.000000</td>\n",
       "      <td>NaN</td>\n",
       "    </tr>\n",
       "  </tbody>\n",
       "</table>\n",
       "<p>11 rows × 22 columns</p>\n",
       "</div>"
      ],
      "text/plain": [
       "        danceability        energy           key      loudness          mode  \\\n",
       "count   42305.000000  42305.000000  42305.000000  42305.000000  42305.000000   \n",
       "unique           NaN           NaN           NaN           NaN           NaN   \n",
       "top              NaN           NaN           NaN           NaN           NaN   \n",
       "freq             NaN           NaN           NaN           NaN           NaN   \n",
       "mean        0.639364      0.762516      5.370240     -6.465442      0.549462   \n",
       "std         0.156617      0.183823      3.666145      2.941165      0.497553   \n",
       "min         0.065100      0.000243      0.000000    -33.357000      0.000000   \n",
       "25%         0.524000      0.632000      1.000000     -8.161000      0.000000   \n",
       "50%         0.646000      0.803000      6.000000     -6.234000      1.000000   \n",
       "75%         0.766000      0.923000      9.000000     -4.513000      1.000000   \n",
       "max         0.988000      1.000000     11.000000      3.148000      1.000000   \n",
       "\n",
       "         speechiness  acousticness  instrumentalness      liveness  \\\n",
       "count   42305.000000  42305.000000      42305.000000  42305.000000   \n",
       "unique           NaN           NaN               NaN           NaN   \n",
       "top              NaN           NaN               NaN           NaN   \n",
       "freq             NaN           NaN               NaN           NaN   \n",
       "mean        0.136561      0.096160          0.283048      0.214079   \n",
       "std         0.126168      0.170827          0.370791      0.175576   \n",
       "min         0.022700      0.000001          0.000000      0.010700   \n",
       "25%         0.049100      0.001730          0.000000      0.099600   \n",
       "50%         0.075500      0.016400          0.005940      0.135000   \n",
       "75%         0.193000      0.107000          0.722000      0.294000   \n",
       "max         0.946000      0.988000          0.989000      0.988000   \n",
       "\n",
       "             valence  ...                      id  \\\n",
       "count   42305.000000  ...                   42305   \n",
       "unique           NaN  ...                   35877   \n",
       "top              NaN  ...  7D5qMGajdfznFcXFArk5VE   \n",
       "freq             NaN  ...                       9   \n",
       "mean        0.357101  ...                     NaN   \n",
       "std         0.233200  ...                     NaN   \n",
       "min         0.018700  ...                     NaN   \n",
       "25%         0.161000  ...                     NaN   \n",
       "50%         0.322000  ...                     NaN   \n",
       "75%         0.522000  ...                     NaN   \n",
       "max         0.988000  ...                     NaN   \n",
       "\n",
       "                                         uri  \\\n",
       "count                                  42305   \n",
       "unique                                 35877   \n",
       "top     spotify:track:7D5qMGajdfznFcXFArk5VE   \n",
       "freq                                       9   \n",
       "mean                                     NaN   \n",
       "std                                      NaN   \n",
       "min                                      NaN   \n",
       "25%                                      NaN   \n",
       "50%                                      NaN   \n",
       "75%                                      NaN   \n",
       "max                                      NaN   \n",
       "\n",
       "                                               track_href  \\\n",
       "count                                               42305   \n",
       "unique                                              35877   \n",
       "top     https://api.spotify.com/v1/tracks/7D5qMGajdfzn...   \n",
       "freq                                                    9   \n",
       "mean                                                  NaN   \n",
       "std                                                   NaN   \n",
       "min                                                   NaN   \n",
       "25%                                                   NaN   \n",
       "50%                                                   NaN   \n",
       "75%                                                   NaN   \n",
       "max                                                   NaN   \n",
       "\n",
       "                                             analysis_url    duration_ms  \\\n",
       "count                                               42305   42305.000000   \n",
       "unique                                              35877            NaN   \n",
       "top     https://api.spotify.com/v1/audio-analysis/7D5q...            NaN   \n",
       "freq                                                    9            NaN   \n",
       "mean                                                  NaN  250865.846685   \n",
       "std                                                   NaN  102957.713571   \n",
       "min                                                   NaN   25600.000000   \n",
       "25%                                                   NaN  179840.000000   \n",
       "50%                                                   NaN  224760.000000   \n",
       "75%                                                   NaN  301133.000000   \n",
       "max                                                   NaN  913052.000000   \n",
       "\n",
       "       time_signature            genre  song_name    Unnamed: 0  \\\n",
       "count    42305.000000            42305      21519  20780.000000   \n",
       "unique            NaN               15      15439           NaN   \n",
       "top               NaN  Underground Rap    Forever           NaN   \n",
       "freq              NaN             5875         14           NaN   \n",
       "mean         3.972580              NaN        NaN  10483.970645   \n",
       "std          0.268342              NaN        NaN   6052.359519   \n",
       "min          1.000000              NaN        NaN      0.000000   \n",
       "25%          4.000000              NaN        NaN   5255.750000   \n",
       "50%          4.000000              NaN        NaN  10479.500000   \n",
       "75%          4.000000              NaN        NaN  15709.250000   \n",
       "max          5.000000              NaN        NaN  20999.000000   \n",
       "\n",
       "                     title  \n",
       "count                20780  \n",
       "unique                 132  \n",
       "top     Euphoric Hardstyle  \n",
       "freq                  1398  \n",
       "mean                   NaN  \n",
       "std                    NaN  \n",
       "min                    NaN  \n",
       "25%                    NaN  \n",
       "50%                    NaN  \n",
       "75%                    NaN  \n",
       "max                    NaN  \n",
       "\n",
       "[11 rows x 22 columns]"
      ]
     },
     "execution_count": 5,
     "metadata": {},
     "output_type": "execute_result"
    }
   ],
   "source": [
    "data_frame.describe(include = \"all\")"
   ]
  },
  {
   "cell_type": "markdown",
   "id": "amateur-paraguay",
   "metadata": {},
   "source": [
    "#### Initial Observations...\n",
    "- There are some null values in the dataset\n",
    "- There are three different dtypes(int, float, object) \n",
    "- I need to take a closer look dtypes = object ---> These are likely string representations  \n",
    "- I need to take a closer look at the columns with null values\n",
    "- There are some columns in the dataset that are not mentioned in the project specifications\n",
    "- I have decided to drop columns not mentioned in the specs. "
   ]
  },
  {
   "cell_type": "code",
   "execution_count": 6,
   "id": "derived-hamilton",
   "metadata": {},
   "outputs": [
    {
     "name": "stdout",
     "output_type": "stream",
     "text": [
      "Making a copy of 'data_frame' called 'df'...\n",
      "Dropping features...\n",
      "Keeping:  \n",
      "\n",
      " ['danceability', 'energy', 'key', 'loudness', 'speechiness', 'acousticness', 'instrumentalness', 'liveness', 'valence', 'tempo', 'duration_ms', 'mode', 'genre'] \n",
      " \n",
      "\n",
      "Done.\n"
     ]
    }
   ],
   "source": [
    "# drop columns not mentioned in specs, part from 'mode'\n",
    "features_list = [\"danceability\",\"energy\", \"key\", \n",
    "           \"loudness\" , \"speechiness\", \"acousticness\", \n",
    "           \"instrumentalness\", \"liveness\", \"valence\", \n",
    "           \"tempo\", \"duration_ms\", \"mode\", \"genre\"]\n",
    "\n",
    "def drop_features_from_list(features_list):\n",
    "    # make a copy of the dataframe\n",
    "    print(\"Making a copy of 'data_frame' called 'df'...\")\n",
    "    df = pd.DataFrame(data_frame).copy()\n",
    "    \n",
    "    # drop feature columns from a list \n",
    "    print(\"Dropping features...\")\n",
    "    print(\"Keeping:  \\n\\n\",features_list, \"\\n \\n\")\n",
    "    for i in df.columns.values:\n",
    "        if i not in features_list:\n",
    "            df = df.drop(str(i), axis = 1)\n",
    "    print(\"Done.\")\n",
    "    return df\n",
    "df = drop_features_from_list(features_list)"
   ]
  },
  {
   "cell_type": "markdown",
   "id": "complex-truck",
   "metadata": {},
   "source": [
    "### Take a second look at the dataframe after dropping uneeded features..."
   ]
  },
  {
   "cell_type": "code",
   "execution_count": 7,
   "id": "charitable-sandwich",
   "metadata": {},
   "outputs": [
    {
     "data": {
      "text/plain": [
       "danceability        0\n",
       "energy              0\n",
       "key                 0\n",
       "loudness            0\n",
       "mode                0\n",
       "speechiness         0\n",
       "acousticness        0\n",
       "instrumentalness    0\n",
       "liveness            0\n",
       "valence             0\n",
       "tempo               0\n",
       "duration_ms         0\n",
       "genre               0\n",
       "dtype: int64"
      ]
     },
     "execution_count": 7,
     "metadata": {},
     "output_type": "execute_result"
    }
   ],
   "source": [
    "df.isna().sum()"
   ]
  },
  {
   "cell_type": "code",
   "execution_count": 8,
   "id": "illegal-softball",
   "metadata": {},
   "outputs": [
    {
     "name": "stdout",
     "output_type": "stream",
     "text": [
      "<class 'pandas.core.frame.DataFrame'>\n",
      "RangeIndex: 42305 entries, 0 to 42304\n",
      "Data columns (total 13 columns):\n",
      " #   Column            Non-Null Count  Dtype  \n",
      "---  ------            --------------  -----  \n",
      " 0   danceability      42305 non-null  float64\n",
      " 1   energy            42305 non-null  float64\n",
      " 2   key               42305 non-null  int64  \n",
      " 3   loudness          42305 non-null  float64\n",
      " 4   mode              42305 non-null  int64  \n",
      " 5   speechiness       42305 non-null  float64\n",
      " 6   acousticness      42305 non-null  float64\n",
      " 7   instrumentalness  42305 non-null  float64\n",
      " 8   liveness          42305 non-null  float64\n",
      " 9   valence           42305 non-null  float64\n",
      " 10  tempo             42305 non-null  float64\n",
      " 11  duration_ms       42305 non-null  int64  \n",
      " 12  genre             42305 non-null  object \n",
      "dtypes: float64(9), int64(3), object(1)\n",
      "memory usage: 4.2+ MB\n"
     ]
    }
   ],
   "source": [
    "df.info()"
   ]
  },
  {
   "cell_type": "markdown",
   "id": "piano-clearing",
   "metadata": {},
   "source": [
    "### Quick look at the target variable 'genre'..."
   ]
  },
  {
   "cell_type": "code",
   "execution_count": 9,
   "id": "working-tablet",
   "metadata": {},
   "outputs": [
    {
     "data": {
      "text/plain": [
       "0        Dark Trap\n",
       "1        Dark Trap\n",
       "2        Dark Trap\n",
       "3        Dark Trap\n",
       "4        Dark Trap\n",
       "           ...    \n",
       "42300    hardstyle\n",
       "42301    hardstyle\n",
       "42302    hardstyle\n",
       "42303    hardstyle\n",
       "42304    hardstyle\n",
       "Name: genre, Length: 42305, dtype: object"
      ]
     },
     "execution_count": 9,
     "metadata": {},
     "output_type": "execute_result"
    }
   ],
   "source": [
    "df['genre']"
   ]
  },
  {
   "cell_type": "markdown",
   "id": "hollywood-hostel",
   "metadata": {},
   "source": [
    "- The target variable will need to be encoded for the data to be machine ready.\n",
    "- I need to look at all the columns one by one for further analysis.\n",
    "- Following, is a detailed explanation and analysis of the columns.\n",
    "- First, I will make a copy of the original dataframe and seperate the target variable from the rest of the dataset\n",
    "\n",
    "# Analysis Section\n",
    "\n",
    "### Contains:\n",
    "\n",
    "  - Target analysis \n",
    "  - Feature Analysis \n",
    "  - Summary Statistics for each feature\n",
    "  - Correlation analysis of each feature\n",
    "  - Feature Engineerining (normalization, encode categorical data)\n",
    "  - Data visualization"
   ]
  },
  {
   "cell_type": "code",
   "execution_count": 10,
   "id": "permanent-rider",
   "metadata": {},
   "outputs": [
    {
     "name": "stdout",
     "output_type": "stream",
     "text": [
      "Seperating target variable 'genre' from dataset X...\n"
     ]
    }
   ],
   "source": [
    "# Function to make a copy of the dataframe and return a feature matrix X and target array \n",
    "def get_X_and_y(df):\n",
    "    print(\"Seperating target variable 'genre' from dataset X...\")\n",
    "    y = pd.DataFrame(df['genre'])\n",
    "    X = pd.DataFrame(df.drop(['genre'], axis = 1))\n",
    "    return X, y\n",
    "\n",
    "X, y = get_X_and_y(df)"
   ]
  },
  {
   "cell_type": "markdown",
   "id": "false-combining",
   "metadata": {},
   "source": [
    "## Target Variable - Genre - string\n",
    "Shows the genre of the music\n",
    "- The target variable 'genre' is categorical and also a string.\n",
    "- I have chose to transform the target variable column using LabelEncoder() class.\n",
    "\n",
    "### Process Target Data..."
   ]
  },
  {
   "cell_type": "code",
   "execution_count": 11,
   "id": "sealed-circuit",
   "metadata": {},
   "outputs": [
    {
     "name": "stdout",
     "output_type": "stream",
     "text": [
      "Transforming categorical in target data ...\n",
      "  \n",
      "Done.\n"
     ]
    }
   ],
   "source": [
    "def process_target_data():\n",
    "    \n",
    "    # Descriptive Statistics \n",
    "    desc = pd.DataFrame(y['genre'].describe())\n",
    "    \n",
    "    # encoding the target varaiable\n",
    "    print(\"Transforming categorical in target data ...\\n  \")\n",
    "    label_encoder = LabelEncoder()\n",
    "    enc = LabelEncoder().fit_transform(y['genre'])\n",
    "    y_enc = pd.DataFrame({\"Genre\": enc})\n",
    "    y_dummy = pd.get_dummies(y[\"genre\"])\n",
    "    print(\"Done.\")\n",
    "    return y_enc, y_dummy\n",
    "y_enc, y_dummy = process_target_data()"
   ]
  },
  {
   "cell_type": "markdown",
   "id": "underlying-option",
   "metadata": {},
   "source": [
    "#### Quick look at the encoded y data using LabelEncoder()..."
   ]
  },
  {
   "cell_type": "code",
   "execution_count": 12,
   "id": "streaming-israeli",
   "metadata": {},
   "outputs": [
    {
     "name": "stdout",
     "output_type": "stream",
     "text": [
      "Genre\n",
      "7        5875\n",
      "0        4578\n",
      "2        3028\n",
      "13       2999\n",
      "14       2987\n",
      "11       2975\n",
      "8        2966\n",
      "10       2961\n",
      "12       2956\n",
      "9        2936\n",
      "5        2099\n",
      "6        1956\n",
      "4        1848\n",
      "1        1680\n",
      "3         461\n",
      "dtype: int64\n"
     ]
    }
   ],
   "source": [
    "print(y_enc.value_counts())"
   ]
  },
  {
   "cell_type": "code",
   "execution_count": 13,
   "id": "encouraging-anniversary",
   "metadata": {},
   "outputs": [
    {
     "data": {
      "text/html": [
       "<div>\n",
       "<style scoped>\n",
       "    .dataframe tbody tr th:only-of-type {\n",
       "        vertical-align: middle;\n",
       "    }\n",
       "\n",
       "    .dataframe tbody tr th {\n",
       "        vertical-align: top;\n",
       "    }\n",
       "\n",
       "    .dataframe thead th {\n",
       "        text-align: right;\n",
       "    }\n",
       "</style>\n",
       "<table border=\"1\" class=\"dataframe\">\n",
       "  <thead>\n",
       "    <tr style=\"text-align: right;\">\n",
       "      <th></th>\n",
       "      <th>Genre</th>\n",
       "    </tr>\n",
       "  </thead>\n",
       "  <tbody>\n",
       "    <tr>\n",
       "      <th>0</th>\n",
       "      <td>0</td>\n",
       "    </tr>\n",
       "    <tr>\n",
       "      <th>1</th>\n",
       "      <td>0</td>\n",
       "    </tr>\n",
       "    <tr>\n",
       "      <th>2</th>\n",
       "      <td>0</td>\n",
       "    </tr>\n",
       "    <tr>\n",
       "      <th>3</th>\n",
       "      <td>0</td>\n",
       "    </tr>\n",
       "    <tr>\n",
       "      <th>4</th>\n",
       "      <td>0</td>\n",
       "    </tr>\n",
       "  </tbody>\n",
       "</table>\n",
       "</div>"
      ],
      "text/plain": [
       "   Genre\n",
       "0      0\n",
       "1      0\n",
       "2      0\n",
       "3      0\n",
       "4      0"
      ]
     },
     "execution_count": 13,
     "metadata": {},
     "output_type": "execute_result"
    }
   ],
   "source": [
    "y_enc.head()"
   ]
  },
  {
   "cell_type": "markdown",
   "id": "political-bankruptcy",
   "metadata": {},
   "source": [
    "#### Quick look at the y encoded data using dummy variables"
   ]
  },
  {
   "cell_type": "code",
   "execution_count": 14,
   "id": "acting-indication",
   "metadata": {},
   "outputs": [
    {
     "data": {
      "text/html": [
       "<div>\n",
       "<style scoped>\n",
       "    .dataframe tbody tr th:only-of-type {\n",
       "        vertical-align: middle;\n",
       "    }\n",
       "\n",
       "    .dataframe tbody tr th {\n",
       "        vertical-align: top;\n",
       "    }\n",
       "\n",
       "    .dataframe thead th {\n",
       "        text-align: right;\n",
       "    }\n",
       "</style>\n",
       "<table border=\"1\" class=\"dataframe\">\n",
       "  <thead>\n",
       "    <tr style=\"text-align: right;\">\n",
       "      <th></th>\n",
       "      <th>Dark Trap</th>\n",
       "      <th>Emo</th>\n",
       "      <th>Hiphop</th>\n",
       "      <th>Pop</th>\n",
       "      <th>Rap</th>\n",
       "      <th>RnB</th>\n",
       "      <th>Trap Metal</th>\n",
       "      <th>Underground Rap</th>\n",
       "      <th>dnb</th>\n",
       "      <th>hardstyle</th>\n",
       "      <th>psytrance</th>\n",
       "      <th>techhouse</th>\n",
       "      <th>techno</th>\n",
       "      <th>trance</th>\n",
       "      <th>trap</th>\n",
       "    </tr>\n",
       "  </thead>\n",
       "  <tbody>\n",
       "    <tr>\n",
       "      <th>0</th>\n",
       "      <td>1</td>\n",
       "      <td>0</td>\n",
       "      <td>0</td>\n",
       "      <td>0</td>\n",
       "      <td>0</td>\n",
       "      <td>0</td>\n",
       "      <td>0</td>\n",
       "      <td>0</td>\n",
       "      <td>0</td>\n",
       "      <td>0</td>\n",
       "      <td>0</td>\n",
       "      <td>0</td>\n",
       "      <td>0</td>\n",
       "      <td>0</td>\n",
       "      <td>0</td>\n",
       "    </tr>\n",
       "    <tr>\n",
       "      <th>1</th>\n",
       "      <td>1</td>\n",
       "      <td>0</td>\n",
       "      <td>0</td>\n",
       "      <td>0</td>\n",
       "      <td>0</td>\n",
       "      <td>0</td>\n",
       "      <td>0</td>\n",
       "      <td>0</td>\n",
       "      <td>0</td>\n",
       "      <td>0</td>\n",
       "      <td>0</td>\n",
       "      <td>0</td>\n",
       "      <td>0</td>\n",
       "      <td>0</td>\n",
       "      <td>0</td>\n",
       "    </tr>\n",
       "    <tr>\n",
       "      <th>2</th>\n",
       "      <td>1</td>\n",
       "      <td>0</td>\n",
       "      <td>0</td>\n",
       "      <td>0</td>\n",
       "      <td>0</td>\n",
       "      <td>0</td>\n",
       "      <td>0</td>\n",
       "      <td>0</td>\n",
       "      <td>0</td>\n",
       "      <td>0</td>\n",
       "      <td>0</td>\n",
       "      <td>0</td>\n",
       "      <td>0</td>\n",
       "      <td>0</td>\n",
       "      <td>0</td>\n",
       "    </tr>\n",
       "    <tr>\n",
       "      <th>3</th>\n",
       "      <td>1</td>\n",
       "      <td>0</td>\n",
       "      <td>0</td>\n",
       "      <td>0</td>\n",
       "      <td>0</td>\n",
       "      <td>0</td>\n",
       "      <td>0</td>\n",
       "      <td>0</td>\n",
       "      <td>0</td>\n",
       "      <td>0</td>\n",
       "      <td>0</td>\n",
       "      <td>0</td>\n",
       "      <td>0</td>\n",
       "      <td>0</td>\n",
       "      <td>0</td>\n",
       "    </tr>\n",
       "    <tr>\n",
       "      <th>4</th>\n",
       "      <td>1</td>\n",
       "      <td>0</td>\n",
       "      <td>0</td>\n",
       "      <td>0</td>\n",
       "      <td>0</td>\n",
       "      <td>0</td>\n",
       "      <td>0</td>\n",
       "      <td>0</td>\n",
       "      <td>0</td>\n",
       "      <td>0</td>\n",
       "      <td>0</td>\n",
       "      <td>0</td>\n",
       "      <td>0</td>\n",
       "      <td>0</td>\n",
       "      <td>0</td>\n",
       "    </tr>\n",
       "  </tbody>\n",
       "</table>\n",
       "</div>"
      ],
      "text/plain": [
       "   Dark Trap  Emo  Hiphop  Pop  Rap  RnB  Trap Metal  Underground Rap  dnb  \\\n",
       "0          1    0       0    0    0    0           0                0    0   \n",
       "1          1    0       0    0    0    0           0                0    0   \n",
       "2          1    0       0    0    0    0           0                0    0   \n",
       "3          1    0       0    0    0    0           0                0    0   \n",
       "4          1    0       0    0    0    0           0                0    0   \n",
       "\n",
       "   hardstyle  psytrance  techhouse  techno  trance  trap  \n",
       "0          0          0          0       0       0     0  \n",
       "1          0          0          0       0       0     0  \n",
       "2          0          0          0       0       0     0  \n",
       "3          0          0          0       0       0     0  \n",
       "4          0          0          0       0       0     0  "
      ]
     },
     "execution_count": 14,
     "metadata": {},
     "output_type": "execute_result"
    }
   ],
   "source": [
    "y_dummy.head()"
   ]
  },
  {
   "cell_type": "markdown",
   "id": "facial-bunch",
   "metadata": {},
   "source": [
    "#### Helper Function for data analysis ahead "
   ]
  },
  {
   "cell_type": "code",
   "execution_count": 15,
   "id": "descending-interview",
   "metadata": {},
   "outputs": [],
   "source": [
    "def analyze_feature(X, feature):\n",
    "    \n",
    "    # used to compute the correlation between the target variable and the feature coming in\n",
    "    corr_df = y_dummy.copy()\n",
    "    corr_df[feature] = X[feature]\n",
    "    \n",
    "    # Summary Statisics\n",
    "    desc = X[feature].describe()\n",
    "    \n",
    "    # Used to show the head of the data (not needed but I found it helpful)\n",
    "    data = X[feature].head()\n",
    "    \n",
    "    # Boxplot to detect outliers\n",
    "    box_plot = sns.boxplot(y='genre', x=feature, \n",
    "                 data=df, \n",
    "                 palette=\"colorblind\").set_title(\"Outliers\")\n",
    "\n",
    "    \n",
    "    # outliers \n",
    "    outliers = boxplot_stats(pd.DataFrame(X[feature])).pop(0)['fliers']\n",
    "    \n",
    "    # Correlation matrix between target and feature\n",
    "    corr = corr_df.corr()\n",
    "    show_corr = corr[[feature]]\n",
    "    \n",
    "    return desc, data, box_plot, show_corr, outliers"
   ]
  },
  {
   "cell_type": "markdown",
   "id": "stopped-description",
   "metadata": {},
   "source": [
    "# Feature Analysis"
   ]
  },
  {
   "cell_type": "markdown",
   "id": "mental-plaza",
   "metadata": {},
   "source": [
    "## danceability - float\n",
    "Danceability describes how suitable a track is for dancing based on a combination of musical elements including tempo, rhythm stability, beat strength, and overall regularity. A value of 0.0 is least danceable and 1.0 is most danceable."
   ]
  },
  {
   "cell_type": "code",
   "execution_count": 16,
   "id": "harmful-formula",
   "metadata": {},
   "outputs": [
    {
     "data": {
      "image/png": "[encoded data removed]",
      "text/plain": [
       "<Figure size 432x288 with 1 Axes>"
      ]
     },
     "metadata": {
      "needs_background": "light"
     },
     "output_type": "display_data"
    }
   ],
   "source": [
    "desc, data, boxplot, corr, outliers = analyze_feature(df, \"danceability\")"
   ]
  },
  {
   "cell_type": "code",
   "execution_count": 17,
   "id": "aggressive-palmer",
   "metadata": {},
   "outputs": [
    {
     "name": "stdout",
     "output_type": "stream",
     "text": [
      "There are  45  outliers in this feature.\n"
     ]
    }
   ],
   "source": [
    "print(\"There are \", len(outliers), \" outliers in this feature.\")"
   ]
  },
  {
   "cell_type": "code",
   "execution_count": 18,
   "id": "formed-cancer",
   "metadata": {},
   "outputs": [
    {
     "name": "stdout",
     "output_type": "stream",
     "text": [
      "0    0.831\n",
      "1    0.719\n",
      "2    0.850\n",
      "3    0.476\n",
      "4    0.798\n",
      "Name: danceability, dtype: float64\n"
     ]
    }
   ],
   "source": [
    "print(data)"
   ]
  },
  {
   "cell_type": "code",
   "execution_count": 19,
   "id": "sublime-merit",
   "metadata": {},
   "outputs": [
    {
     "name": "stdout",
     "output_type": "stream",
     "text": [
      "count    42305.000000\n",
      "mean         0.639364\n",
      "std          0.156617\n",
      "min          0.065100\n",
      "25%          0.524000\n",
      "50%          0.646000\n",
      "75%          0.766000\n",
      "max          0.988000\n",
      "Name: danceability, dtype: float64\n"
     ]
    }
   ],
   "source": [
    "print(desc)"
   ]
  },
  {
   "cell_type": "markdown",
   "id": "embedded-beaver",
   "metadata": {},
   "source": [
    "#### Correlation to target"
   ]
  },
  {
   "cell_type": "code",
   "execution_count": 20,
   "id": "statewide-bullet",
   "metadata": {},
   "outputs": [
    {
     "data": {
      "text/html": [
       "<div>\n",
       "<style scoped>\n",
       "    .dataframe tbody tr th:only-of-type {\n",
       "        vertical-align: middle;\n",
       "    }\n",
       "\n",
       "    .dataframe tbody tr th {\n",
       "        vertical-align: top;\n",
       "    }\n",
       "\n",
       "    .dataframe thead th {\n",
       "        text-align: right;\n",
       "    }\n",
       "</style>\n",
       "<table border=\"1\" class=\"dataframe\">\n",
       "  <thead>\n",
       "    <tr style=\"text-align: right;\">\n",
       "      <th></th>\n",
       "      <th>danceability</th>\n",
       "    </tr>\n",
       "  </thead>\n",
       "  <tbody>\n",
       "    <tr>\n",
       "      <th>Dark Trap</th>\n",
       "      <td>-0.045664</td>\n",
       "    </tr>\n",
       "    <tr>\n",
       "      <th>Emo</th>\n",
       "      <td>-0.189139</td>\n",
       "    </tr>\n",
       "    <tr>\n",
       "      <th>Hiphop</th>\n",
       "      <td>0.105694</td>\n",
       "    </tr>\n",
       "    <tr>\n",
       "      <th>Pop</th>\n",
       "      <td>0.025094</td>\n",
       "    </tr>\n",
       "    <tr>\n",
       "      <th>Rap</th>\n",
       "      <td>0.141258</td>\n",
       "    </tr>\n",
       "    <tr>\n",
       "      <th>RnB</th>\n",
       "      <td>0.050831</td>\n",
       "    </tr>\n",
       "    <tr>\n",
       "      <th>Trap Metal</th>\n",
       "      <td>0.011528</td>\n",
       "    </tr>\n",
       "    <tr>\n",
       "      <th>Underground Rap</th>\n",
       "      <td>0.269987</td>\n",
       "    </tr>\n",
       "    <tr>\n",
       "      <th>dnb</th>\n",
       "      <td>-0.207619</td>\n",
       "    </tr>\n",
       "    <tr>\n",
       "      <th>hardstyle</th>\n",
       "      <td>-0.281321</td>\n",
       "    </tr>\n",
       "    <tr>\n",
       "      <th>psytrance</th>\n",
       "      <td>-0.038365</td>\n",
       "    </tr>\n",
       "    <tr>\n",
       "      <th>techhouse</th>\n",
       "      <td>0.258900</td>\n",
       "    </tr>\n",
       "    <tr>\n",
       "      <th>techno</th>\n",
       "      <td>0.133664</td>\n",
       "    </tr>\n",
       "    <tr>\n",
       "      <th>trance</th>\n",
       "      <td>-0.232174</td>\n",
       "    </tr>\n",
       "    <tr>\n",
       "      <th>trap</th>\n",
       "      <td>-0.081280</td>\n",
       "    </tr>\n",
       "    <tr>\n",
       "      <th>danceability</th>\n",
       "      <td>1.000000</td>\n",
       "    </tr>\n",
       "  </tbody>\n",
       "</table>\n",
       "</div>"
      ],
      "text/plain": [
       "                 danceability\n",
       "Dark Trap           -0.045664\n",
       "Emo                 -0.189139\n",
       "Hiphop               0.105694\n",
       "Pop                  0.025094\n",
       "Rap                  0.141258\n",
       "RnB                  0.050831\n",
       "Trap Metal           0.011528\n",
       "Underground Rap      0.269987\n",
       "dnb                 -0.207619\n",
       "hardstyle           -0.281321\n",
       "psytrance           -0.038365\n",
       "techhouse            0.258900\n",
       "techno               0.133664\n",
       "trance              -0.232174\n",
       "trap                -0.081280\n",
       "danceability         1.000000"
      ]
     },
     "execution_count": 20,
     "metadata": {},
     "output_type": "execute_result"
    }
   ],
   "source": [
    "corr"
   ]
  },
  {
   "cell_type": "code",
   "execution_count": 21,
   "id": "organizational-founder",
   "metadata": {},
   "outputs": [
    {
     "data": {
      "text/plain": [
       "<AxesSubplot:>"
      ]
     },
     "execution_count": 21,
     "metadata": {},
     "output_type": "execute_result"
    },
    {
     "data": {
      "image/png": "[encoded data removed]",
      "text/plain": [
       "<Figure size 432x288 with 2 Axes>"
      ]
     },
     "metadata": {
      "needs_background": "light"
     },
     "output_type": "display_data"
    }
   ],
   "source": [
    "sns.heatmap(corr)"
   ]
  },
  {
   "cell_type": "markdown",
   "id": "korean-reset",
   "metadata": {},
   "source": [
    "## energy - float\n",
    "Energy is a measure from 0.0 to 1.0 and represents a perceptual measure of intensity and activity. Typically, energetic tracks feel fast, loud, and noisy. For example, death metal has high energy, while a Bach prelude scores low on the scale. Perceptual features contributing to this attribute include dynamic range, perceived loudness, timbre, onset rate, and general entropy."
   ]
  },
  {
   "cell_type": "code",
   "execution_count": 22,
   "id": "authentic-boxing",
   "metadata": {},
   "outputs": [
    {
     "data": {
      "image/png": "[encoded data removed]",
      "text/plain": [
       "<Figure size 432x288 with 1 Axes>"
      ]
     },
     "metadata": {
      "needs_background": "light"
     },
     "output_type": "display_data"
    }
   ],
   "source": [
    "desc, data, boxplot, corr, outliers = analyze_feature(df, \"energy\")"
   ]
  },
  {
   "cell_type": "code",
   "execution_count": 23,
   "id": "center-front",
   "metadata": {},
   "outputs": [
    {
     "name": "stdout",
     "output_type": "stream",
     "text": [
      "There are  139  outliers in this feature.\n"
     ]
    }
   ],
   "source": [
    "print(\"There are \", len(outliers), \" outliers in this feature.\")"
   ]
  },
  {
   "cell_type": "code",
   "execution_count": 24,
   "id": "structured-botswana",
   "metadata": {},
   "outputs": [
    {
     "name": "stdout",
     "output_type": "stream",
     "text": [
      "0    0.814\n",
      "1    0.493\n",
      "2    0.893\n",
      "3    0.781\n",
      "4    0.624\n",
      "Name: energy, dtype: float64\n"
     ]
    }
   ],
   "source": [
    "print(data)"
   ]
  },
  {
   "cell_type": "code",
   "execution_count": 25,
   "id": "alternative-clinton",
   "metadata": {},
   "outputs": [
    {
     "name": "stdout",
     "output_type": "stream",
     "text": [
      "count    42305.000000\n",
      "mean         0.762516\n",
      "std          0.183823\n",
      "min          0.000243\n",
      "25%          0.632000\n",
      "50%          0.803000\n",
      "75%          0.923000\n",
      "max          1.000000\n",
      "Name: energy, dtype: float64\n"
     ]
    }
   ],
   "source": [
    "print(desc)"
   ]
  },
  {
   "cell_type": "markdown",
   "id": "rental-edition",
   "metadata": {},
   "source": [
    "#### Correlation to target"
   ]
  },
  {
   "cell_type": "code",
   "execution_count": 26,
   "id": "unavailable-current",
   "metadata": {},
   "outputs": [
    {
     "data": {
      "text/html": [
       "<div>\n",
       "<style scoped>\n",
       "    .dataframe tbody tr th:only-of-type {\n",
       "        vertical-align: middle;\n",
       "    }\n",
       "\n",
       "    .dataframe tbody tr th {\n",
       "        vertical-align: top;\n",
       "    }\n",
       "\n",
       "    .dataframe thead th {\n",
       "        text-align: right;\n",
       "    }\n",
       "</style>\n",
       "<table border=\"1\" class=\"dataframe\">\n",
       "  <thead>\n",
       "    <tr style=\"text-align: right;\">\n",
       "      <th></th>\n",
       "      <th>energy</th>\n",
       "    </tr>\n",
       "  </thead>\n",
       "  <tbody>\n",
       "    <tr>\n",
       "      <th>Dark Trap</th>\n",
       "      <td>-0.219187</td>\n",
       "    </tr>\n",
       "    <tr>\n",
       "      <th>Emo</th>\n",
       "      <td>-0.001483</td>\n",
       "    </tr>\n",
       "    <tr>\n",
       "      <th>Hiphop</th>\n",
       "      <td>-0.163279</td>\n",
       "    </tr>\n",
       "    <tr>\n",
       "      <th>Pop</th>\n",
       "      <td>-0.037045</td>\n",
       "    </tr>\n",
       "    <tr>\n",
       "      <th>Rap</th>\n",
       "      <td>-0.165603</td>\n",
       "    </tr>\n",
       "    <tr>\n",
       "      <th>RnB</th>\n",
       "      <td>-0.203391</td>\n",
       "    </tr>\n",
       "    <tr>\n",
       "      <th>Trap Metal</th>\n",
       "      <td>-0.016000</td>\n",
       "    </tr>\n",
       "    <tr>\n",
       "      <th>Underground Rap</th>\n",
       "      <td>-0.276880</td>\n",
       "    </tr>\n",
       "    <tr>\n",
       "      <th>dnb</th>\n",
       "      <td>0.165683</td>\n",
       "    </tr>\n",
       "    <tr>\n",
       "      <th>hardstyle</th>\n",
       "      <td>0.198660</td>\n",
       "    </tr>\n",
       "    <tr>\n",
       "      <th>psytrance</th>\n",
       "      <td>0.208752</td>\n",
       "    </tr>\n",
       "    <tr>\n",
       "      <th>techhouse</th>\n",
       "      <td>0.107674</td>\n",
       "    </tr>\n",
       "    <tr>\n",
       "      <th>techno</th>\n",
       "      <td>0.049500</td>\n",
       "    </tr>\n",
       "    <tr>\n",
       "      <th>trance</th>\n",
       "      <td>0.195226</td>\n",
       "    </tr>\n",
       "    <tr>\n",
       "      <th>trap</th>\n",
       "      <td>0.215236</td>\n",
       "    </tr>\n",
       "    <tr>\n",
       "      <th>energy</th>\n",
       "      <td>1.000000</td>\n",
       "    </tr>\n",
       "  </tbody>\n",
       "</table>\n",
       "</div>"
      ],
      "text/plain": [
       "                   energy\n",
       "Dark Trap       -0.219187\n",
       "Emo             -0.001483\n",
       "Hiphop          -0.163279\n",
       "Pop             -0.037045\n",
       "Rap             -0.165603\n",
       "RnB             -0.203391\n",
       "Trap Metal      -0.016000\n",
       "Underground Rap -0.276880\n",
       "dnb              0.165683\n",
       "hardstyle        0.198660\n",
       "psytrance        0.208752\n",
       "techhouse        0.107674\n",
       "techno           0.049500\n",
       "trance           0.195226\n",
       "trap             0.215236\n",
       "energy           1.000000"
      ]
     },
     "execution_count": 26,
     "metadata": {},
     "output_type": "execute_result"
    }
   ],
   "source": [
    "corr"
   ]
  },
  {
   "cell_type": "code",
   "execution_count": 27,
   "id": "fiscal-invalid",
   "metadata": {},
   "outputs": [
    {
     "data": {
      "text/plain": [
       "<AxesSubplot:>"
      ]
     },
     "execution_count": 27,
     "metadata": {},
     "output_type": "execute_result"
    },
    {
     "data": {
      "image/png": "[encoded data removed]",
      "text/plain": [
       "<Figure size 432x288 with 2 Axes>"
      ]
     },
     "metadata": {
      "needs_background": "light"
     },
     "output_type": "display_data"
    }
   ],
   "source": [
    "sns.heatmap(corr)"
   ]
  },
  {
   "cell_type": "markdown",
   "id": "pacific-behalf",
   "metadata": {},
   "source": [
    "## key: integer\n",
    "The key the track is in. Integers map to pitches using standard Pitch Class notation. E.g. 0 = C, 1 = C♯/D♭, 2 = D, and so on."
   ]
  },
  {
   "cell_type": "code",
   "execution_count": 28,
   "id": "heated-skiing",
   "metadata": {},
   "outputs": [
    {
     "data": {
      "image/png": "[encoded data removed]",
      "text/plain": [
       "<Figure size 432x288 with 1 Axes>"
      ]
     },
     "metadata": {
      "needs_background": "light"
     },
     "output_type": "display_data"
    }
   ],
   "source": [
    "desc, data, boxplot, corr, outliers= analyze_feature(df, \"key\")"
   ]
  },
  {
   "cell_type": "code",
   "execution_count": 29,
   "id": "starting-consolidation",
   "metadata": {},
   "outputs": [
    {
     "name": "stdout",
     "output_type": "stream",
     "text": [
      "There are  0  outliers in this feature.\n"
     ]
    }
   ],
   "source": [
    "print(\"There are \", len(outliers), \" outliers in this feature.\")"
   ]
  },
  {
   "cell_type": "code",
   "execution_count": 30,
   "id": "entitled-courtesy",
   "metadata": {},
   "outputs": [
    {
     "name": "stdout",
     "output_type": "stream",
     "text": [
      "0    2\n",
      "1    8\n",
      "2    5\n",
      "3    0\n",
      "4    2\n",
      "Name: key, dtype: int64\n"
     ]
    }
   ],
   "source": [
    "print(data)"
   ]
  },
  {
   "cell_type": "code",
   "execution_count": 31,
   "id": "educated-carnival",
   "metadata": {},
   "outputs": [
    {
     "name": "stdout",
     "output_type": "stream",
     "text": [
      "count    42305.000000\n",
      "mean         5.370240\n",
      "std          3.666145\n",
      "min          0.000000\n",
      "25%          1.000000\n",
      "50%          6.000000\n",
      "75%          9.000000\n",
      "max         11.000000\n",
      "Name: key, dtype: float64\n"
     ]
    }
   ],
   "source": [
    "print(desc)"
   ]
  },
  {
   "cell_type": "markdown",
   "id": "identified-ministry",
   "metadata": {},
   "source": [
    "#### Correlation to target"
   ]
  },
  {
   "cell_type": "code",
   "execution_count": 32,
   "id": "employed-daisy",
   "metadata": {},
   "outputs": [
    {
     "data": {
      "text/html": [
       "<div>\n",
       "<style scoped>\n",
       "    .dataframe tbody tr th:only-of-type {\n",
       "        vertical-align: middle;\n",
       "    }\n",
       "\n",
       "    .dataframe tbody tr th {\n",
       "        vertical-align: top;\n",
       "    }\n",
       "\n",
       "    .dataframe thead th {\n",
       "        text-align: right;\n",
       "    }\n",
       "</style>\n",
       "<table border=\"1\" class=\"dataframe\">\n",
       "  <thead>\n",
       "    <tr style=\"text-align: right;\">\n",
       "      <th></th>\n",
       "      <th>key</th>\n",
       "    </tr>\n",
       "  </thead>\n",
       "  <tbody>\n",
       "    <tr>\n",
       "      <th>Dark Trap</th>\n",
       "      <td>-0.006828</td>\n",
       "    </tr>\n",
       "    <tr>\n",
       "      <th>Emo</th>\n",
       "      <td>-0.017598</td>\n",
       "    </tr>\n",
       "    <tr>\n",
       "      <th>Hiphop</th>\n",
       "      <td>0.013854</td>\n",
       "    </tr>\n",
       "    <tr>\n",
       "      <th>Pop</th>\n",
       "      <td>0.000827</td>\n",
       "    </tr>\n",
       "    <tr>\n",
       "      <th>Rap</th>\n",
       "      <td>-0.018745</td>\n",
       "    </tr>\n",
       "    <tr>\n",
       "      <th>RnB</th>\n",
       "      <td>-0.021709</td>\n",
       "    </tr>\n",
       "    <tr>\n",
       "      <th>Trap Metal</th>\n",
       "      <td>-0.042469</td>\n",
       "    </tr>\n",
       "    <tr>\n",
       "      <th>Underground Rap</th>\n",
       "      <td>-0.034086</td>\n",
       "    </tr>\n",
       "    <tr>\n",
       "      <th>dnb</th>\n",
       "      <td>0.018633</td>\n",
       "    </tr>\n",
       "    <tr>\n",
       "      <th>hardstyle</th>\n",
       "      <td>0.025371</td>\n",
       "    </tr>\n",
       "    <tr>\n",
       "      <th>psytrance</th>\n",
       "      <td>0.046341</td>\n",
       "    </tr>\n",
       "    <tr>\n",
       "      <th>techhouse</th>\n",
       "      <td>0.031837</td>\n",
       "    </tr>\n",
       "    <tr>\n",
       "      <th>techno</th>\n",
       "      <td>0.024573</td>\n",
       "    </tr>\n",
       "    <tr>\n",
       "      <th>trance</th>\n",
       "      <td>0.001473</td>\n",
       "    </tr>\n",
       "    <tr>\n",
       "      <th>trap</th>\n",
       "      <td>-0.025998</td>\n",
       "    </tr>\n",
       "    <tr>\n",
       "      <th>key</th>\n",
       "      <td>1.000000</td>\n",
       "    </tr>\n",
       "  </tbody>\n",
       "</table>\n",
       "</div>"
      ],
      "text/plain": [
       "                      key\n",
       "Dark Trap       -0.006828\n",
       "Emo             -0.017598\n",
       "Hiphop           0.013854\n",
       "Pop              0.000827\n",
       "Rap             -0.018745\n",
       "RnB             -0.021709\n",
       "Trap Metal      -0.042469\n",
       "Underground Rap -0.034086\n",
       "dnb              0.018633\n",
       "hardstyle        0.025371\n",
       "psytrance        0.046341\n",
       "techhouse        0.031837\n",
       "techno           0.024573\n",
       "trance           0.001473\n",
       "trap            -0.025998\n",
       "key              1.000000"
      ]
     },
     "execution_count": 32,
     "metadata": {},
     "output_type": "execute_result"
    }
   ],
   "source": [
    "corr"
   ]
  },
  {
   "cell_type": "code",
   "execution_count": 33,
   "id": "vanilla-warehouse",
   "metadata": {},
   "outputs": [
    {
     "data": {
      "text/plain": [
       "<AxesSubplot:>"
      ]
     },
     "execution_count": 33,
     "metadata": {},
     "output_type": "execute_result"
    },
    {
     "data": {
      "image/png": "[encoded data removed]",
      "text/plain": [
       "<Figure size 432x288 with 2 Axes>"
      ]
     },
     "metadata": {
      "needs_background": "light"
     },
     "output_type": "display_data"
    }
   ],
   "source": [
    "sns.heatmap(corr)"
   ]
  },
  {
   "cell_type": "markdown",
   "id": "approximate-bullet",
   "metadata": {},
   "source": [
    "## loudness: float\n",
    "The overall loudness of a track in decibels (dB). Loudness values are averaged across the entire track and are useful for comparing relative loudness of tracks. Loudness is the quality of a sound that is the primary psychological correlate of physical strength (amplitude). Values typical range between -60 and 0 db."
   ]
  },
  {
   "cell_type": "code",
   "execution_count": 34,
   "id": "accompanied-warning",
   "metadata": {},
   "outputs": [
    {
     "data": {
      "image/png": "[encoded data removed]",
      "text/plain": [
       "<Figure size 432x288 with 1 Axes>"
      ]
     },
     "metadata": {
      "needs_background": "light"
     },
     "output_type": "display_data"
    }
   ],
   "source": [
    "desc, data, boxplot, corr, outliers = analyze_feature(df, \"loudness\")"
   ]
  },
  {
   "cell_type": "code",
   "execution_count": 35,
   "id": "portuguese-spoke",
   "metadata": {},
   "outputs": [
    {
     "name": "stdout",
     "output_type": "stream",
     "text": [
      "There are  796  outliers in this feature.\n"
     ]
    }
   ],
   "source": [
    "print(\"There are \", len(outliers), \" outliers in this feature.\")"
   ]
  },
  {
   "cell_type": "code",
   "execution_count": 36,
   "id": "adapted-track",
   "metadata": {},
   "outputs": [
    {
     "name": "stdout",
     "output_type": "stream",
     "text": [
      "count    42305.000000\n",
      "mean        -6.465442\n",
      "std          2.941165\n",
      "min        -33.357000\n",
      "25%         -8.161000\n",
      "50%         -6.234000\n",
      "75%         -4.513000\n",
      "max          3.148000\n",
      "Name: loudness, dtype: float64\n"
     ]
    }
   ],
   "source": [
    "print(desc)"
   ]
  },
  {
   "cell_type": "markdown",
   "id": "intellectual-retailer",
   "metadata": {},
   "source": [
    "## mode: integer\n",
    "Mode indicates the modality (major or minor) of a track, the type of scale from which its melodic content is derived. Major is represented by 1 and minor is 0."
   ]
  },
  {
   "cell_type": "code",
   "execution_count": 37,
   "id": "residential-rally",
   "metadata": {},
   "outputs": [
    {
     "data": {
      "image/png": "[encoded data removed]",
      "text/plain": [
       "<Figure size 432x288 with 1 Axes>"
      ]
     },
     "metadata": {
      "needs_background": "light"
     },
     "output_type": "display_data"
    }
   ],
   "source": [
    "desc, data, boxplot, corr, outliers = analyze_feature(data_frame, \"mode\")"
   ]
  },
  {
   "cell_type": "code",
   "execution_count": 38,
   "id": "australian-wells",
   "metadata": {},
   "outputs": [
    {
     "name": "stdout",
     "output_type": "stream",
     "text": [
      "There are  0  outliers in this feature.\n"
     ]
    }
   ],
   "source": [
    "print(\"There are \", len(outliers), \" outliers in this feature.\")"
   ]
  },
  {
   "cell_type": "code",
   "execution_count": 39,
   "id": "boxed-hopkins",
   "metadata": {},
   "outputs": [
    {
     "name": "stdout",
     "output_type": "stream",
     "text": [
      "0    1\n",
      "1    1\n",
      "2    1\n",
      "3    1\n",
      "4    1\n",
      "Name: mode, dtype: int64\n"
     ]
    }
   ],
   "source": [
    "print(data)"
   ]
  },
  {
   "cell_type": "code",
   "execution_count": 40,
   "id": "removable-preservation",
   "metadata": {},
   "outputs": [
    {
     "name": "stdout",
     "output_type": "stream",
     "text": [
      "count    42305.000000\n",
      "mean         0.549462\n",
      "std          0.497553\n",
      "min          0.000000\n",
      "25%          0.000000\n",
      "50%          1.000000\n",
      "75%          1.000000\n",
      "max          1.000000\n",
      "Name: mode, dtype: float64\n"
     ]
    }
   ],
   "source": [
    "print(desc)"
   ]
  },
  {
   "cell_type": "markdown",
   "id": "collective-devices",
   "metadata": {},
   "source": [
    "#### Correlation to target"
   ]
  },
  {
   "cell_type": "code",
   "execution_count": 41,
   "id": "verified-history",
   "metadata": {},
   "outputs": [
    {
     "data": {
      "text/html": [
       "<div>\n",
       "<style scoped>\n",
       "    .dataframe tbody tr th:only-of-type {\n",
       "        vertical-align: middle;\n",
       "    }\n",
       "\n",
       "    .dataframe tbody tr th {\n",
       "        vertical-align: top;\n",
       "    }\n",
       "\n",
       "    .dataframe thead th {\n",
       "        text-align: right;\n",
       "    }\n",
       "</style>\n",
       "<table border=\"1\" class=\"dataframe\">\n",
       "  <thead>\n",
       "    <tr style=\"text-align: right;\">\n",
       "      <th></th>\n",
       "      <th>mode</th>\n",
       "    </tr>\n",
       "  </thead>\n",
       "  <tbody>\n",
       "    <tr>\n",
       "      <th>Dark Trap</th>\n",
       "      <td>-0.009090</td>\n",
       "    </tr>\n",
       "    <tr>\n",
       "      <th>Emo</th>\n",
       "      <td>0.055689</td>\n",
       "    </tr>\n",
       "    <tr>\n",
       "      <th>Hiphop</th>\n",
       "      <td>-0.012122</td>\n",
       "    </tr>\n",
       "    <tr>\n",
       "      <th>Pop</th>\n",
       "      <td>-0.000138</td>\n",
       "    </tr>\n",
       "    <tr>\n",
       "      <th>Rap</th>\n",
       "      <td>-0.011717</td>\n",
       "    </tr>\n",
       "    <tr>\n",
       "      <th>RnB</th>\n",
       "      <td>-0.007946</td>\n",
       "    </tr>\n",
       "    <tr>\n",
       "      <th>Trap Metal</th>\n",
       "      <td>0.074489</td>\n",
       "    </tr>\n",
       "    <tr>\n",
       "      <th>Underground Rap</th>\n",
       "      <td>0.051781</td>\n",
       "    </tr>\n",
       "    <tr>\n",
       "      <th>dnb</th>\n",
       "      <td>-0.057068</td>\n",
       "    </tr>\n",
       "    <tr>\n",
       "      <th>hardstyle</th>\n",
       "      <td>-0.103608</td>\n",
       "    </tr>\n",
       "    <tr>\n",
       "      <th>psytrance</th>\n",
       "      <td>0.027009</td>\n",
       "    </tr>\n",
       "    <tr>\n",
       "      <th>techhouse</th>\n",
       "      <td>0.009913</td>\n",
       "    </tr>\n",
       "    <tr>\n",
       "      <th>techno</th>\n",
       "      <td>0.018224</td>\n",
       "    </tr>\n",
       "    <tr>\n",
       "      <th>trance</th>\n",
       "      <td>-0.059208</td>\n",
       "    </tr>\n",
       "    <tr>\n",
       "      <th>trap</th>\n",
       "      <td>0.029999</td>\n",
       "    </tr>\n",
       "    <tr>\n",
       "      <th>mode</th>\n",
       "      <td>1.000000</td>\n",
       "    </tr>\n",
       "  </tbody>\n",
       "</table>\n",
       "</div>"
      ],
      "text/plain": [
       "                     mode\n",
       "Dark Trap       -0.009090\n",
       "Emo              0.055689\n",
       "Hiphop          -0.012122\n",
       "Pop             -0.000138\n",
       "Rap             -0.011717\n",
       "RnB             -0.007946\n",
       "Trap Metal       0.074489\n",
       "Underground Rap  0.051781\n",
       "dnb             -0.057068\n",
       "hardstyle       -0.103608\n",
       "psytrance        0.027009\n",
       "techhouse        0.009913\n",
       "techno           0.018224\n",
       "trance          -0.059208\n",
       "trap             0.029999\n",
       "mode             1.000000"
      ]
     },
     "execution_count": 41,
     "metadata": {},
     "output_type": "execute_result"
    }
   ],
   "source": [
    "corr"
   ]
  },
  {
   "cell_type": "code",
   "execution_count": 42,
   "id": "fresh-tracy",
   "metadata": {},
   "outputs": [
    {
     "data": {
      "text/plain": [
       "<AxesSubplot:>"
      ]
     },
     "execution_count": 42,
     "metadata": {},
     "output_type": "execute_result"
    },
    {
     "data": {
      "image/png": "[encoded data removed]",
      "text/plain": [
       "<Figure size 432x288 with 2 Axes>"
      ]
     },
     "metadata": {
      "needs_background": "light"
     },
     "output_type": "display_data"
    }
   ],
   "source": [
    "sns.heatmap(corr)"
   ]
  },
  {
   "cell_type": "markdown",
   "id": "catholic-whole",
   "metadata": {},
   "source": [
    "## speechiness: float\n",
    "Speechiness detects the presence of spoken words in a track. The more exclusively speech-like the recording (e.g. talk show, audio book, poetry), the closer to 1.0 the attribute value. Values above 0.66 describe tracks that are probably made entirely of spoken words. Values between 0.33 and 0.66 describe tracks that may contain both music and speech, either in sections or layered, including such cases as rap music. Values below 0.33 most likely represent music and other non-speech-like tracks."
   ]
  },
  {
   "cell_type": "code",
   "execution_count": 43,
   "id": "affected-cologne",
   "metadata": {},
   "outputs": [
    {
     "data": {
      "image/png": "[encoded data removed]",
      "text/plain": [
       "<Figure size 432x288 with 1 Axes>"
      ]
     },
     "metadata": {
      "needs_background": "light"
     },
     "output_type": "display_data"
    }
   ],
   "source": [
    "desc, data, boxplot, corr, outliers = analyze_feature(df, \"speechiness\")"
   ]
  },
  {
   "cell_type": "code",
   "execution_count": 44,
   "id": "direct-imaging",
   "metadata": {},
   "outputs": [
    {
     "name": "stdout",
     "output_type": "stream",
     "text": [
      "There are  1918  outliers in this feature.\n"
     ]
    }
   ],
   "source": [
    "print(\"There are \", len(outliers), \" outliers in this feature.\")"
   ]
  },
  {
   "cell_type": "code",
   "execution_count": 45,
   "id": "racial-alabama",
   "metadata": {},
   "outputs": [
    {
     "name": "stdout",
     "output_type": "stream",
     "text": [
      "0    0.4200\n",
      "1    0.0794\n",
      "2    0.0623\n",
      "3    0.1030\n",
      "4    0.2930\n",
      "Name: speechiness, dtype: float64\n"
     ]
    }
   ],
   "source": [
    "print(data)"
   ]
  },
  {
   "cell_type": "markdown",
   "id": "conceptual-thesis",
   "metadata": {},
   "source": [
    "#### Correlation to target"
   ]
  },
  {
   "cell_type": "code",
   "execution_count": 46,
   "id": "discrete-firewall",
   "metadata": {},
   "outputs": [
    {
     "data": {
      "text/html": [
       "<div>\n",
       "<style scoped>\n",
       "    .dataframe tbody tr th:only-of-type {\n",
       "        vertical-align: middle;\n",
       "    }\n",
       "\n",
       "    .dataframe tbody tr th {\n",
       "        vertical-align: top;\n",
       "    }\n",
       "\n",
       "    .dataframe thead th {\n",
       "        text-align: right;\n",
       "    }\n",
       "</style>\n",
       "<table border=\"1\" class=\"dataframe\">\n",
       "  <thead>\n",
       "    <tr style=\"text-align: right;\">\n",
       "      <th></th>\n",
       "      <th>speechiness</th>\n",
       "    </tr>\n",
       "  </thead>\n",
       "  <tbody>\n",
       "    <tr>\n",
       "      <th>Dark Trap</th>\n",
       "      <td>-0.036242</td>\n",
       "    </tr>\n",
       "    <tr>\n",
       "      <th>Emo</th>\n",
       "      <td>-0.090641</td>\n",
       "    </tr>\n",
       "    <tr>\n",
       "      <th>Hiphop</th>\n",
       "      <td>0.177355</td>\n",
       "    </tr>\n",
       "    <tr>\n",
       "      <th>Pop</th>\n",
       "      <td>-0.040098</td>\n",
       "    </tr>\n",
       "    <tr>\n",
       "      <th>Rap</th>\n",
       "      <td>0.137724</td>\n",
       "    </tr>\n",
       "    <tr>\n",
       "      <th>RnB</th>\n",
       "      <td>0.011861</td>\n",
       "    </tr>\n",
       "    <tr>\n",
       "      <th>Trap Metal</th>\n",
       "      <td>0.127596</td>\n",
       "    </tr>\n",
       "    <tr>\n",
       "      <th>Underground Rap</th>\n",
       "      <td>0.281473</td>\n",
       "    </tr>\n",
       "    <tr>\n",
       "      <th>dnb</th>\n",
       "      <td>-0.115528</td>\n",
       "    </tr>\n",
       "    <tr>\n",
       "      <th>hardstyle</th>\n",
       "      <td>-0.090771</td>\n",
       "    </tr>\n",
       "    <tr>\n",
       "      <th>psytrance</th>\n",
       "      <td>-0.165549</td>\n",
       "    </tr>\n",
       "    <tr>\n",
       "      <th>techhouse</th>\n",
       "      <td>-0.140180</td>\n",
       "    </tr>\n",
       "    <tr>\n",
       "      <th>techno</th>\n",
       "      <td>-0.152918</td>\n",
       "    </tr>\n",
       "    <tr>\n",
       "      <th>trance</th>\n",
       "      <td>-0.142866</td>\n",
       "    </tr>\n",
       "    <tr>\n",
       "      <th>trap</th>\n",
       "      <td>0.151624</td>\n",
       "    </tr>\n",
       "    <tr>\n",
       "      <th>speechiness</th>\n",
       "      <td>1.000000</td>\n",
       "    </tr>\n",
       "  </tbody>\n",
       "</table>\n",
       "</div>"
      ],
      "text/plain": [
       "                 speechiness\n",
       "Dark Trap          -0.036242\n",
       "Emo                -0.090641\n",
       "Hiphop              0.177355\n",
       "Pop                -0.040098\n",
       "Rap                 0.137724\n",
       "RnB                 0.011861\n",
       "Trap Metal          0.127596\n",
       "Underground Rap     0.281473\n",
       "dnb                -0.115528\n",
       "hardstyle          -0.090771\n",
       "psytrance          -0.165549\n",
       "techhouse          -0.140180\n",
       "techno             -0.152918\n",
       "trance             -0.142866\n",
       "trap                0.151624\n",
       "speechiness         1.000000"
      ]
     },
     "execution_count": 46,
     "metadata": {},
     "output_type": "execute_result"
    }
   ],
   "source": [
    "corr"
   ]
  },
  {
   "cell_type": "code",
   "execution_count": 47,
   "id": "significant-gibson",
   "metadata": {},
   "outputs": [
    {
     "data": {
      "text/plain": [
       "<AxesSubplot:>"
      ]
     },
     "execution_count": 47,
     "metadata": {},
     "output_type": "execute_result"
    },
    {
     "data": {
      "image/png": "[encoded data removed]",
      "text/plain": [
       "<Figure size 432x288 with 2 Axes>"
      ]
     },
     "metadata": {
      "needs_background": "light"
     },
     "output_type": "display_data"
    }
   ],
   "source": [
    "sns.heatmap(corr)"
   ]
  },
  {
   "cell_type": "markdown",
   "id": "unable-defensive",
   "metadata": {},
   "source": [
    "## acousticness: float\n",
    "A confidence measure from 0.0 to 1.0 of whether the track is acoustic. 1.0 represents high confidence the track is acoustic."
   ]
  },
  {
   "cell_type": "code",
   "execution_count": 48,
   "id": "british-illinois",
   "metadata": {},
   "outputs": [
    {
     "data": {
      "image/png": "[encoded data removed]",
      "text/plain": [
       "<Figure size 432x288 with 1 Axes>"
      ]
     },
     "metadata": {
      "needs_background": "light"
     },
     "output_type": "display_data"
    }
   ],
   "source": [
    "desc, data, boxplot, corr, outliers = analyze_feature(df, \"acousticness\")"
   ]
  },
  {
   "cell_type": "code",
   "execution_count": 49,
   "id": "structural-surfing",
   "metadata": {},
   "outputs": [
    {
     "name": "stdout",
     "output_type": "stream",
     "text": [
      "There are  5149  outliers in this feature.\n"
     ]
    }
   ],
   "source": [
    "print(\"There are \", len(outliers), \" outliers in this feature.\")"
   ]
  },
  {
   "cell_type": "code",
   "execution_count": 50,
   "id": "convinced-nudist",
   "metadata": {},
   "outputs": [
    {
     "name": "stdout",
     "output_type": "stream",
     "text": [
      "0    0.0598\n",
      "1    0.4010\n",
      "2    0.0138\n",
      "3    0.0237\n",
      "4    0.2170\n",
      "Name: acousticness, dtype: float64\n"
     ]
    }
   ],
   "source": [
    "print(data)"
   ]
  },
  {
   "cell_type": "code",
   "execution_count": 51,
   "id": "respected-tonight",
   "metadata": {},
   "outputs": [
    {
     "name": "stdout",
     "output_type": "stream",
     "text": [
      "count    42305.000000\n",
      "mean         0.096160\n",
      "std          0.170827\n",
      "min          0.000001\n",
      "25%          0.001730\n",
      "50%          0.016400\n",
      "75%          0.107000\n",
      "max          0.988000\n",
      "Name: acousticness, dtype: float64\n"
     ]
    }
   ],
   "source": [
    "print(desc)"
   ]
  },
  {
   "cell_type": "markdown",
   "id": "developed-scenario",
   "metadata": {},
   "source": [
    "#### Correlation to target"
   ]
  },
  {
   "cell_type": "code",
   "execution_count": 52,
   "id": "perfect-moses",
   "metadata": {},
   "outputs": [
    {
     "data": {
      "text/html": [
       "<div>\n",
       "<style scoped>\n",
       "    .dataframe tbody tr th:only-of-type {\n",
       "        vertical-align: middle;\n",
       "    }\n",
       "\n",
       "    .dataframe tbody tr th {\n",
       "        vertical-align: top;\n",
       "    }\n",
       "\n",
       "    .dataframe thead th {\n",
       "        text-align: right;\n",
       "    }\n",
       "</style>\n",
       "<table border=\"1\" class=\"dataframe\">\n",
       "  <thead>\n",
       "    <tr style=\"text-align: right;\">\n",
       "      <th></th>\n",
       "      <th>acousticness</th>\n",
       "    </tr>\n",
       "  </thead>\n",
       "  <tbody>\n",
       "    <tr>\n",
       "      <th>Dark Trap</th>\n",
       "      <td>0.129148</td>\n",
       "    </tr>\n",
       "    <tr>\n",
       "      <th>Emo</th>\n",
       "      <td>0.055871</td>\n",
       "    </tr>\n",
       "    <tr>\n",
       "      <th>Hiphop</th>\n",
       "      <td>0.161577</td>\n",
       "    </tr>\n",
       "    <tr>\n",
       "      <th>Pop</th>\n",
       "      <td>0.032621</td>\n",
       "    </tr>\n",
       "    <tr>\n",
       "      <th>Rap</th>\n",
       "      <td>0.093091</td>\n",
       "    </tr>\n",
       "    <tr>\n",
       "      <th>RnB</th>\n",
       "      <td>0.172698</td>\n",
       "    </tr>\n",
       "    <tr>\n",
       "      <th>Trap Metal</th>\n",
       "      <td>0.024186</td>\n",
       "    </tr>\n",
       "    <tr>\n",
       "      <th>Underground Rap</th>\n",
       "      <td>0.156442</td>\n",
       "    </tr>\n",
       "    <tr>\n",
       "      <th>dnb</th>\n",
       "      <td>-0.123154</td>\n",
       "    </tr>\n",
       "    <tr>\n",
       "      <th>hardstyle</th>\n",
       "      <td>-0.088435</td>\n",
       "    </tr>\n",
       "    <tr>\n",
       "      <th>psytrance</th>\n",
       "      <td>-0.144257</td>\n",
       "    </tr>\n",
       "    <tr>\n",
       "      <th>techhouse</th>\n",
       "      <td>-0.131922</td>\n",
       "    </tr>\n",
       "    <tr>\n",
       "      <th>techno</th>\n",
       "      <td>-0.090821</td>\n",
       "    </tr>\n",
       "    <tr>\n",
       "      <th>trance</th>\n",
       "      <td>-0.134518</td>\n",
       "    </tr>\n",
       "    <tr>\n",
       "      <th>trap</th>\n",
       "      <td>-0.115723</td>\n",
       "    </tr>\n",
       "    <tr>\n",
       "      <th>acousticness</th>\n",
       "      <td>1.000000</td>\n",
       "    </tr>\n",
       "  </tbody>\n",
       "</table>\n",
       "</div>"
      ],
      "text/plain": [
       "                 acousticness\n",
       "Dark Trap            0.129148\n",
       "Emo                  0.055871\n",
       "Hiphop               0.161577\n",
       "Pop                  0.032621\n",
       "Rap                  0.093091\n",
       "RnB                  0.172698\n",
       "Trap Metal           0.024186\n",
       "Underground Rap      0.156442\n",
       "dnb                 -0.123154\n",
       "hardstyle           -0.088435\n",
       "psytrance           -0.144257\n",
       "techhouse           -0.131922\n",
       "techno              -0.090821\n",
       "trance              -0.134518\n",
       "trap                -0.115723\n",
       "acousticness         1.000000"
      ]
     },
     "execution_count": 52,
     "metadata": {},
     "output_type": "execute_result"
    }
   ],
   "source": [
    "corr"
   ]
  },
  {
   "cell_type": "code",
   "execution_count": 53,
   "id": "intermediate-recording",
   "metadata": {},
   "outputs": [
    {
     "data": {
      "text/plain": [
       "<AxesSubplot:>"
      ]
     },
     "execution_count": 53,
     "metadata": {},
     "output_type": "execute_result"
    },
    {
     "data": {
      "image/png": "[encoded data removed]",
      "text/plain": [
       "<Figure size 432x288 with 2 Axes>"
      ]
     },
     "metadata": {
      "needs_background": "light"
     },
     "output_type": "display_data"
    }
   ],
   "source": [
    "sns.heatmap(corr)"
   ]
  },
  {
   "cell_type": "markdown",
   "id": "broken-blake",
   "metadata": {},
   "source": [
    "## instrumentalness: float\n",
    "Predicts whether a track contains no vocals. \"Ooh\" and \"aah\" sounds are treated as instrumental in this context. Rap or spoken word tracks are clearly \"vocal\". The closer the instrumentalness value is to 1.0, the greater likelihood the track contains no vocal content. Values above 0.5 are intended to represent instrumental tracks, but confidence is higher as the value approaches 1.0."
   ]
  },
  {
   "cell_type": "code",
   "execution_count": 54,
   "id": "instant-player",
   "metadata": {},
   "outputs": [
    {
     "data": {
      "image/png": "[encoded data removed]",
      "text/plain": [
       "<Figure size 432x288 with 1 Axes>"
      ]
     },
     "metadata": {
      "needs_background": "light"
     },
     "output_type": "display_data"
    }
   ],
   "source": [
    "desc, data, boxplot, corr, outliers = analyze_feature(df, \"instrumentalness\")"
   ]
  },
  {
   "cell_type": "code",
   "execution_count": 55,
   "id": "further-whale",
   "metadata": {},
   "outputs": [
    {
     "name": "stdout",
     "output_type": "stream",
     "text": [
      "There are  0  outliers in this feature.\n"
     ]
    }
   ],
   "source": [
    "print(\"There are \", len(outliers), \" outliers in this feature.\")"
   ]
  },
  {
   "cell_type": "code",
   "execution_count": 56,
   "id": "elementary-arena",
   "metadata": {},
   "outputs": [
    {
     "name": "stdout",
     "output_type": "stream",
     "text": [
      "0    0.013400\n",
      "1    0.000000\n",
      "2    0.000004\n",
      "3    0.000000\n",
      "4    0.000000\n",
      "Name: instrumentalness, dtype: float64\n"
     ]
    }
   ],
   "source": [
    "print(data)"
   ]
  },
  {
   "cell_type": "code",
   "execution_count": 57,
   "id": "addressed-people",
   "metadata": {},
   "outputs": [
    {
     "name": "stdout",
     "output_type": "stream",
     "text": [
      "count    42305.000000\n",
      "mean         0.283048\n",
      "std          0.370791\n",
      "min          0.000000\n",
      "25%          0.000000\n",
      "50%          0.005940\n",
      "75%          0.722000\n",
      "max          0.989000\n",
      "Name: instrumentalness, dtype: float64\n"
     ]
    }
   ],
   "source": [
    "print(desc)"
   ]
  },
  {
   "cell_type": "markdown",
   "id": "manual-flashing",
   "metadata": {},
   "source": [
    "#### Correlation to target"
   ]
  },
  {
   "cell_type": "code",
   "execution_count": 58,
   "id": "simplified-windows",
   "metadata": {},
   "outputs": [
    {
     "data": {
      "text/html": [
       "<div>\n",
       "<style scoped>\n",
       "    .dataframe tbody tr th:only-of-type {\n",
       "        vertical-align: middle;\n",
       "    }\n",
       "\n",
       "    .dataframe tbody tr th {\n",
       "        vertical-align: top;\n",
       "    }\n",
       "\n",
       "    .dataframe thead th {\n",
       "        text-align: right;\n",
       "    }\n",
       "</style>\n",
       "<table border=\"1\" class=\"dataframe\">\n",
       "  <thead>\n",
       "    <tr style=\"text-align: right;\">\n",
       "      <th></th>\n",
       "      <th>instrumentalness</th>\n",
       "    </tr>\n",
       "  </thead>\n",
       "  <tbody>\n",
       "    <tr>\n",
       "      <th>Dark Trap</th>\n",
       "      <td>-0.005422</td>\n",
       "    </tr>\n",
       "    <tr>\n",
       "      <th>Emo</th>\n",
       "      <td>-0.148983</td>\n",
       "    </tr>\n",
       "    <tr>\n",
       "      <th>Hiphop</th>\n",
       "      <td>-0.199110</td>\n",
       "    </tr>\n",
       "    <tr>\n",
       "      <th>Pop</th>\n",
       "      <td>-0.076210</td>\n",
       "    </tr>\n",
       "    <tr>\n",
       "      <th>Rap</th>\n",
       "      <td>-0.159151</td>\n",
       "    </tr>\n",
       "    <tr>\n",
       "      <th>RnB</th>\n",
       "      <td>-0.169860</td>\n",
       "    </tr>\n",
       "    <tr>\n",
       "      <th>Trap Metal</th>\n",
       "      <td>-0.134198</td>\n",
       "    </tr>\n",
       "    <tr>\n",
       "      <th>Underground Rap</th>\n",
       "      <td>-0.279177</td>\n",
       "    </tr>\n",
       "    <tr>\n",
       "      <th>dnb</th>\n",
       "      <td>0.131039</td>\n",
       "    </tr>\n",
       "    <tr>\n",
       "      <th>hardstyle</th>\n",
       "      <td>-0.107248</td>\n",
       "    </tr>\n",
       "    <tr>\n",
       "      <th>psytrance</th>\n",
       "      <td>0.357661</td>\n",
       "    </tr>\n",
       "    <tr>\n",
       "      <th>techhouse</th>\n",
       "      <td>0.220326</td>\n",
       "    </tr>\n",
       "    <tr>\n",
       "      <th>techno</th>\n",
       "      <td>0.416939</td>\n",
       "    </tr>\n",
       "    <tr>\n",
       "      <th>trance</th>\n",
       "      <td>0.158175</td>\n",
       "    </tr>\n",
       "    <tr>\n",
       "      <th>trap</th>\n",
       "      <td>-0.064492</td>\n",
       "    </tr>\n",
       "    <tr>\n",
       "      <th>instrumentalness</th>\n",
       "      <td>1.000000</td>\n",
       "    </tr>\n",
       "  </tbody>\n",
       "</table>\n",
       "</div>"
      ],
      "text/plain": [
       "                  instrumentalness\n",
       "Dark Trap                -0.005422\n",
       "Emo                      -0.148983\n",
       "Hiphop                   -0.199110\n",
       "Pop                      -0.076210\n",
       "Rap                      -0.159151\n",
       "RnB                      -0.169860\n",
       "Trap Metal               -0.134198\n",
       "Underground Rap          -0.279177\n",
       "dnb                       0.131039\n",
       "hardstyle                -0.107248\n",
       "psytrance                 0.357661\n",
       "techhouse                 0.220326\n",
       "techno                    0.416939\n",
       "trance                    0.158175\n",
       "trap                     -0.064492\n",
       "instrumentalness          1.000000"
      ]
     },
     "execution_count": 58,
     "metadata": {},
     "output_type": "execute_result"
    }
   ],
   "source": [
    "corr"
   ]
  },
  {
   "cell_type": "code",
   "execution_count": 59,
   "id": "verified-stocks",
   "metadata": {},
   "outputs": [
    {
     "data": {
      "text/plain": [
       "<AxesSubplot:>"
      ]
     },
     "execution_count": 59,
     "metadata": {},
     "output_type": "execute_result"
    },
    {
     "data": {
      "image/png": "[encoded data removed]",
      "text/plain": [
       "<Figure size 432x288 with 2 Axes>"
      ]
     },
     "metadata": {
      "needs_background": "light"
     },
     "output_type": "display_data"
    }
   ],
   "source": [
    "sns.heatmap(corr)"
   ]
  },
  {
   "cell_type": "markdown",
   "id": "involved-teens",
   "metadata": {},
   "source": [
    "## liveness: float\n",
    "Detects the presence of an audience in the recording. Higher liveness values represent an increased probability that the track was performed live. A value above 0.8 provides strong likelihood that the track is live."
   ]
  },
  {
   "cell_type": "code",
   "execution_count": 60,
   "id": "healthy-renaissance",
   "metadata": {},
   "outputs": [
    {
     "data": {
      "image/png": "[encoded data removed]",
      "text/plain": [
       "<Figure size 432x288 with 1 Axes>"
      ]
     },
     "metadata": {
      "needs_background": "light"
     },
     "output_type": "display_data"
    }
   ],
   "source": [
    "desc, data, boxplot, corr, outliers = analyze_feature(df, \"liveness\")"
   ]
  },
  {
   "cell_type": "code",
   "execution_count": 61,
   "id": "fresh-steam",
   "metadata": {},
   "outputs": [
    {
     "name": "stdout",
     "output_type": "stream",
     "text": [
      "There are  2496  outliers in this feature.\n"
     ]
    }
   ],
   "source": [
    "print(\"There are \", len(outliers), \" outliers in this feature.\")"
   ]
  },
  {
   "cell_type": "code",
   "execution_count": 62,
   "id": "competent-tuner",
   "metadata": {},
   "outputs": [
    {
     "name": "stdout",
     "output_type": "stream",
     "text": [
      "0    0.0556\n",
      "1    0.1180\n",
      "2    0.3720\n",
      "3    0.1140\n",
      "4    0.1660\n",
      "Name: liveness, dtype: float64\n"
     ]
    }
   ],
   "source": [
    "print(data)"
   ]
  },
  {
   "cell_type": "code",
   "execution_count": 63,
   "id": "beautiful-campbell",
   "metadata": {},
   "outputs": [
    {
     "name": "stdout",
     "output_type": "stream",
     "text": [
      "count    42305.000000\n",
      "mean         0.214079\n",
      "std          0.175576\n",
      "min          0.010700\n",
      "25%          0.099600\n",
      "50%          0.135000\n",
      "75%          0.294000\n",
      "max          0.988000\n",
      "Name: liveness, dtype: float64\n"
     ]
    }
   ],
   "source": [
    "print(desc)"
   ]
  },
  {
   "cell_type": "markdown",
   "id": "consecutive-thanks",
   "metadata": {},
   "source": [
    "#### Correlation to target"
   ]
  },
  {
   "cell_type": "code",
   "execution_count": 64,
   "id": "regulation-richards",
   "metadata": {},
   "outputs": [
    {
     "data": {
      "text/html": [
       "<div>\n",
       "<style scoped>\n",
       "    .dataframe tbody tr th:only-of-type {\n",
       "        vertical-align: middle;\n",
       "    }\n",
       "\n",
       "    .dataframe tbody tr th {\n",
       "        vertical-align: top;\n",
       "    }\n",
       "\n",
       "    .dataframe thead th {\n",
       "        text-align: right;\n",
       "    }\n",
       "</style>\n",
       "<table border=\"1\" class=\"dataframe\">\n",
       "  <thead>\n",
       "    <tr style=\"text-align: right;\">\n",
       "      <th></th>\n",
       "      <th>liveness</th>\n",
       "    </tr>\n",
       "  </thead>\n",
       "  <tbody>\n",
       "    <tr>\n",
       "      <th>Dark Trap</th>\n",
       "      <td>-0.057533</td>\n",
       "    </tr>\n",
       "    <tr>\n",
       "      <th>Emo</th>\n",
       "      <td>-0.021816</td>\n",
       "    </tr>\n",
       "    <tr>\n",
       "      <th>Hiphop</th>\n",
       "      <td>-0.005533</td>\n",
       "    </tr>\n",
       "    <tr>\n",
       "      <th>Pop</th>\n",
       "      <td>-0.021599</td>\n",
       "    </tr>\n",
       "    <tr>\n",
       "      <th>Rap</th>\n",
       "      <td>-0.039877</td>\n",
       "    </tr>\n",
       "    <tr>\n",
       "      <th>RnB</th>\n",
       "      <td>-0.045672</td>\n",
       "    </tr>\n",
       "    <tr>\n",
       "      <th>Trap Metal</th>\n",
       "      <td>0.037089</td>\n",
       "    </tr>\n",
       "    <tr>\n",
       "      <th>Underground Rap</th>\n",
       "      <td>-0.052522</td>\n",
       "    </tr>\n",
       "    <tr>\n",
       "      <th>dnb</th>\n",
       "      <td>-0.017510</td>\n",
       "    </tr>\n",
       "    <tr>\n",
       "      <th>hardstyle</th>\n",
       "      <td>0.092937</td>\n",
       "    </tr>\n",
       "    <tr>\n",
       "      <th>psytrance</th>\n",
       "      <td>0.123993</td>\n",
       "    </tr>\n",
       "    <tr>\n",
       "      <th>techhouse</th>\n",
       "      <td>-0.113870</td>\n",
       "    </tr>\n",
       "    <tr>\n",
       "      <th>techno</th>\n",
       "      <td>-0.101381</td>\n",
       "    </tr>\n",
       "    <tr>\n",
       "      <th>trance</th>\n",
       "      <td>0.130418</td>\n",
       "    </tr>\n",
       "    <tr>\n",
       "      <th>trap</th>\n",
       "      <td>0.097407</td>\n",
       "    </tr>\n",
       "    <tr>\n",
       "      <th>liveness</th>\n",
       "      <td>1.000000</td>\n",
       "    </tr>\n",
       "  </tbody>\n",
       "</table>\n",
       "</div>"
      ],
      "text/plain": [
       "                 liveness\n",
       "Dark Trap       -0.057533\n",
       "Emo             -0.021816\n",
       "Hiphop          -0.005533\n",
       "Pop             -0.021599\n",
       "Rap             -0.039877\n",
       "RnB             -0.045672\n",
       "Trap Metal       0.037089\n",
       "Underground Rap -0.052522\n",
       "dnb             -0.017510\n",
       "hardstyle        0.092937\n",
       "psytrance        0.123993\n",
       "techhouse       -0.113870\n",
       "techno          -0.101381\n",
       "trance           0.130418\n",
       "trap             0.097407\n",
       "liveness         1.000000"
      ]
     },
     "execution_count": 64,
     "metadata": {},
     "output_type": "execute_result"
    }
   ],
   "source": [
    "corr"
   ]
  },
  {
   "cell_type": "code",
   "execution_count": 65,
   "id": "durable-ghost",
   "metadata": {},
   "outputs": [
    {
     "data": {
      "text/plain": [
       "<AxesSubplot:>"
      ]
     },
     "execution_count": 65,
     "metadata": {},
     "output_type": "execute_result"
    },
    {
     "data": {
      "image/png": "[encoded data removed]",
      "text/plain": [
       "<Figure size 432x288 with 2 Axes>"
      ]
     },
     "metadata": {
      "needs_background": "light"
     },
     "output_type": "display_data"
    }
   ],
   "source": [
    "sns.heatmap(corr)"
   ]
  },
  {
   "cell_type": "markdown",
   "id": "adverse-pocket",
   "metadata": {},
   "source": [
    "## valence: float\n",
    "A measure from 0.0 to 1.0 describing the musical positiveness conveyed by a track. Tracks with high valence sound more positive (e.g. happy, cheerful, euphoric), while tracks with low valence sound more negative (e.g. sad, depressed, angry)."
   ]
  },
  {
   "cell_type": "code",
   "execution_count": 66,
   "id": "consolidated-milton",
   "metadata": {},
   "outputs": [
    {
     "data": {
      "image/png": "[encoded data removed]",
      "text/plain": [
       "<Figure size 432x288 with 1 Axes>"
      ]
     },
     "metadata": {
      "needs_background": "light"
     },
     "output_type": "display_data"
    }
   ],
   "source": [
    "desc, data, boxplot, corr, outliers = analyze_feature(df, \"valence\")"
   ]
  },
  {
   "cell_type": "code",
   "execution_count": 67,
   "id": "annoying-recipient",
   "metadata": {},
   "outputs": [
    {
     "name": "stdout",
     "output_type": "stream",
     "text": [
      "There are  0  outliers in this feature.\n"
     ]
    }
   ],
   "source": [
    "print(\"There are \", len(outliers), \" outliers in this feature.\")"
   ]
  },
  {
   "cell_type": "code",
   "execution_count": 68,
   "id": "electoral-tiger",
   "metadata": {},
   "outputs": [
    {
     "name": "stdout",
     "output_type": "stream",
     "text": [
      "0    0.3890\n",
      "1    0.1240\n",
      "2    0.0391\n",
      "3    0.1750\n",
      "4    0.5910\n",
      "Name: valence, dtype: float64\n"
     ]
    }
   ],
   "source": [
    "print(data)"
   ]
  },
  {
   "cell_type": "code",
   "execution_count": 69,
   "id": "individual-watson",
   "metadata": {},
   "outputs": [
    {
     "name": "stdout",
     "output_type": "stream",
     "text": [
      "count    42305.000000\n",
      "mean         0.357101\n",
      "std          0.233200\n",
      "min          0.018700\n",
      "25%          0.161000\n",
      "50%          0.322000\n",
      "75%          0.522000\n",
      "max          0.988000\n",
      "Name: valence, dtype: float64\n"
     ]
    }
   ],
   "source": [
    "print(desc)"
   ]
  },
  {
   "cell_type": "code",
   "execution_count": 70,
   "id": "exclusive-terry",
   "metadata": {},
   "outputs": [
    {
     "data": {
      "text/html": [
       "<div>\n",
       "<style scoped>\n",
       "    .dataframe tbody tr th:only-of-type {\n",
       "        vertical-align: middle;\n",
       "    }\n",
       "\n",
       "    .dataframe tbody tr th {\n",
       "        vertical-align: top;\n",
       "    }\n",
       "\n",
       "    .dataframe thead th {\n",
       "        text-align: right;\n",
       "    }\n",
       "</style>\n",
       "<table border=\"1\" class=\"dataframe\">\n",
       "  <thead>\n",
       "    <tr style=\"text-align: right;\">\n",
       "      <th></th>\n",
       "      <th>valence</th>\n",
       "    </tr>\n",
       "  </thead>\n",
       "  <tbody>\n",
       "    <tr>\n",
       "      <th>Dark Trap</th>\n",
       "      <td>-0.124638</td>\n",
       "    </tr>\n",
       "    <tr>\n",
       "      <th>Emo</th>\n",
       "      <td>0.075906</td>\n",
       "    </tr>\n",
       "    <tr>\n",
       "      <th>Hiphop</th>\n",
       "      <td>0.198276</td>\n",
       "    </tr>\n",
       "    <tr>\n",
       "      <th>Pop</th>\n",
       "      <td>0.086943</td>\n",
       "    </tr>\n",
       "    <tr>\n",
       "      <th>Rap</th>\n",
       "      <td>0.076821</td>\n",
       "    </tr>\n",
       "    <tr>\n",
       "      <th>RnB</th>\n",
       "      <td>0.134108</td>\n",
       "    </tr>\n",
       "    <tr>\n",
       "      <th>Trap Metal</th>\n",
       "      <td>-0.007850</td>\n",
       "    </tr>\n",
       "    <tr>\n",
       "      <th>Underground Rap</th>\n",
       "      <td>0.150730</td>\n",
       "    </tr>\n",
       "    <tr>\n",
       "      <th>dnb</th>\n",
       "      <td>-0.122502</td>\n",
       "    </tr>\n",
       "    <tr>\n",
       "      <th>hardstyle</th>\n",
       "      <td>-0.105312</td>\n",
       "    </tr>\n",
       "    <tr>\n",
       "      <th>psytrance</th>\n",
       "      <td>-0.114671</td>\n",
       "    </tr>\n",
       "    <tr>\n",
       "      <th>techhouse</th>\n",
       "      <td>0.248938</td>\n",
       "    </tr>\n",
       "    <tr>\n",
       "      <th>techno</th>\n",
       "      <td>-0.193660</td>\n",
       "    </tr>\n",
       "    <tr>\n",
       "      <th>trance</th>\n",
       "      <td>-0.162059</td>\n",
       "    </tr>\n",
       "    <tr>\n",
       "      <th>trap</th>\n",
       "      <td>-0.066099</td>\n",
       "    </tr>\n",
       "    <tr>\n",
       "      <th>valence</th>\n",
       "      <td>1.000000</td>\n",
       "    </tr>\n",
       "  </tbody>\n",
       "</table>\n",
       "</div>"
      ],
      "text/plain": [
       "                  valence\n",
       "Dark Trap       -0.124638\n",
       "Emo              0.075906\n",
       "Hiphop           0.198276\n",
       "Pop              0.086943\n",
       "Rap              0.076821\n",
       "RnB              0.134108\n",
       "Trap Metal      -0.007850\n",
       "Underground Rap  0.150730\n",
       "dnb             -0.122502\n",
       "hardstyle       -0.105312\n",
       "psytrance       -0.114671\n",
       "techhouse        0.248938\n",
       "techno          -0.193660\n",
       "trance          -0.162059\n",
       "trap            -0.066099\n",
       "valence          1.000000"
      ]
     },
     "execution_count": 70,
     "metadata": {},
     "output_type": "execute_result"
    }
   ],
   "source": [
    "corr"
   ]
  },
  {
   "cell_type": "markdown",
   "id": "handmade-prison",
   "metadata": {},
   "source": [
    "#### Correlation to target"
   ]
  },
  {
   "cell_type": "code",
   "execution_count": 71,
   "id": "sunset-savage",
   "metadata": {},
   "outputs": [
    {
     "data": {
      "text/plain": [
       "<AxesSubplot:>"
      ]
     },
     "execution_count": 71,
     "metadata": {},
     "output_type": "execute_result"
    },
    {
     "data": {
      "image/png": "[encoded data removed]",
      "text/plain": [
       "<Figure size 432x288 with 2 Axes>"
      ]
     },
     "metadata": {
      "needs_background": "light"
     },
     "output_type": "display_data"
    }
   ],
   "source": [
    "sns.heatmap(corr)"
   ]
  },
  {
   "cell_type": "markdown",
   "id": "acquired-presence",
   "metadata": {},
   "source": [
    "## tempo: float\n",
    "The overall estimated tempo of a track in beats per minute (BPM). In musical terminology, tempo is the speed or pace of a given piece and derives directly from the average beat duration."
   ]
  },
  {
   "cell_type": "code",
   "execution_count": 72,
   "id": "dense-slope",
   "metadata": {},
   "outputs": [
    {
     "data": {
      "image/png": "[encoded data removed]",
      "text/plain": [
       "<Figure size 432x288 with 1 Axes>"
      ]
     },
     "metadata": {
      "needs_background": "light"
     },
     "output_type": "display_data"
    }
   ],
   "source": [
    "desc, data, boxplot, corr, outliers = analyze_feature(df, \"tempo\")"
   ]
  },
  {
   "cell_type": "code",
   "execution_count": 73,
   "id": "adopted-spiritual",
   "metadata": {},
   "outputs": [
    {
     "name": "stdout",
     "output_type": "stream",
     "text": [
      "There are  532  outliers in this feature.\n"
     ]
    }
   ],
   "source": [
    "print(\"There are \", len(outliers), \" outliers in this feature.\")"
   ]
  },
  {
   "cell_type": "code",
   "execution_count": 74,
   "id": "recognized-tension",
   "metadata": {},
   "outputs": [
    {
     "name": "stdout",
     "output_type": "stream",
     "text": [
      "0    156.985\n",
      "1    115.080\n",
      "2    218.050\n",
      "3    186.948\n",
      "4    147.988\n",
      "Name: tempo, dtype: float64\n"
     ]
    }
   ],
   "source": [
    "print(data)"
   ]
  },
  {
   "cell_type": "code",
   "execution_count": 75,
   "id": "affiliated-contract",
   "metadata": {},
   "outputs": [
    {
     "name": "stdout",
     "output_type": "stream",
     "text": [
      "count    42305.000000\n",
      "mean       147.474056\n",
      "std         23.844623\n",
      "min         57.967000\n",
      "25%        129.931000\n",
      "50%        144.973000\n",
      "75%        161.464000\n",
      "max        220.290000\n",
      "Name: tempo, dtype: float64\n"
     ]
    }
   ],
   "source": [
    "print(desc)"
   ]
  },
  {
   "cell_type": "markdown",
   "id": "essential-fossil",
   "metadata": {},
   "source": [
    "#### Correlation to target"
   ]
  },
  {
   "cell_type": "code",
   "execution_count": 76,
   "id": "healthy-brisbane",
   "metadata": {},
   "outputs": [
    {
     "data": {
      "text/html": [
       "<div>\n",
       "<style scoped>\n",
       "    .dataframe tbody tr th:only-of-type {\n",
       "        vertical-align: middle;\n",
       "    }\n",
       "\n",
       "    .dataframe tbody tr th {\n",
       "        vertical-align: top;\n",
       "    }\n",
       "\n",
       "    .dataframe thead th {\n",
       "        text-align: right;\n",
       "    }\n",
       "</style>\n",
       "<table border=\"1\" class=\"dataframe\">\n",
       "  <thead>\n",
       "    <tr style=\"text-align: right;\">\n",
       "      <th></th>\n",
       "      <th>tempo</th>\n",
       "    </tr>\n",
       "  </thead>\n",
       "  <tbody>\n",
       "    <tr>\n",
       "      <th>Dark Trap</th>\n",
       "      <td>0.033851</td>\n",
       "    </tr>\n",
       "    <tr>\n",
       "      <th>Emo</th>\n",
       "      <td>0.054707</td>\n",
       "    </tr>\n",
       "    <tr>\n",
       "      <th>Hiphop</th>\n",
       "      <td>0.180566</td>\n",
       "    </tr>\n",
       "    <tr>\n",
       "      <th>Pop</th>\n",
       "      <td>0.020359</td>\n",
       "    </tr>\n",
       "    <tr>\n",
       "      <th>Rap</th>\n",
       "      <td>-0.192422</td>\n",
       "    </tr>\n",
       "    <tr>\n",
       "      <th>RnB</th>\n",
       "      <td>0.096397</td>\n",
       "    </tr>\n",
       "    <tr>\n",
       "      <th>Trap Metal</th>\n",
       "      <td>0.011181</td>\n",
       "    </tr>\n",
       "    <tr>\n",
       "      <th>Underground Rap</th>\n",
       "      <td>0.091627</td>\n",
       "    </tr>\n",
       "    <tr>\n",
       "      <th>dnb</th>\n",
       "      <td>0.303727</td>\n",
       "    </tr>\n",
       "    <tr>\n",
       "      <th>hardstyle</th>\n",
       "      <td>0.036481</td>\n",
       "    </tr>\n",
       "    <tr>\n",
       "      <th>psytrance</th>\n",
       "      <td>-0.055059</td>\n",
       "    </tr>\n",
       "    <tr>\n",
       "      <th>techhouse</th>\n",
       "      <td>-0.260064</td>\n",
       "    </tr>\n",
       "    <tr>\n",
       "      <th>techno</th>\n",
       "      <td>-0.212688</td>\n",
       "    </tr>\n",
       "    <tr>\n",
       "      <th>trance</th>\n",
       "      <td>-0.148842</td>\n",
       "    </tr>\n",
       "    <tr>\n",
       "      <th>trap</th>\n",
       "      <td>0.002512</td>\n",
       "    </tr>\n",
       "    <tr>\n",
       "      <th>tempo</th>\n",
       "      <td>1.000000</td>\n",
       "    </tr>\n",
       "  </tbody>\n",
       "</table>\n",
       "</div>"
      ],
      "text/plain": [
       "                    tempo\n",
       "Dark Trap        0.033851\n",
       "Emo              0.054707\n",
       "Hiphop           0.180566\n",
       "Pop              0.020359\n",
       "Rap             -0.192422\n",
       "RnB              0.096397\n",
       "Trap Metal       0.011181\n",
       "Underground Rap  0.091627\n",
       "dnb              0.303727\n",
       "hardstyle        0.036481\n",
       "psytrance       -0.055059\n",
       "techhouse       -0.260064\n",
       "techno          -0.212688\n",
       "trance          -0.148842\n",
       "trap             0.002512\n",
       "tempo            1.000000"
      ]
     },
     "execution_count": 76,
     "metadata": {},
     "output_type": "execute_result"
    }
   ],
   "source": [
    "corr"
   ]
  },
  {
   "cell_type": "code",
   "execution_count": 77,
   "id": "adjustable-punch",
   "metadata": {},
   "outputs": [
    {
     "data": {
      "text/plain": [
       "<AxesSubplot:>"
      ]
     },
     "execution_count": 77,
     "metadata": {},
     "output_type": "execute_result"
    },
    {
     "data": {
      "image/png": "[encoded data removed]",
      "text/plain": [
       "<Figure size 432x288 with 2 Axes>"
      ]
     },
     "metadata": {
      "needs_background": "light"
     },
     "output_type": "display_data"
    }
   ],
   "source": [
    "sns.heatmap(corr)"
   ]
  },
  {
   "cell_type": "markdown",
   "id": "opening-detroit",
   "metadata": {},
   "source": [
    "## duration_ms: integer\n",
    "The duration of the track in milliseconds."
   ]
  },
  {
   "cell_type": "code",
   "execution_count": 78,
   "id": "historical-muscle",
   "metadata": {},
   "outputs": [
    {
     "data": {
      "image/png": "[encoded data removed]",
      "text/plain": [
       "<Figure size 432x288 with 1 Axes>"
      ]
     },
     "metadata": {
      "needs_background": "light"
     },
     "output_type": "display_data"
    }
   ],
   "source": [
    "desc, data, boxplot, corr, outliers = analyze_feature(df, \"duration_ms\")"
   ]
  },
  {
   "cell_type": "code",
   "execution_count": 79,
   "id": "consolidated-hostel",
   "metadata": {},
   "outputs": [
    {
     "name": "stdout",
     "output_type": "stream",
     "text": [
      "There are  1220  outliers in this feature.\n"
     ]
    }
   ],
   "source": [
    "print(\"There are \", len(outliers), \" outliers in this feature.\")"
   ]
  },
  {
   "cell_type": "code",
   "execution_count": 80,
   "id": "connected-result",
   "metadata": {},
   "outputs": [
    {
     "name": "stdout",
     "output_type": "stream",
     "text": [
      "0    124539\n",
      "1    224427\n",
      "2     98821\n",
      "3    123661\n",
      "4    123298\n",
      "Name: duration_ms, dtype: int64\n"
     ]
    }
   ],
   "source": [
    "print(data)"
   ]
  },
  {
   "cell_type": "code",
   "execution_count": 81,
   "id": "optional-border",
   "metadata": {},
   "outputs": [
    {
     "name": "stdout",
     "output_type": "stream",
     "text": [
      "count     42305.000000\n",
      "mean     250865.846685\n",
      "std      102957.713571\n",
      "min       25600.000000\n",
      "25%      179840.000000\n",
      "50%      224760.000000\n",
      "75%      301133.000000\n",
      "max      913052.000000\n",
      "Name: duration_ms, dtype: float64\n"
     ]
    }
   ],
   "source": [
    "print(desc)"
   ]
  },
  {
   "cell_type": "markdown",
   "id": "modified-corps",
   "metadata": {},
   "source": [
    "#### Correlation to target"
   ]
  },
  {
   "cell_type": "code",
   "execution_count": 82,
   "id": "lined-census",
   "metadata": {},
   "outputs": [
    {
     "data": {
      "text/html": [
       "<div>\n",
       "<style scoped>\n",
       "    .dataframe tbody tr th:only-of-type {\n",
       "        vertical-align: middle;\n",
       "    }\n",
       "\n",
       "    .dataframe tbody tr th {\n",
       "        vertical-align: top;\n",
       "    }\n",
       "\n",
       "    .dataframe thead th {\n",
       "        text-align: right;\n",
       "    }\n",
       "</style>\n",
       "<table border=\"1\" class=\"dataframe\">\n",
       "  <thead>\n",
       "    <tr style=\"text-align: right;\">\n",
       "      <th></th>\n",
       "      <th>duration_ms</th>\n",
       "    </tr>\n",
       "  </thead>\n",
       "  <tbody>\n",
       "    <tr>\n",
       "      <th>Dark Trap</th>\n",
       "      <td>-0.213693</td>\n",
       "    </tr>\n",
       "    <tr>\n",
       "      <th>Emo</th>\n",
       "      <td>-0.064289</td>\n",
       "    </tr>\n",
       "    <tr>\n",
       "      <th>Hiphop</th>\n",
       "      <td>-0.061789</td>\n",
       "    </tr>\n",
       "    <tr>\n",
       "      <th>Pop</th>\n",
       "      <td>-0.040242</td>\n",
       "    </tr>\n",
       "    <tr>\n",
       "      <th>Rap</th>\n",
       "      <td>-0.099347</td>\n",
       "    </tr>\n",
       "    <tr>\n",
       "      <th>RnB</th>\n",
       "      <td>-0.054290</td>\n",
       "    </tr>\n",
       "    <tr>\n",
       "      <th>Trap Metal</th>\n",
       "      <td>-0.221702</td>\n",
       "    </tr>\n",
       "    <tr>\n",
       "      <th>Underground Rap</th>\n",
       "      <td>-0.291419</td>\n",
       "    </tr>\n",
       "    <tr>\n",
       "      <th>dnb</th>\n",
       "      <td>0.095166</td>\n",
       "    </tr>\n",
       "    <tr>\n",
       "      <th>hardstyle</th>\n",
       "      <td>-0.056689</td>\n",
       "    </tr>\n",
       "    <tr>\n",
       "      <th>psytrance</th>\n",
       "      <td>0.518816</td>\n",
       "    </tr>\n",
       "    <tr>\n",
       "      <th>techhouse</th>\n",
       "      <td>0.109060</td>\n",
       "    </tr>\n",
       "    <tr>\n",
       "      <th>techno</th>\n",
       "      <td>0.395057</td>\n",
       "    </tr>\n",
       "    <tr>\n",
       "      <th>trance</th>\n",
       "      <td>0.098318</td>\n",
       "    </tr>\n",
       "    <tr>\n",
       "      <th>trap</th>\n",
       "      <td>-0.068779</td>\n",
       "    </tr>\n",
       "    <tr>\n",
       "      <th>duration_ms</th>\n",
       "      <td>1.000000</td>\n",
       "    </tr>\n",
       "  </tbody>\n",
       "</table>\n",
       "</div>"
      ],
      "text/plain": [
       "                 duration_ms\n",
       "Dark Trap          -0.213693\n",
       "Emo                -0.064289\n",
       "Hiphop             -0.061789\n",
       "Pop                -0.040242\n",
       "Rap                -0.099347\n",
       "RnB                -0.054290\n",
       "Trap Metal         -0.221702\n",
       "Underground Rap    -0.291419\n",
       "dnb                 0.095166\n",
       "hardstyle          -0.056689\n",
       "psytrance           0.518816\n",
       "techhouse           0.109060\n",
       "techno              0.395057\n",
       "trance              0.098318\n",
       "trap               -0.068779\n",
       "duration_ms         1.000000"
      ]
     },
     "execution_count": 82,
     "metadata": {},
     "output_type": "execute_result"
    }
   ],
   "source": [
    "corr"
   ]
  },
  {
   "cell_type": "code",
   "execution_count": 83,
   "id": "distributed-official",
   "metadata": {},
   "outputs": [
    {
     "data": {
      "text/plain": [
       "<AxesSubplot:>"
      ]
     },
     "execution_count": 83,
     "metadata": {},
     "output_type": "execute_result"
    },
    {
     "data": {
      "image/png": "[encoded data removed]",
      "text/plain": [
       "<Figure size 432x288 with 2 Axes>"
      ]
     },
     "metadata": {
      "needs_background": "light"
     },
     "output_type": "display_data"
    }
   ],
   "source": [
    "sns.heatmap(corr)"
   ]
  },
  {
   "cell_type": "markdown",
   "id": "saved-culture",
   "metadata": {},
   "source": [
    "## Correlation between features of X feature matrix"
   ]
  },
  {
   "cell_type": "code",
   "execution_count": 84,
   "id": "fantastic-handbook",
   "metadata": {},
   "outputs": [
    {
     "data": {
      "text/html": [
       "<div>\n",
       "<style scoped>\n",
       "    .dataframe tbody tr th:only-of-type {\n",
       "        vertical-align: middle;\n",
       "    }\n",
       "\n",
       "    .dataframe tbody tr th {\n",
       "        vertical-align: top;\n",
       "    }\n",
       "\n",
       "    .dataframe thead th {\n",
       "        text-align: right;\n",
       "    }\n",
       "</style>\n",
       "<table border=\"1\" class=\"dataframe\">\n",
       "  <thead>\n",
       "    <tr style=\"text-align: right;\">\n",
       "      <th></th>\n",
       "      <th>danceability</th>\n",
       "      <th>energy</th>\n",
       "      <th>key</th>\n",
       "      <th>loudness</th>\n",
       "      <th>mode</th>\n",
       "      <th>speechiness</th>\n",
       "      <th>acousticness</th>\n",
       "      <th>instrumentalness</th>\n",
       "      <th>liveness</th>\n",
       "      <th>valence</th>\n",
       "      <th>tempo</th>\n",
       "      <th>duration_ms</th>\n",
       "    </tr>\n",
       "  </thead>\n",
       "  <tbody>\n",
       "    <tr>\n",
       "      <th>danceability</th>\n",
       "      <td>1.000000</td>\n",
       "      <td>-0.323248</td>\n",
       "      <td>-0.012708</td>\n",
       "      <td>-0.216776</td>\n",
       "      <td>0.084413</td>\n",
       "      <td>0.182177</td>\n",
       "      <td>0.069910</td>\n",
       "      <td>-0.067114</td>\n",
       "      <td>-0.196702</td>\n",
       "      <td>0.369845</td>\n",
       "      <td>-0.165929</td>\n",
       "      <td>-0.049807</td>\n",
       "    </tr>\n",
       "    <tr>\n",
       "      <th>energy</th>\n",
       "      <td>-0.323248</td>\n",
       "      <td>1.000000</td>\n",
       "      <td>0.044731</td>\n",
       "      <td>0.601540</td>\n",
       "      <td>-0.032203</td>\n",
       "      <td>-0.148363</td>\n",
       "      <td>-0.497334</td>\n",
       "      <td>0.303875</td>\n",
       "      <td>0.231754</td>\n",
       "      <td>-0.013520</td>\n",
       "      <td>-0.024504</td>\n",
       "      <td>0.294464</td>\n",
       "    </tr>\n",
       "    <tr>\n",
       "      <th>key</th>\n",
       "      <td>-0.012708</td>\n",
       "      <td>0.044731</td>\n",
       "      <td>1.000000</td>\n",
       "      <td>-0.006810</td>\n",
       "      <td>-0.248283</td>\n",
       "      <td>-0.030634</td>\n",
       "      <td>-0.004937</td>\n",
       "      <td>0.068266</td>\n",
       "      <td>0.002753</td>\n",
       "      <td>0.028600</td>\n",
       "      <td>-0.009862</td>\n",
       "      <td>0.069255</td>\n",
       "    </tr>\n",
       "    <tr>\n",
       "      <th>loudness</th>\n",
       "      <td>-0.216776</td>\n",
       "      <td>0.601540</td>\n",
       "      <td>-0.006810</td>\n",
       "      <td>1.000000</td>\n",
       "      <td>-0.004744</td>\n",
       "      <td>0.048035</td>\n",
       "      <td>-0.283876</td>\n",
       "      <td>-0.187933</td>\n",
       "      <td>0.167104</td>\n",
       "      <td>0.080916</td>\n",
       "      <td>0.151610</td>\n",
       "      <td>-0.095999</td>\n",
       "    </tr>\n",
       "    <tr>\n",
       "      <th>mode</th>\n",
       "      <td>0.084413</td>\n",
       "      <td>-0.032203</td>\n",
       "      <td>-0.248283</td>\n",
       "      <td>-0.004744</td>\n",
       "      <td>1.000000</td>\n",
       "      <td>0.050260</td>\n",
       "      <td>-0.014514</td>\n",
       "      <td>-0.016402</td>\n",
       "      <td>0.007280</td>\n",
       "      <td>0.022208</td>\n",
       "      <td>-0.012191</td>\n",
       "      <td>-0.031253</td>\n",
       "    </tr>\n",
       "    <tr>\n",
       "      <th>speechiness</th>\n",
       "      <td>0.182177</td>\n",
       "      <td>-0.148363</td>\n",
       "      <td>-0.030634</td>\n",
       "      <td>0.048035</td>\n",
       "      <td>0.050260</td>\n",
       "      <td>1.000000</td>\n",
       "      <td>0.160184</td>\n",
       "      <td>-0.386571</td>\n",
       "      <td>0.057432</td>\n",
       "      <td>0.218829</td>\n",
       "      <td>0.164674</td>\n",
       "      <td>-0.309892</td>\n",
       "    </tr>\n",
       "    <tr>\n",
       "      <th>acousticness</th>\n",
       "      <td>0.069910</td>\n",
       "      <td>-0.497334</td>\n",
       "      <td>-0.004937</td>\n",
       "      <td>-0.283876</td>\n",
       "      <td>-0.014514</td>\n",
       "      <td>0.160184</td>\n",
       "      <td>1.000000</td>\n",
       "      <td>-0.261896</td>\n",
       "      <td>-0.107229</td>\n",
       "      <td>0.099328</td>\n",
       "      <td>0.055643</td>\n",
       "      <td>-0.246681</td>\n",
       "    </tr>\n",
       "    <tr>\n",
       "      <th>instrumentalness</th>\n",
       "      <td>-0.067114</td>\n",
       "      <td>0.303875</td>\n",
       "      <td>0.068266</td>\n",
       "      <td>-0.187933</td>\n",
       "      <td>-0.016402</td>\n",
       "      <td>-0.386571</td>\n",
       "      <td>-0.261896</td>\n",
       "      <td>1.000000</td>\n",
       "      <td>-0.015990</td>\n",
       "      <td>-0.257068</td>\n",
       "      <td>-0.207667</td>\n",
       "      <td>0.603784</td>\n",
       "    </tr>\n",
       "    <tr>\n",
       "      <th>liveness</th>\n",
       "      <td>-0.196702</td>\n",
       "      <td>0.231754</td>\n",
       "      <td>0.002753</td>\n",
       "      <td>0.167104</td>\n",
       "      <td>0.007280</td>\n",
       "      <td>0.057432</td>\n",
       "      <td>-0.107229</td>\n",
       "      <td>-0.015990</td>\n",
       "      <td>1.000000</td>\n",
       "      <td>-0.025156</td>\n",
       "      <td>0.028327</td>\n",
       "      <td>0.010594</td>\n",
       "    </tr>\n",
       "    <tr>\n",
       "      <th>valence</th>\n",
       "      <td>0.369845</td>\n",
       "      <td>-0.013520</td>\n",
       "      <td>0.028600</td>\n",
       "      <td>0.080916</td>\n",
       "      <td>0.022208</td>\n",
       "      <td>0.218829</td>\n",
       "      <td>0.099328</td>\n",
       "      <td>-0.257068</td>\n",
       "      <td>-0.025156</td>\n",
       "      <td>1.000000</td>\n",
       "      <td>0.058374</td>\n",
       "      <td>-0.191093</td>\n",
       "    </tr>\n",
       "    <tr>\n",
       "      <th>tempo</th>\n",
       "      <td>-0.165929</td>\n",
       "      <td>-0.024504</td>\n",
       "      <td>-0.009862</td>\n",
       "      <td>0.151610</td>\n",
       "      <td>-0.012191</td>\n",
       "      <td>0.164674</td>\n",
       "      <td>0.055643</td>\n",
       "      <td>-0.207667</td>\n",
       "      <td>0.028327</td>\n",
       "      <td>0.058374</td>\n",
       "      <td>1.000000</td>\n",
       "      <td>-0.156961</td>\n",
       "    </tr>\n",
       "    <tr>\n",
       "      <th>duration_ms</th>\n",
       "      <td>-0.049807</td>\n",
       "      <td>0.294464</td>\n",
       "      <td>0.069255</td>\n",
       "      <td>-0.095999</td>\n",
       "      <td>-0.031253</td>\n",
       "      <td>-0.309892</td>\n",
       "      <td>-0.246681</td>\n",
       "      <td>0.603784</td>\n",
       "      <td>0.010594</td>\n",
       "      <td>-0.191093</td>\n",
       "      <td>-0.156961</td>\n",
       "      <td>1.000000</td>\n",
       "    </tr>\n",
       "  </tbody>\n",
       "</table>\n",
       "</div>"
      ],
      "text/plain": [
       "                  danceability    energy       key  loudness      mode  \\\n",
       "danceability          1.000000 -0.323248 -0.012708 -0.216776  0.084413   \n",
       "energy               -0.323248  1.000000  0.044731  0.601540 -0.032203   \n",
       "key                  -0.012708  0.044731  1.000000 -0.006810 -0.248283   \n",
       "loudness             -0.216776  0.601540 -0.006810  1.000000 -0.004744   \n",
       "mode                  0.084413 -0.032203 -0.248283 -0.004744  1.000000   \n",
       "speechiness           0.182177 -0.148363 -0.030634  0.048035  0.050260   \n",
       "acousticness          0.069910 -0.497334 -0.004937 -0.283876 -0.014514   \n",
       "instrumentalness     -0.067114  0.303875  0.068266 -0.187933 -0.016402   \n",
       "liveness             -0.196702  0.231754  0.002753  0.167104  0.007280   \n",
       "valence               0.369845 -0.013520  0.028600  0.080916  0.022208   \n",
       "tempo                -0.165929 -0.024504 -0.009862  0.151610 -0.012191   \n",
       "duration_ms          -0.049807  0.294464  0.069255 -0.095999 -0.031253   \n",
       "\n",
       "                  speechiness  acousticness  instrumentalness  liveness  \\\n",
       "danceability         0.182177      0.069910         -0.067114 -0.196702   \n",
       "energy              -0.148363     -0.497334          0.303875  0.231754   \n",
       "key                 -0.030634     -0.004937          0.068266  0.002753   \n",
       "loudness             0.048035     -0.283876         -0.187933  0.167104   \n",
       "mode                 0.050260     -0.014514         -0.016402  0.007280   \n",
       "speechiness          1.000000      0.160184         -0.386571  0.057432   \n",
       "acousticness         0.160184      1.000000         -0.261896 -0.107229   \n",
       "instrumentalness    -0.386571     -0.261896          1.000000 -0.015990   \n",
       "liveness             0.057432     -0.107229         -0.015990  1.000000   \n",
       "valence              0.218829      0.099328         -0.257068 -0.025156   \n",
       "tempo                0.164674      0.055643         -0.207667  0.028327   \n",
       "duration_ms         -0.309892     -0.246681          0.603784  0.010594   \n",
       "\n",
       "                   valence     tempo  duration_ms  \n",
       "danceability      0.369845 -0.165929    -0.049807  \n",
       "energy           -0.013520 -0.024504     0.294464  \n",
       "key               0.028600 -0.009862     0.069255  \n",
       "loudness          0.080916  0.151610    -0.095999  \n",
       "mode              0.022208 -0.012191    -0.031253  \n",
       "speechiness       0.218829  0.164674    -0.309892  \n",
       "acousticness      0.099328  0.055643    -0.246681  \n",
       "instrumentalness -0.257068 -0.207667     0.603784  \n",
       "liveness         -0.025156  0.028327     0.010594  \n",
       "valence           1.000000  0.058374    -0.191093  \n",
       "tempo             0.058374  1.000000    -0.156961  \n",
       "duration_ms      -0.191093 -0.156961     1.000000  "
      ]
     },
     "execution_count": 84,
     "metadata": {},
     "output_type": "execute_result"
    }
   ],
   "source": [
    "corr = X.corr()\n",
    "corr"
   ]
  },
  {
   "cell_type": "code",
   "execution_count": 85,
   "id": "announced-gates",
   "metadata": {},
   "outputs": [
    {
     "data": {
      "text/plain": [
       "<AxesSubplot:>"
      ]
     },
     "execution_count": 85,
     "metadata": {},
     "output_type": "execute_result"
    },
    {
     "data": {
      "image/png": "[encoded data removed]",
      "text/plain": [
       "<Figure size 432x288 with 2 Axes>"
      ]
     },
     "metadata": {
      "needs_background": "light"
     },
     "output_type": "display_data"
    }
   ],
   "source": [
    "sns.heatmap(corr)"
   ]
  },
  {
   "cell_type": "markdown",
   "id": "first-culture",
   "metadata": {},
   "source": [
    "# Feature Engineering/Selection"
   ]
  },
  {
   "cell_type": "code",
   "execution_count": 86,
   "id": "dcb632bb",
   "metadata": {},
   "outputs": [],
   "source": [
    "def remove_outliers(df):\n",
    "    print(\"Removing outliers...\\n\")\n",
    "    genre = df['genre']\n",
    "    X = df.drop(columns = [\"genre\"])\n",
    "    z=np.abs(stats.zscore(X))\n",
    "    df = pd.DataFrame(df[(z < 2).all(axis=1)])\n",
    "    df['genre'] = genre\n",
    "    print(\"Outliers removed.\")\n",
    "    return df"
   ]
  },
  {
   "cell_type": "code",
   "execution_count": 87,
   "id": "613bcfb4",
   "metadata": {},
   "outputs": [],
   "source": [
    "def replace_outliers(df):\n",
    "    features = [\"danceability\",\"energy\", \"key\", \n",
    "           \"loudness\" , \"speechiness\", \"acousticness\", \n",
    "           \"instrumentalness\", \"liveness\", \"valence\", \n",
    "           \"tempo\", \"duration_ms\", \"mode\"]\n",
    "    \n",
    "    print(\"Replacing outliers with the median of each feature...\\n\")\n",
    "    df = df.mask(df.sub(df.mean()).div(df.std()).abs().gt(2))\n",
    "    for feature in features:\n",
    "        print(feature)\n",
    "        df[str(feature)] = df[str(feature)].fillna(value = df[(str(feature))].mean())\n",
    "    print(\"Outliers replaced.\")\n",
    "    return df"
   ]
  },
  {
   "cell_type": "markdown",
   "id": "8f523d45",
   "metadata": {},
   "source": [
    "# Data Processing Pipeline"
   ]
  },
  {
   "cell_type": "code",
   "execution_count": 88,
   "id": "c6ec33b1",
   "metadata": {},
   "outputs": [],
   "source": [
    "def encode_target(df):\n",
    "    print(\"Encoding target data...\\n\")\n",
    "    label_encoder = LabelEncoder()\n",
    "    df[\"genre_enc\"] = LabelEncoder().fit_transform(df['genre'])\n",
    "    df = df.drop(columns = ['genre'])\n",
    "    df = df.rename({'genre_enc': 'genre'}, axis='columns')\n",
    "    print(\"Target data encoded with LabelEncoder.\\n\")\n",
    "    return df"
   ]
  },
  {
   "cell_type": "code",
   "execution_count": 89,
   "id": "cd703ad1",
   "metadata": {},
   "outputs": [],
   "source": [
    "def univariate_selection(X, y):\n",
    "    print(\"Choosing which features to select using univariate_selection...\\n \")\n",
    "    test = SelectKBest(score_func=f_classif, k=9)\n",
    "    fit = test.fit(X, y.values.ravel())\n",
    "    X = fit.transform(X)\n",
    "    print(\"Feature selection done.\\n\")\n",
    "    return X  "
   ]
  },
  {
   "cell_type": "code",
   "execution_count": 90,
   "id": "b2064350",
   "metadata": {},
   "outputs": [],
   "source": [
    "def principal_component_analysis(X, y):\n",
    "    print(\"Choosing which features to select...\\n\")\n",
    "    pca = PCA(n_components=3)\n",
    "    fit = pca.fit(X)\n",
    "    X = fit.transform(X)\n",
    "    print(\"Feature selection done.\")\n",
    "    return X"
   ]
  },
  {
   "cell_type": "code",
   "execution_count": 91,
   "id": "161ccede",
   "metadata": {},
   "outputs": [],
   "source": [
    "def split_data(X, y):\n",
    "    X_train, X_test, y_train, y_test = train_test_split(X, y, test_size=0.222, random_state=42)\n",
    "    return X_train, X_test, y_train, y_test"
   ]
  },
  {
   "cell_type": "code",
   "execution_count": 92,
   "id": "8f0c39f6",
   "metadata": {},
   "outputs": [],
   "source": [
    "def normalize(X):\n",
    "    X = pd.DataFrame(X)\n",
    "    return X.apply(lambda x: x/x.max(), axis=0)"
   ]
  },
  {
   "cell_type": "code",
   "execution_count": 93,
   "id": "d509f595",
   "metadata": {},
   "outputs": [],
   "source": [
    "def pipe_line(feature_selection_method, outlier_dec):\n",
    "    print(\"Sending data through a pipeline using \", feature_selection_method, \"...\")\n",
    "    # load the data\n",
    "    df = load_csv()\n",
    "    \n",
    "    # drop known irrelevent features\n",
    "    df = drop_features_from_list(features_list)\n",
    "    \n",
    "    # eencode categorical target data\n",
    "    df = encode_target(df)\n",
    "    \n",
    "    # remove all outliers present in the data \n",
    "    if outlier_dec == \"remove\":\n",
    "        df = remove_outliers(df)\n",
    "    \n",
    "    # replace outliers with mean of column feature\n",
    "    if outlier_dec == \"replace\":\n",
    "        df = replace_outliers(df)\n",
    "    \n",
    "    if outlier_dec == \"do nothing\":\n",
    "        print(\"Continuing with outliers in dataframe...\")\n",
    "    \n",
    "    # Get feature and target matrix\n",
    "    X, y = get_X_and_y(df)\n",
    "    \n",
    "    # select method for feature selection \n",
    "    if feature_selection_method == \"uni\":\n",
    "        X = univariate_selection(X, y)\n",
    "        \n",
    "    if feature_selection_method == \"pca\":\n",
    "        X = principal_component_analysis(X, y)\n",
    "        \n",
    "    if feature_selection_method == \"none\":\n",
    "        print(\"Keeping all features\")\n",
    "    \n",
    "    X = normalize(X)\n",
    "    \n",
    "    # split the data\n",
    "    X_train, X_test, y_train, y_test = split_data(X, y)\n",
    "    \n",
    "    return X_train, X_test, y_train, y_test"
   ]
  },
  {
   "cell_type": "code",
   "execution_count": 94,
   "id": "059552eb",
   "metadata": {},
   "outputs": [],
   "source": [
    "def choose_feature_selection_method(fs, outlier_dec):\n",
    "    \n",
    "    if fs == \"uni\":\n",
    "        print(\"Univariate Selection ...\")\n",
    "        X_train, X_test, y_train, y_test = pipe_line(fs, outlier_dec)\n",
    "        \n",
    "    elif fs == \"pca\":\n",
    "        print(\"Principal Component Analysis... \")\n",
    "        X_train, X_test, y_train, y_test = pipe_line(fs, outlier_dec)\n",
    "        \n",
    "    else:\n",
    "        print(\"None\")\n",
    "        X_train, X_test, y_train, y_test = pipe_line(fs, outlier_dec)\n",
    "\n",
    "    return X_train, X_test, y_train, y_test"
   ]
  },
  {
   "cell_type": "markdown",
   "id": "downtown-organization",
   "metadata": {},
   "source": [
    "# Classification Section/ Build Models"
   ]
  },
  {
   "cell_type": "code",
   "execution_count": 95,
   "id": "dependent-badge",
   "metadata": {},
   "outputs": [],
   "source": [
    "def multi_log_regr(X_train, y_train, X_test, y_test):\n",
    "    \n",
    "    print(\"Traininig multinomial linear regression model...\")\n",
    "    # Train logistic regression model\n",
    "    model = LogisticRegression(multi_class='multinomial', solver='lbfgs')\n",
    "    model.fit(X_train, y_train.values.ravel())\n",
    "    print(\"Model training phase complete.\")\n",
    "    \n",
    "    # predict X \n",
    "    y_hat = model.predict(X_test)\n",
    "    \n",
    "    # define the model evaluation procedure\n",
    "    cv = RepeatedStratifiedKFold(n_splits=7, n_repeats=3, random_state=42)\n",
    "    \n",
    "    # evaluate the model and collect the scores\n",
    "    n_scores = cross_val_score(model, X_test, y_test.values.ravel(), scoring='accuracy', cv=cv, n_jobs=-1)\n",
    "    \n",
    "    # report the model performance\n",
    "    print(\"Evaluating the performance of model...\")\n",
    "    report = classification_report(y_test.values.ravel(), y_hat)\n",
    "    print(\"Evaluation complete.\")\n",
    "    return report, n_scores"
   ]
  },
  {
   "cell_type": "code",
   "execution_count": 96,
   "id": "renewable-application",
   "metadata": {},
   "outputs": [],
   "source": [
    "def random_forest_classifier(X_train, y_train, X_test, y_test):\n",
    "    \n",
    "    # Train the model\n",
    "    print(\"Training random forest classifier...\")\n",
    "    model = RandomForestClassifier()\n",
    "    model.fit(X_train, y_train.values.ravel())\n",
    "    print(\"Model training phase complete.\")\n",
    "    \n",
    "    # predict X \n",
    "    y_hat = model.predict(X_test)\n",
    "    \n",
    "    # define the model evaluation procedure\n",
    "    cv = RepeatedStratifiedKFold(n_splits=7, n_repeats=3, random_state=42)\n",
    "    \n",
    "    # evaluate the model and collect the scores\n",
    "    n_scores = cross_val_score(model, X_test, y_test.values.ravel(), scoring='accuracy', cv=cv, n_jobs=-1)\n",
    "    \n",
    "    # report the model performance\n",
    "    print(\"Evaluating the performance of model...\")\n",
    "    report = classification_report(y_test.values.ravel(), y_hat)\n",
    "    print(\"Evaluation complete.\")\n",
    "    return report, n_scores"
   ]
  },
  {
   "cell_type": "code",
   "execution_count": 97,
   "id": "hawaiian-denial",
   "metadata": {
    "scrolled": true
   },
   "outputs": [],
   "source": [
    "def multi_layer_perceptron_classifier(X_train, y_train, X_test, y_test):\n",
    "    print(\"Training multi-layer perceptron classifier...\")\n",
    "    model = MLPClassifier(hidden_layer_sizes=1, activation=\"logistic\", random_state = 42).fit(X_train, y_train)\n",
    "    model.fit(X_train, y_train.values.ravel())\n",
    "    print(\"Model training phase complete.\")\n",
    "    \n",
    "    # predict X \n",
    "    y_hat = model.predict(X_test)\n",
    "    \n",
    "    # define the model evaluation procedure\n",
    "    cv = RepeatedStratifiedKFold(n_splits=7, n_repeats=3, random_state=42)\n",
    "    \n",
    "    # evaluate the model and collect the scores\n",
    "    n_scores = cross_val_score(model, X_test, y_test.values.ravel(), scoring='accuracy', cv=cv, n_jobs=-1)\n",
    "    \n",
    "    # report the model performance\n",
    "    print(\"Evaluating the performance of model...\")\n",
    "    report = classification_report(y_test.values.ravel(), y_hat)\n",
    "    print(\"Evaluation complete.\")\n",
    "    return report, n_scores"
   ]
  },
  {
   "cell_type": "code",
   "execution_count": 98,
   "id": "cf117485",
   "metadata": {},
   "outputs": [],
   "source": [
    "def naive_bayes(X_train, y_train, X_test, y_test):\n",
    "    # Train the model\n",
    "    print(\"Training random forest classifier...\")\n",
    "    scaler = MinMaxScaler()\n",
    "    scaler.fit(X_train)\n",
    "    X_train = scaler.transform(X_train)\n",
    "    scaler.fit(X_test)\n",
    "    X_test = scaler.transform(X_test)\n",
    "    \n",
    "    model = MultinomialNB()\n",
    "    model.fit(X_train, y_train.values.ravel())\n",
    "    print(\"Model training phase complete.\")\n",
    "    \n",
    "    # predict X \n",
    "    y_hat = model.predict(X_test)\n",
    "    \n",
    "    # define the model evaluation procedure\n",
    "    cv = RepeatedStratifiedKFold(n_splits=7, n_repeats=3, random_state=42)\n",
    "    \n",
    "    # evaluate the model and collect the scores\n",
    "    n_scores = cross_val_score(model, X_test, y_test.values.ravel(), scoring='accuracy', cv=cv, n_jobs=-1)\n",
    "    \n",
    "    # report the model performance\n",
    "    print(\"Evaluating the performance of model...\")\n",
    "    report = classification_report(y_test.values.ravel(), y_hat)\n",
    "    print(\"Evaluation complete.\")\n",
    "    return report, n_scores"
   ]
  },
  {
   "cell_type": "code",
   "execution_count": 99,
   "id": "8f9c6947",
   "metadata": {},
   "outputs": [],
   "source": [
    "def k_nearest(X_train, y_train, X_test, y_test):\n",
    "    # Train the model\n",
    "    print(\"Training model...\")\n",
    "    model = KNeighborsClassifier()\n",
    "    model.fit(X_train, y_train.values.ravel())\n",
    "    print(\"Model training phase complete.\")\n",
    "    \n",
    "    # predict X \n",
    "    y_hat = model.predict(X_test)\n",
    "    \n",
    "    # define the model evaluation procedure\n",
    "    cv = RepeatedStratifiedKFold(n_splits=7, n_repeats=3, random_state=42)\n",
    "    \n",
    "    # evaluate the model and collect the scores\n",
    "    n_scores = cross_val_score(model, X_test, y_test.values.ravel(), scoring='accuracy', cv=cv, n_jobs=-1)\n",
    "    \n",
    "    # report the model performance\n",
    "    print(\"Evaluating the performance of model...\")\n",
    "    report = classification_report(y_test.values.ravel(), y_hat)\n",
    "    print(\"Evaluation complete.\")\n",
    "    return report, n_scores"
   ]
  },
  {
   "cell_type": "markdown",
   "id": "a010ef1a",
   "metadata": {},
   "source": [
    "# Model Accuracy and Results"
   ]
  },
  {
   "cell_type": "code",
   "execution_count": 100,
   "id": "74b62969",
   "metadata": {},
   "outputs": [],
   "source": [
    "def show_results(feature_selection_method, model_type, outlier_dec):\n",
    "    X_train, X_test, y_train, y_test = choose_feature_selection_method(feature_selection_method, outlier_dec)\n",
    "    \n",
    "    if model_type == \"rf\":\n",
    "        report, n_scores = random_forest_classifier(X_train, y_train, X_test, y_test)\n",
    "        \n",
    "    elif model_type == \"lr\":\n",
    "        report, n_scores = multi_log_regr(X_train, y_train, X_test, y_test)\n",
    "        \n",
    "    elif model_type == \"nb\":\n",
    "        report, n_scores = naive_bayes(X_train, y_train, X_test, y_test)\n",
    "        \n",
    "    elif model_type == \"knn\":\n",
    "        report, n_scores = k_nearest(X_train, y_train, X_test, y_test)\n",
    "    \n",
    "    elif model_type == \"mlp\":\n",
    "        report, n_scores =  multi_layer_perceptron_classifier(X_train, y_train, X_test, y_test)\n",
    "        \n",
    "    else:\n",
    "        print(\"Error with model name.\")\n",
    "        \n",
    "    return report, n_scores"
   ]
  },
  {
   "cell_type": "markdown",
   "id": "5fb5d530",
   "metadata": {},
   "source": [
    " ### Below is a key for the parameters of 'show_results(feature_selection, model_type, outlier course of action)'\n",
    " #### Feature Selection:\n",
    " \n",
    "     1) 'uni' ---> Univariate Selection\n",
    "     2) 'pca' ---> Principle Component Analysis \n",
    "     3) 'none'---> Keep all the features\n",
    " \n",
    " #### Model Type\n",
    "     1) 'rf' ---> random forest\n",
    "     2) 'lr' ---> multinomial logistic regression\n",
    "     3) 'knn'---> K nearest neighbor\n",
    "     4) 'nb' ---> Naive Bayes\n",
    "     5) 'mlp' --> multilayer perceptron \n",
    "     \n",
    " #### Outlier course of Action\n",
    "     1) 'remove' ---> remove outliers\n",
    "     2) 'replace' ---> replace outliers \n",
    "     3) 'do nothing'---> keep all the outliers as is\n",
    "     \n",
    "Feel free to play around with the parameters passed in show_results below. Here are some of the most successful models. "
   ]
  },
  {
   "cell_type": "markdown",
   "id": "9280966d",
   "metadata": {},
   "source": [
    "## Random Forest Classifier"
   ]
  },
  {
   "cell_type": "code",
   "execution_count": 102,
   "id": "d3d7738a",
   "metadata": {},
   "outputs": [
    {
     "name": "stdout",
     "output_type": "stream",
     "text": [
      "Univariate Selection ...\n",
      "Sending data through a pipeline using  uni ...\n",
      "data/genres_v2.csv successfully loaded into pandas dataframe 'genres_df'\n",
      "Making a copy of 'data_frame' called 'df'...\n",
      "Dropping features...\n",
      "Keeping:  \n",
      "\n",
      " ['danceability', 'energy', 'key', 'loudness', 'speechiness', 'acousticness', 'instrumentalness', 'liveness', 'valence', 'tempo', 'duration_ms', 'mode', 'genre'] \n",
      " \n",
      "\n",
      "Done.\n",
      "Encoding target data...\n",
      "\n",
      "Target data encoded with LabelEncoder.\n",
      "\n",
      "Continuing with outliers in dataframe...\n",
      "Seperating target variable 'genre' from dataset X...\n",
      "Choosing which features to select using univariate_selection...\n",
      " \n",
      "Feature selection done.\n",
      "\n",
      "Training random forest classifier...\n",
      "Model training phase complete.\n",
      "Evaluating the performance of model...\n",
      "Evaluation complete.\n"
     ]
    }
   ],
   "source": [
    "report, n_scores = show_results(\"uni\", \"rf\", \"do nothing\")"
   ]
  },
  {
   "cell_type": "code",
   "execution_count": 103,
   "id": "b841a0b8",
   "metadata": {},
   "outputs": [
    {
     "name": "stdout",
     "output_type": "stream",
     "text": [
      "              precision    recall  f1-score   support\n",
      "\n",
      "           0       0.53      0.46      0.49      1077\n",
      "           1       0.72      0.71      0.72       380\n",
      "           2       0.42      0.41      0.41       685\n",
      "           3       0.25      0.10      0.14       109\n",
      "           4       0.48      0.32      0.39       383\n",
      "           5       0.41      0.37      0.39       446\n",
      "           6       0.36      0.28      0.32       427\n",
      "           7       0.38      0.50      0.44      1324\n",
      "           8       0.96      0.99      0.97       673\n",
      "           9       0.89      0.93      0.91       667\n",
      "          10       0.93      0.93      0.93       652\n",
      "          11       0.87      0.91      0.89       633\n",
      "          12       0.86      0.86      0.86       658\n",
      "          13       0.84      0.87      0.86       634\n",
      "          14       0.87      0.86      0.86       644\n",
      "\n",
      "    accuracy                           0.67      9392\n",
      "   macro avg       0.65      0.63      0.64      9392\n",
      "weighted avg       0.67      0.67      0.66      9392\n",
      "\n"
     ]
    }
   ],
   "source": [
    "print(report)"
   ]
  },
  {
   "cell_type": "markdown",
   "id": "7a2e72a1",
   "metadata": {},
   "source": [
    "## Logistic Regression"
   ]
  },
  {
   "cell_type": "code",
   "execution_count": 104,
   "id": "7f2cd7e7",
   "metadata": {},
   "outputs": [
    {
     "name": "stdout",
     "output_type": "stream",
     "text": [
      "None\n",
      "Sending data through a pipeline using  none ...\n",
      "data/genres_v2.csv successfully loaded into pandas dataframe 'genres_df'\n",
      "Making a copy of 'data_frame' called 'df'...\n",
      "Dropping features...\n",
      "Keeping:  \n",
      "\n",
      " ['danceability', 'energy', 'key', 'loudness', 'speechiness', 'acousticness', 'instrumentalness', 'liveness', 'valence', 'tempo', 'duration_ms', 'mode', 'genre'] \n",
      " \n",
      "\n",
      "Done.\n",
      "Encoding target data...\n",
      "\n",
      "Target data encoded with LabelEncoder.\n",
      "\n",
      "Continuing with outliers in dataframe...\n",
      "Seperating target variable 'genre' from dataset X...\n",
      "Keeping all features\n",
      "Traininig multinomial linear regression model...\n"
     ]
    },
    {
     "name": "stderr",
     "output_type": "stream",
     "text": [
      "/Users/lucasnieddu/opt/anaconda3/lib/python3.8/site-packages/sklearn/linear_model/_logistic.py:763: ConvergenceWarning: lbfgs failed to converge (status=1):\n",
      "STOP: TOTAL NO. of ITERATIONS REACHED LIMIT.\n",
      "\n",
      "Increase the number of iterations (max_iter) or scale the data as shown in:\n",
      "    https://scikit-learn.org/stable/modules/preprocessing.html\n",
      "Please also refer to the documentation for alternative solver options:\n",
      "    https://scikit-learn.org/stable/modules/linear_model.html#logistic-regression\n",
      "  n_iter_i = _check_optimize_result(\n"
     ]
    },
    {
     "name": "stdout",
     "output_type": "stream",
     "text": [
      "Model training phase complete.\n",
      "Evaluating the performance of model...\n",
      "Evaluation complete.\n"
     ]
    }
   ],
   "source": [
    "report, n_scores = show_results(\"none\", \"lr\", \"do nothing\")"
   ]
  },
  {
   "cell_type": "code",
   "execution_count": 105,
   "id": "933fa69b",
   "metadata": {},
   "outputs": [
    {
     "name": "stdout",
     "output_type": "stream",
     "text": [
      "              precision    recall  f1-score   support\n",
      "\n",
      "           0       0.50      0.40      0.44      1077\n",
      "           1       0.42      0.50      0.46       380\n",
      "           2       0.45      0.37      0.41       685\n",
      "           3       0.50      0.01      0.02       109\n",
      "           4       0.46      0.31      0.37       383\n",
      "           5       0.38      0.28      0.32       446\n",
      "           6       0.44      0.16      0.23       427\n",
      "           7       0.44      0.66      0.53      1324\n",
      "           8       0.77      0.80      0.78       673\n",
      "           9       0.55      0.62      0.58       667\n",
      "          10       0.76      0.81      0.79       652\n",
      "          11       0.73      0.78      0.75       633\n",
      "          12       0.75      0.78      0.76       658\n",
      "          13       0.63      0.61      0.62       634\n",
      "          14       0.65      0.69      0.67       644\n",
      "\n",
      "    accuracy                           0.57      9392\n",
      "   macro avg       0.56      0.52      0.52      9392\n",
      "weighted avg       0.57      0.57      0.56      9392\n",
      "\n"
     ]
    }
   ],
   "source": [
    "print(report)"
   ]
  },
  {
   "cell_type": "markdown",
   "id": "0d54c3c2",
   "metadata": {},
   "source": [
    "## Naive Bayes"
   ]
  },
  {
   "cell_type": "code",
   "execution_count": 108,
   "id": "ea03ffaf",
   "metadata": {},
   "outputs": [
    {
     "name": "stdout",
     "output_type": "stream",
     "text": [
      "None\n",
      "Sending data through a pipeline using  none ...\n",
      "data/genres_v2.csv successfully loaded into pandas dataframe 'genres_df'\n",
      "Making a copy of 'data_frame' called 'df'...\n",
      "Dropping features...\n",
      "Keeping:  \n",
      "\n",
      " ['danceability', 'energy', 'key', 'loudness', 'speechiness', 'acousticness', 'instrumentalness', 'liveness', 'valence', 'tempo', 'duration_ms', 'mode', 'genre'] \n",
      " \n",
      "\n",
      "Done.\n",
      "Encoding target data...\n",
      "\n",
      "Target data encoded with LabelEncoder.\n",
      "\n",
      "Replacing outliers with the median of each feature...\n",
      "\n",
      "danceability\n",
      "energy\n",
      "key\n",
      "loudness\n",
      "speechiness\n",
      "acousticness\n",
      "instrumentalness\n",
      "liveness\n",
      "valence\n",
      "tempo\n",
      "duration_ms\n",
      "mode\n",
      "Outliers replaced.\n",
      "Seperating target variable 'genre' from dataset X...\n",
      "Keeping all features\n",
      "Training random forest classifier...\n",
      "Model training phase complete.\n",
      "Evaluating the performance of model...\n",
      "Evaluation complete.\n"
     ]
    },
    {
     "name": "stderr",
     "output_type": "stream",
     "text": [
      "/Users/lucasnieddu/opt/anaconda3/lib/python3.8/site-packages/sklearn/metrics/_classification.py:1245: UndefinedMetricWarning: Precision and F-score are ill-defined and being set to 0.0 in labels with no predicted samples. Use `zero_division` parameter to control this behavior.\n",
      "  _warn_prf(average, modifier, msg_start, len(result))\n",
      "/Users/lucasnieddu/opt/anaconda3/lib/python3.8/site-packages/sklearn/metrics/_classification.py:1245: UndefinedMetricWarning: Precision and F-score are ill-defined and being set to 0.0 in labels with no predicted samples. Use `zero_division` parameter to control this behavior.\n",
      "  _warn_prf(average, modifier, msg_start, len(result))\n",
      "/Users/lucasnieddu/opt/anaconda3/lib/python3.8/site-packages/sklearn/metrics/_classification.py:1245: UndefinedMetricWarning: Precision and F-score are ill-defined and being set to 0.0 in labels with no predicted samples. Use `zero_division` parameter to control this behavior.\n",
      "  _warn_prf(average, modifier, msg_start, len(result))\n"
     ]
    }
   ],
   "source": [
    "report, n_scores = show_results(\"none\", \"nb\", \"replace\")"
   ]
  },
  {
   "cell_type": "code",
   "execution_count": 109,
   "id": "41d45c33",
   "metadata": {},
   "outputs": [
    {
     "name": "stdout",
     "output_type": "stream",
     "text": [
      "              precision    recall  f1-score   support\n",
      "\n",
      "           0       0.28      0.23      0.25      1077\n",
      "           1       0.00      0.00      0.00       380\n",
      "           2       0.00      0.00      0.00       685\n",
      "           3       0.00      0.00      0.00       109\n",
      "           4       0.00      0.00      0.00       383\n",
      "           5       0.00      0.00      0.00       446\n",
      "           6       0.00      0.00      0.00       427\n",
      "           7       0.24      0.96      0.38      1324\n",
      "           8       0.83      0.35      0.50       673\n",
      "           9       0.38      0.23      0.29       667\n",
      "          10       0.49      0.54      0.51       652\n",
      "          11       0.69      0.53      0.60       633\n",
      "          12       0.66      0.65      0.65       658\n",
      "          13       0.42      0.30      0.35       634\n",
      "          14       0.56      0.15      0.24       644\n",
      "\n",
      "    accuracy                           0.35      9392\n",
      "   macro avg       0.30      0.26      0.25      9392\n",
      "weighted avg       0.35      0.35      0.30      9392\n",
      "\n"
     ]
    }
   ],
   "source": [
    "print(report)"
   ]
  },
  {
   "cell_type": "markdown",
   "id": "36c6f1e2",
   "metadata": {},
   "source": [
    "## K nearest Neighbor"
   ]
  },
  {
   "cell_type": "code",
   "execution_count": 110,
   "id": "8643c305",
   "metadata": {},
   "outputs": [
    {
     "name": "stdout",
     "output_type": "stream",
     "text": [
      "Univariate Selection ...\n",
      "Sending data through a pipeline using  uni ...\n",
      "data/genres_v2.csv successfully loaded into pandas dataframe 'genres_df'\n",
      "Making a copy of 'data_frame' called 'df'...\n",
      "Dropping features...\n",
      "Keeping:  \n",
      "\n",
      " ['danceability', 'energy', 'key', 'loudness', 'speechiness', 'acousticness', 'instrumentalness', 'liveness', 'valence', 'tempo', 'duration_ms', 'mode', 'genre'] \n",
      " \n",
      "\n",
      "Done.\n",
      "Encoding target data...\n",
      "\n",
      "Target data encoded with LabelEncoder.\n",
      "\n",
      "Replacing outliers with the median of each feature...\n",
      "\n",
      "danceability\n",
      "energy\n",
      "key\n",
      "loudness\n",
      "speechiness\n",
      "acousticness\n",
      "instrumentalness\n",
      "liveness\n",
      "valence\n",
      "tempo\n",
      "duration_ms\n",
      "mode\n",
      "Outliers replaced.\n",
      "Seperating target variable 'genre' from dataset X...\n",
      "Choosing which features to select using univariate_selection...\n",
      " \n",
      "Feature selection done.\n",
      "\n",
      "Training model...\n",
      "Model training phase complete.\n",
      "Evaluating the performance of model...\n",
      "Evaluation complete.\n"
     ]
    }
   ],
   "source": [
    "report, n_scores = show_results(\"uni\", \"knn\", \"replace\")"
   ]
  },
  {
   "cell_type": "code",
   "execution_count": 111,
   "id": "5dbbd7f3",
   "metadata": {},
   "outputs": [
    {
     "name": "stdout",
     "output_type": "stream",
     "text": [
      "              precision    recall  f1-score   support\n",
      "\n",
      "           0       0.32      0.36      0.34      1077\n",
      "           1       0.42      0.46      0.44       380\n",
      "           2       0.31      0.32      0.32       685\n",
      "           3       0.08      0.04      0.05       109\n",
      "           4       0.12      0.13      0.13       383\n",
      "           5       0.26      0.20      0.23       446\n",
      "           6       0.25      0.14      0.18       427\n",
      "           7       0.36      0.36      0.36      1324\n",
      "           8       0.79      0.72      0.75       673\n",
      "           9       0.51      0.63      0.56       667\n",
      "          10       0.60      0.73      0.66       652\n",
      "          11       0.66      0.70      0.68       633\n",
      "          12       0.69      0.69      0.69       658\n",
      "          13       0.59      0.48      0.53       634\n",
      "          14       0.60      0.61      0.60       644\n",
      "\n",
      "    accuracy                           0.47      9392\n",
      "   macro avg       0.44      0.44      0.43      9392\n",
      "weighted avg       0.46      0.47      0.47      9392\n",
      "\n"
     ]
    }
   ],
   "source": [
    "print(report)"
   ]
  },
  {
   "cell_type": "markdown",
   "id": "668d8085",
   "metadata": {},
   "source": [
    "## Multilayer Perceptron Classifier"
   ]
  },
  {
   "cell_type": "code",
   "execution_count": 112,
   "id": "1d2077aa",
   "metadata": {},
   "outputs": [
    {
     "name": "stdout",
     "output_type": "stream",
     "text": [
      "None\n",
      "Sending data through a pipeline using  none ...\n",
      "data/genres_v2.csv successfully loaded into pandas dataframe 'genres_df'\n",
      "Making a copy of 'data_frame' called 'df'...\n",
      "Dropping features...\n",
      "Keeping:  \n",
      "\n",
      " ['danceability', 'energy', 'key', 'loudness', 'speechiness', 'acousticness', 'instrumentalness', 'liveness', 'valence', 'tempo', 'duration_ms', 'mode', 'genre'] \n",
      " \n",
      "\n",
      "Done.\n",
      "Encoding target data...\n",
      "\n",
      "Target data encoded with LabelEncoder.\n",
      "\n",
      "Removing outliers...\n",
      "\n",
      "Outliers removed.\n",
      "Seperating target variable 'genre' from dataset X...\n",
      "Keeping all features\n",
      "Training multi-layer perceptron classifier...\n"
     ]
    },
    {
     "name": "stderr",
     "output_type": "stream",
     "text": [
      "/Users/lucasnieddu/opt/anaconda3/lib/python3.8/site-packages/sklearn/utils/validation.py:63: DataConversionWarning: A column-vector y was passed when a 1d array was expected. Please change the shape of y to (n_samples, ), for example using ravel().\n",
      "  return f(*args, **kwargs)\n",
      "/Users/lucasnieddu/opt/anaconda3/lib/python3.8/site-packages/sklearn/neural_network/_multilayer_perceptron.py:614: ConvergenceWarning: Stochastic Optimizer: Maximum iterations (200) reached and the optimization hasn't converged yet.\n",
      "  warnings.warn(\n",
      "/Users/lucasnieddu/opt/anaconda3/lib/python3.8/site-packages/sklearn/neural_network/_multilayer_perceptron.py:614: ConvergenceWarning: Stochastic Optimizer: Maximum iterations (200) reached and the optimization hasn't converged yet.\n",
      "  warnings.warn(\n"
     ]
    },
    {
     "name": "stdout",
     "output_type": "stream",
     "text": [
      "Model training phase complete.\n",
      "Evaluating the performance of model...\n",
      "Evaluation complete.\n"
     ]
    },
    {
     "name": "stderr",
     "output_type": "stream",
     "text": [
      "/Users/lucasnieddu/opt/anaconda3/lib/python3.8/site-packages/sklearn/metrics/_classification.py:1245: UndefinedMetricWarning: Precision and F-score are ill-defined and being set to 0.0 in labels with no predicted samples. Use `zero_division` parameter to control this behavior.\n",
      "  _warn_prf(average, modifier, msg_start, len(result))\n",
      "/Users/lucasnieddu/opt/anaconda3/lib/python3.8/site-packages/sklearn/metrics/_classification.py:1245: UndefinedMetricWarning: Precision and F-score are ill-defined and being set to 0.0 in labels with no predicted samples. Use `zero_division` parameter to control this behavior.\n",
      "  _warn_prf(average, modifier, msg_start, len(result))\n",
      "/Users/lucasnieddu/opt/anaconda3/lib/python3.8/site-packages/sklearn/metrics/_classification.py:1245: UndefinedMetricWarning: Precision and F-score are ill-defined and being set to 0.0 in labels with no predicted samples. Use `zero_division` parameter to control this behavior.\n",
      "  _warn_prf(average, modifier, msg_start, len(result))\n"
     ]
    }
   ],
   "source": [
    "report, n_scores = show_results(\"none\", \"mlp\", \"remove\")"
   ]
  },
  {
   "cell_type": "code",
   "execution_count": 113,
   "id": "6a28559f",
   "metadata": {},
   "outputs": [
    {
     "name": "stdout",
     "output_type": "stream",
     "text": [
      "              precision    recall  f1-score   support\n",
      "\n",
      "           0       0.11      0.21      0.14       620\n",
      "           1       0.00      0.00      0.00       265\n",
      "           2       0.00      0.00      0.00       389\n",
      "           3       0.00      0.00      0.00        67\n",
      "           4       0.00      0.00      0.00       219\n",
      "           5       0.00      0.00      0.00       273\n",
      "           6       0.00      0.00      0.00       248\n",
      "           7       0.33      0.92      0.48       789\n",
      "           8       0.22      0.39      0.28       552\n",
      "           9       0.20      0.15      0.17       516\n",
      "          10       0.00      0.00      0.00       292\n",
      "          11       0.00      0.00      0.00       502\n",
      "          12       0.33      0.82      0.47       468\n",
      "          13       0.17      0.05      0.07       493\n",
      "          14       0.00      0.00      0.00       464\n",
      "\n",
      "    accuracy                           0.25      6157\n",
      "   macro avg       0.09      0.17      0.11      6157\n",
      "weighted avg       0.13      0.25      0.16      6157\n",
      "\n"
     ]
    }
   ],
   "source": [
    "print(report)"
   ]
  },
  {
   "cell_type": "markdown",
   "id": "f18c8a83",
   "metadata": {},
   "source": [
    "# Summary/ Final Thoughts:\n",
    "- I would like to play around some more with the parameters and maybe do a grid search to find the best combination of paremeters for better accuracy\n",
    "- The random forest classifier was the winner at 67 percent accuracy. \n",
    "- Mulit layer perceptron did not do very good at all. I almost left it out completely. \n",
    "- There is a lot more that can be done do better the accuracy\n",
    "- This was a fun project to get familiar with different machine learning techniques. \n",
    "- Outliers, I believe, is the biggest problem for the model accuracy in this particular problem.\n",
    "- Verdict? ---> Super successfull and fun. \n",
    "   "
   ]
  },
  {
   "cell_type": "code",
   "execution_count": null,
   "id": "b1b94f8e",
   "metadata": {},
   "outputs": [],
   "source": []
  }
 ],
 "metadata": {
  "kernelspec": {
   "display_name": "Python 3",
   "language": "python",
   "name": "python3"
  },
  "language_info": {
   "codemirror_mode": {
    "name": "ipython",
    "version": 3
   },
   "file_extension": ".py",
   "mimetype": "text/x-python",
   "name": "python",
   "nbconvert_exporter": "python",
   "pygments_lexer": "ipython3",
   "version": "3.9.1"
  }
 },
 "nbformat": 4,
 "nbformat_minor": 5
}
